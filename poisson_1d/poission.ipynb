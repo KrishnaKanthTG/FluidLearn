{
 "cells": [
  {
   "cell_type": "markdown",
   "metadata": {},
   "source": [
    "# Modelling poisson using PINN"
   ]
  },
  {
   "cell_type": "markdown",
   "metadata": {},
   "source": [
    "Solving the poisson equation $-\\Delta u = f$ using a physics informed neural network "
   ]
  },
  {
   "cell_type": "markdown",
   "metadata": {},
   "source": [
    "## 1D problem"
   ]
  },
  {
   "cell_type": "markdown",
   "metadata": {},
   "source": [
    "### Manufactured solution\n"
   ]
  },
  {
   "cell_type": "markdown",
   "metadata": {},
   "source": [
    "We use $u = sin(2*x)$ for $x\\in [0,4]$ to manufacture the right hand side to be $f=sin(x)$"
   ]
  },
  {
   "cell_type": "markdown",
   "metadata": {},
   "source": [
    "### Importing packages"
   ]
  },
  {
   "cell_type": "code",
   "execution_count": 77,
   "metadata": {},
   "outputs": [],
   "source": [
    "import numpy as np\n",
    "import tensorflow as tf\n",
    "from tensorflow import keras\n",
    "import pandas as pd\n",
    "import matplotlib.pyplot as plt\n",
    "%matplotlib inline"
   ]
  },
  {
   "cell_type": "markdown",
   "metadata": {},
   "source": [
    "### Manufacturing data for trainig"
   ]
  },
  {
   "cell_type": "code",
   "execution_count": 78,
   "metadata": {},
   "outputs": [],
   "source": [
    "np.random.seed(123)\n",
    "X_tr_pde = np.random.uniform(0,2*np.pi,1000).reshape(1000,1)\n"
   ]
  },
  {
   "cell_type": "markdown",
   "metadata": {},
   "source": [
    "#### Plotting histogram of randomly selected points to make sure they are uniformly distributed "
   ]
  },
  {
   "cell_type": "code",
   "execution_count": 79,
   "metadata": {},
   "outputs": [
    {
     "data": {
      "text/plain": [
       "Text(0, 0.5, 'frequency ')"
      ]
     },
     "execution_count": 79,
     "metadata": {},
     "output_type": "execute_result"
    },
    {
     "data": {
      "image/png": "[encoded data removed]",
      "text/plain": [
       "<Figure size 432x288 with 1 Axes>"
      ]
     },
     "metadata": {
      "needs_background": "light"
     },
     "output_type": "display_data"
    }
   ],
   "source": [
    "plt.hist(X_tr_pde)\n",
    "plt.xlabel(\"training points\")\n",
    "plt.ylabel(\"frequency \")"
   ]
  },
  {
   "cell_type": "code",
   "execution_count": 80,
   "metadata": {},
   "outputs": [
    {
     "data": {
      "text/plain": [
       "<matplotlib.collections.PathCollection at 0x7f1bd1bf6b20>"
      ]
     },
     "execution_count": 80,
     "metadata": {},
     "output_type": "execute_result"
    },
    {
     "data": {
      "image/png": "[encoded data removed]",
      "text/plain": [
       "<Figure size 432x288 with 1 Axes>"
      ]
     },
     "metadata": {
      "needs_background": "light"
     },
     "output_type": "display_data"
    }
   ],
   "source": [
    "Y_tr_pde = 2*np.cos(2*X_tr_pde)\n",
    "plt.scatter(X_tr_pde,Y_tr_pde)"
   ]
  },
  {
   "cell_type": "code",
   "execution_count": 81,
   "metadata": {},
   "outputs": [
    {
     "data": {
      "text/plain": [
       "(1000, 2)"
      ]
     },
     "execution_count": 81,
     "metadata": {},
     "output_type": "execute_result"
    }
   ],
   "source": [
    "Y_tr_pde = np.concatenate([Y_tr_pde,np.zeros((X_tr_pde.size,1))],axis=1)\n",
    "Y_tr_pde.shape"
   ]
  },
  {
   "cell_type": "code",
   "execution_count": 82,
   "metadata": {},
   "outputs": [
    {
     "data": {
      "text/plain": [
       "array([[ 0.0000000e+00,  1.0000000e+00],\n",
       "       [ 0.0000000e+00,  1.0000000e+00],\n",
       "       [ 0.0000000e+00,  1.0000000e+00],\n",
       "       [ 0.0000000e+00,  1.0000000e+00],\n",
       "       [ 0.0000000e+00,  1.0000000e+00],\n",
       "       [ 0.0000000e+00,  1.0000000e+00],\n",
       "       [ 0.0000000e+00,  1.0000000e+00],\n",
       "       [ 0.0000000e+00,  1.0000000e+00],\n",
       "       [ 0.0000000e+00,  1.0000000e+00],\n",
       "       [ 0.0000000e+00,  1.0000000e+00],\n",
       "       [ 0.0000000e+00,  1.0000000e+00],\n",
       "       [ 0.0000000e+00,  1.0000000e+00],\n",
       "       [ 0.0000000e+00,  1.0000000e+00],\n",
       "       [ 0.0000000e+00,  1.0000000e+00],\n",
       "       [ 0.0000000e+00,  1.0000000e+00],\n",
       "       [ 0.0000000e+00,  1.0000000e+00],\n",
       "       [ 0.0000000e+00,  1.0000000e+00],\n",
       "       [ 0.0000000e+00,  1.0000000e+00],\n",
       "       [ 0.0000000e+00,  1.0000000e+00],\n",
       "       [ 0.0000000e+00,  1.0000000e+00],\n",
       "       [ 0.0000000e+00,  1.0000000e+00],\n",
       "       [ 0.0000000e+00,  1.0000000e+00],\n",
       "       [ 0.0000000e+00,  1.0000000e+00],\n",
       "       [ 0.0000000e+00,  1.0000000e+00],\n",
       "       [ 0.0000000e+00,  1.0000000e+00],\n",
       "       [ 0.0000000e+00,  1.0000000e+00],\n",
       "       [ 0.0000000e+00,  1.0000000e+00],\n",
       "       [ 0.0000000e+00,  1.0000000e+00],\n",
       "       [ 0.0000000e+00,  1.0000000e+00],\n",
       "       [ 0.0000000e+00,  1.0000000e+00],\n",
       "       [ 0.0000000e+00,  1.0000000e+00],\n",
       "       [ 0.0000000e+00,  1.0000000e+00],\n",
       "       [ 0.0000000e+00,  1.0000000e+00],\n",
       "       [ 0.0000000e+00,  1.0000000e+00],\n",
       "       [ 0.0000000e+00,  1.0000000e+00],\n",
       "       [ 0.0000000e+00,  1.0000000e+00],\n",
       "       [ 0.0000000e+00,  1.0000000e+00],\n",
       "       [ 0.0000000e+00,  1.0000000e+00],\n",
       "       [ 0.0000000e+00,  1.0000000e+00],\n",
       "       [ 0.0000000e+00,  1.0000000e+00],\n",
       "       [ 0.0000000e+00,  1.0000000e+00],\n",
       "       [ 0.0000000e+00,  1.0000000e+00],\n",
       "       [ 0.0000000e+00,  1.0000000e+00],\n",
       "       [ 0.0000000e+00,  1.0000000e+00],\n",
       "       [ 0.0000000e+00,  1.0000000e+00],\n",
       "       [ 0.0000000e+00,  1.0000000e+00],\n",
       "       [ 0.0000000e+00,  1.0000000e+00],\n",
       "       [ 0.0000000e+00,  1.0000000e+00],\n",
       "       [ 0.0000000e+00,  1.0000000e+00],\n",
       "       [ 0.0000000e+00,  1.0000000e+00],\n",
       "       [ 0.0000000e+00,  1.0000000e+00],\n",
       "       [ 0.0000000e+00,  1.0000000e+00],\n",
       "       [ 0.0000000e+00,  1.0000000e+00],\n",
       "       [ 0.0000000e+00,  1.0000000e+00],\n",
       "       [ 0.0000000e+00,  1.0000000e+00],\n",
       "       [ 0.0000000e+00,  1.0000000e+00],\n",
       "       [ 0.0000000e+00,  1.0000000e+00],\n",
       "       [ 0.0000000e+00,  1.0000000e+00],\n",
       "       [ 0.0000000e+00,  1.0000000e+00],\n",
       "       [ 0.0000000e+00,  1.0000000e+00],\n",
       "       [ 0.0000000e+00,  1.0000000e+00],\n",
       "       [ 0.0000000e+00,  1.0000000e+00],\n",
       "       [ 0.0000000e+00,  1.0000000e+00],\n",
       "       [ 0.0000000e+00,  1.0000000e+00],\n",
       "       [ 0.0000000e+00,  1.0000000e+00],\n",
       "       [ 0.0000000e+00,  1.0000000e+00],\n",
       "       [ 0.0000000e+00,  1.0000000e+00],\n",
       "       [ 0.0000000e+00,  1.0000000e+00],\n",
       "       [ 0.0000000e+00,  1.0000000e+00],\n",
       "       [ 0.0000000e+00,  1.0000000e+00],\n",
       "       [ 0.0000000e+00,  1.0000000e+00],\n",
       "       [ 0.0000000e+00,  1.0000000e+00],\n",
       "       [ 0.0000000e+00,  1.0000000e+00],\n",
       "       [ 0.0000000e+00,  1.0000000e+00],\n",
       "       [ 0.0000000e+00,  1.0000000e+00],\n",
       "       [ 0.0000000e+00,  1.0000000e+00],\n",
       "       [ 0.0000000e+00,  1.0000000e+00],\n",
       "       [ 0.0000000e+00,  1.0000000e+00],\n",
       "       [ 0.0000000e+00,  1.0000000e+00],\n",
       "       [ 0.0000000e+00,  1.0000000e+00],\n",
       "       [ 0.0000000e+00,  1.0000000e+00],\n",
       "       [ 0.0000000e+00,  1.0000000e+00],\n",
       "       [ 0.0000000e+00,  1.0000000e+00],\n",
       "       [ 0.0000000e+00,  1.0000000e+00],\n",
       "       [ 0.0000000e+00,  1.0000000e+00],\n",
       "       [ 0.0000000e+00,  1.0000000e+00],\n",
       "       [ 0.0000000e+00,  1.0000000e+00],\n",
       "       [ 0.0000000e+00,  1.0000000e+00],\n",
       "       [ 0.0000000e+00,  1.0000000e+00],\n",
       "       [ 0.0000000e+00,  1.0000000e+00],\n",
       "       [ 0.0000000e+00,  1.0000000e+00],\n",
       "       [ 0.0000000e+00,  1.0000000e+00],\n",
       "       [ 0.0000000e+00,  1.0000000e+00],\n",
       "       [ 0.0000000e+00,  1.0000000e+00],\n",
       "       [ 0.0000000e+00,  1.0000000e+00],\n",
       "       [ 0.0000000e+00,  1.0000000e+00],\n",
       "       [ 0.0000000e+00,  1.0000000e+00],\n",
       "       [ 0.0000000e+00,  1.0000000e+00],\n",
       "       [ 0.0000000e+00,  1.0000000e+00],\n",
       "       [ 0.0000000e+00,  1.0000000e+00],\n",
       "       [-2.4492936e-16,  1.0000000e+00],\n",
       "       [-2.4492936e-16,  1.0000000e+00],\n",
       "       [-2.4492936e-16,  1.0000000e+00],\n",
       "       [-2.4492936e-16,  1.0000000e+00],\n",
       "       [-2.4492936e-16,  1.0000000e+00],\n",
       "       [-2.4492936e-16,  1.0000000e+00],\n",
       "       [-2.4492936e-16,  1.0000000e+00],\n",
       "       [-2.4492936e-16,  1.0000000e+00],\n",
       "       [-2.4492936e-16,  1.0000000e+00],\n",
       "       [-2.4492936e-16,  1.0000000e+00],\n",
       "       [-2.4492936e-16,  1.0000000e+00],\n",
       "       [-2.4492936e-16,  1.0000000e+00],\n",
       "       [-2.4492936e-16,  1.0000000e+00],\n",
       "       [-2.4492936e-16,  1.0000000e+00],\n",
       "       [-2.4492936e-16,  1.0000000e+00],\n",
       "       [-2.4492936e-16,  1.0000000e+00],\n",
       "       [-2.4492936e-16,  1.0000000e+00],\n",
       "       [-2.4492936e-16,  1.0000000e+00],\n",
       "       [-2.4492936e-16,  1.0000000e+00],\n",
       "       [-2.4492936e-16,  1.0000000e+00],\n",
       "       [-2.4492936e-16,  1.0000000e+00],\n",
       "       [-2.4492936e-16,  1.0000000e+00],\n",
       "       [-2.4492936e-16,  1.0000000e+00],\n",
       "       [-2.4492936e-16,  1.0000000e+00],\n",
       "       [-2.4492936e-16,  1.0000000e+00],\n",
       "       [-2.4492936e-16,  1.0000000e+00],\n",
       "       [-2.4492936e-16,  1.0000000e+00],\n",
       "       [-2.4492936e-16,  1.0000000e+00],\n",
       "       [-2.4492936e-16,  1.0000000e+00],\n",
       "       [-2.4492936e-16,  1.0000000e+00],\n",
       "       [-2.4492936e-16,  1.0000000e+00],\n",
       "       [-2.4492936e-16,  1.0000000e+00],\n",
       "       [-2.4492936e-16,  1.0000000e+00],\n",
       "       [-2.4492936e-16,  1.0000000e+00],\n",
       "       [-2.4492936e-16,  1.0000000e+00],\n",
       "       [-2.4492936e-16,  1.0000000e+00],\n",
       "       [-2.4492936e-16,  1.0000000e+00],\n",
       "       [-2.4492936e-16,  1.0000000e+00],\n",
       "       [-2.4492936e-16,  1.0000000e+00],\n",
       "       [-2.4492936e-16,  1.0000000e+00],\n",
       "       [-2.4492936e-16,  1.0000000e+00],\n",
       "       [-2.4492936e-16,  1.0000000e+00],\n",
       "       [-2.4492936e-16,  1.0000000e+00],\n",
       "       [-2.4492936e-16,  1.0000000e+00],\n",
       "       [-2.4492936e-16,  1.0000000e+00],\n",
       "       [-2.4492936e-16,  1.0000000e+00],\n",
       "       [-2.4492936e-16,  1.0000000e+00],\n",
       "       [-2.4492936e-16,  1.0000000e+00],\n",
       "       [-2.4492936e-16,  1.0000000e+00],\n",
       "       [-2.4492936e-16,  1.0000000e+00],\n",
       "       [-2.4492936e-16,  1.0000000e+00],\n",
       "       [-2.4492936e-16,  1.0000000e+00],\n",
       "       [-2.4492936e-16,  1.0000000e+00],\n",
       "       [-2.4492936e-16,  1.0000000e+00],\n",
       "       [-2.4492936e-16,  1.0000000e+00],\n",
       "       [-2.4492936e-16,  1.0000000e+00],\n",
       "       [-2.4492936e-16,  1.0000000e+00],\n",
       "       [-2.4492936e-16,  1.0000000e+00],\n",
       "       [-2.4492936e-16,  1.0000000e+00],\n",
       "       [-2.4492936e-16,  1.0000000e+00],\n",
       "       [-2.4492936e-16,  1.0000000e+00],\n",
       "       [-2.4492936e-16,  1.0000000e+00],\n",
       "       [-2.4492936e-16,  1.0000000e+00],\n",
       "       [-2.4492936e-16,  1.0000000e+00],\n",
       "       [-2.4492936e-16,  1.0000000e+00],\n",
       "       [-2.4492936e-16,  1.0000000e+00],\n",
       "       [-2.4492936e-16,  1.0000000e+00],\n",
       "       [-2.4492936e-16,  1.0000000e+00],\n",
       "       [-2.4492936e-16,  1.0000000e+00],\n",
       "       [-2.4492936e-16,  1.0000000e+00],\n",
       "       [-2.4492936e-16,  1.0000000e+00],\n",
       "       [-2.4492936e-16,  1.0000000e+00],\n",
       "       [-2.4492936e-16,  1.0000000e+00],\n",
       "       [-2.4492936e-16,  1.0000000e+00],\n",
       "       [-2.4492936e-16,  1.0000000e+00],\n",
       "       [-2.4492936e-16,  1.0000000e+00],\n",
       "       [-2.4492936e-16,  1.0000000e+00],\n",
       "       [-2.4492936e-16,  1.0000000e+00],\n",
       "       [-2.4492936e-16,  1.0000000e+00],\n",
       "       [-2.4492936e-16,  1.0000000e+00],\n",
       "       [-2.4492936e-16,  1.0000000e+00],\n",
       "       [-2.4492936e-16,  1.0000000e+00],\n",
       "       [-2.4492936e-16,  1.0000000e+00],\n",
       "       [-2.4492936e-16,  1.0000000e+00],\n",
       "       [-2.4492936e-16,  1.0000000e+00],\n",
       "       [-2.4492936e-16,  1.0000000e+00],\n",
       "       [-2.4492936e-16,  1.0000000e+00],\n",
       "       [-2.4492936e-16,  1.0000000e+00],\n",
       "       [-2.4492936e-16,  1.0000000e+00],\n",
       "       [-2.4492936e-16,  1.0000000e+00],\n",
       "       [-2.4492936e-16,  1.0000000e+00],\n",
       "       [-2.4492936e-16,  1.0000000e+00],\n",
       "       [-2.4492936e-16,  1.0000000e+00],\n",
       "       [-2.4492936e-16,  1.0000000e+00],\n",
       "       [-2.4492936e-16,  1.0000000e+00],\n",
       "       [-2.4492936e-16,  1.0000000e+00],\n",
       "       [-2.4492936e-16,  1.0000000e+00],\n",
       "       [-2.4492936e-16,  1.0000000e+00],\n",
       "       [-2.4492936e-16,  1.0000000e+00],\n",
       "       [-2.4492936e-16,  1.0000000e+00]])"
      ]
     },
     "execution_count": 82,
     "metadata": {},
     "output_type": "execute_result"
    }
   ],
   "source": [
    "X_tr_Dr_bc_left = np.zeros(100).reshape(100,1)\n",
    "X_tr_Dr_bc_right = 2*np.pi*np.ones(100).reshape(100,1)\n",
    "X_bc = np.concatenate([X_tr_Dr_bc_left,X_tr_Dr_bc_right],axis=0)\n",
    "\n",
    "Y_tr_Dr_bc_left = np.sin(X_tr_Dr_bc_left)\n",
    "Y_tr_Dr_bc_right = np.sin(X_tr_Dr_bc_right)\n",
    "Y_tr_bc = np.concatenate([Y_tr_Dr_bc_left,Y_tr_Dr_bc_right],axis=0)\n",
    "Y_tr_bc = np.concatenate([Y_tr_bc,np.ones((200,1))],axis=1)\n",
    "Y_tr_bc"
   ]
  },
  {
   "cell_type": "code",
   "execution_count": 83,
   "metadata": {},
   "outputs": [],
   "source": [
    "X_tr = np.concatenate((X_tr_pde, X_bc), axis=0)\n",
    "Y_tr = np.concatenate((Y_tr_pde, Y_tr_bc), axis=0)"
   ]
  },
  {
   "cell_type": "code",
   "execution_count": 84,
   "metadata": {},
   "outputs": [
    {
     "data": {
      "text/plain": [
       "array([[-1.56429919e+00,  0.00000000e+00],\n",
       "       [-1.79727702e+00,  0.00000000e+00],\n",
       "       [-1.91597615e+00,  0.00000000e+00],\n",
       "       ...,\n",
       "       [-2.44929360e-16,  1.00000000e+00],\n",
       "       [-2.44929360e-16,  1.00000000e+00],\n",
       "       [-2.44929360e-16,  1.00000000e+00]])"
      ]
     },
     "execution_count": 84,
     "metadata": {},
     "output_type": "execute_result"
    }
   ],
   "source": [
    "Y_tr"
   ]
  },
  {
   "cell_type": "markdown",
   "metadata": {},
   "source": [
    "## Training the model"
   ]
  },
  {
   "cell_type": "code",
   "execution_count": 85,
   "metadata": {},
   "outputs": [],
   "source": [
    "from tensorflow.keras import backend as K\n",
    "class CustomModel(tf.keras.Model):\n",
    "\n",
    "    def __init__(self):\n",
    "        super(CustomModel, self).__init__()\n",
    "        self.dense_1 = keras.layers.Dense(30, activation=\"elu\",\n",
    "                                          name=\"dense_1\")\n",
    "        self.dense_2 = keras.layers.Dense(30, activation=\"elu\",\n",
    "                                         name=\"dense_2\")\n",
    "        self.dense_3 = keras.layers.Dense(1,\n",
    "                                         name=\"dense_3\")\n",
    "\n",
    "    def findGrad(self,func,argm):\n",
    "        return keras.layers.Lambda(lambda x: K.gradients(x[0],x[1])) ([func,argm])\n",
    "    \n",
    "    def call(self, inputs):\n",
    "        layer_1 = self.dense_1(inputs)\n",
    "        layer_2 = self.dense_2(layer_1)\n",
    "        layer_3 = self.dense_3(layer_2)\n",
    "        \n",
    "        grad_layer = self.findGrad(layer_3, inputs)\n",
    "#         laplace_layer = self.findGrad(grad_layer, inputs)\n",
    "        \n",
    "        return layer_3, grad_layer\n",
    "\n"
   ]
  },
  {
   "cell_type": "code",
   "execution_count": 86,
   "metadata": {},
   "outputs": [],
   "source": [
    "custom_model = CustomModel()"
   ]
  },
  {
   "cell_type": "code",
   "execution_count": 87,
   "metadata": {},
   "outputs": [],
   "source": [
    "#Loss coming from the boundary terms\n",
    "def u_loss(y_true, y_pred):\n",
    "    y_true_act = y_true[:,:-1]\n",
    "    at_boundary = tf.cast(y_true[:,-1:,],bool)\n",
    "    u_sq_error = (1/2)*tf.square(y_true_act-y_pred)\n",
    "    return tf.where(at_boundary, u_sq_error, 0.)\n",
    "\n",
    "#Loss coming from the PDE constrain\n",
    "def pde_loss(y_true, y_pred):\n",
    "    y_true_act = y_true[:,:-1]\n",
    "    at_boundary = tf.cast(y_true[:,-1:,],bool)\n",
    "    #need to change this to just tf.square(y_pred) after pde constrain is added to grad_layer\n",
    "    pde_sq_error = (1/2)*tf.square(y_true_act-y_pred)\n",
    "    return tf.where(at_boundary,0.,pde_sq_error)"
   ]
  },
  {
   "cell_type": "code",
   "execution_count": 88,
   "metadata": {},
   "outputs": [],
   "source": [
    "custom_model.compile(loss=[u_loss,pde_loss],optimizer=keras.optimizers.SGD(lr=1e-2))"
   ]
  },
  {
   "cell_type": "code",
   "execution_count": 89,
   "metadata": {},
   "outputs": [
    {
     "name": "stdout",
     "output_type": "stream",
     "text": [
      "Epoch 1/50\n",
      "38/38 [==============================] - 0s 5ms/step - loss: 0.8577 - output_1_loss: 0.0044 - output_2_1_loss: 0.8533\n",
      "Epoch 2/50\n",
      "38/38 [==============================] - 0s 4ms/step - loss: 0.8486 - output_1_loss: 4.3678e-04 - output_2_1_loss: 0.8482\n",
      "Epoch 3/50\n",
      "38/38 [==============================] - 0s 5ms/step - loss: 0.8445 - output_1_loss: 2.1364e-04 - output_2_1_loss: 0.8443\n",
      "Epoch 4/50\n",
      "38/38 [==============================] - 0s 4ms/step - loss: 0.8415 - output_1_loss: 7.0549e-04 - output_2_1_loss: 0.8408\n",
      "Epoch 5/50\n",
      "38/38 [==============================] - 0s 4ms/step - loss: 0.8384 - output_1_loss: 2.6630e-04 - output_2_1_loss: 0.8381\n",
      "Epoch 6/50\n",
      "38/38 [==============================] - 0s 5ms/step - loss: 0.8358 - output_1_loss: 5.9418e-04 - output_2_1_loss: 0.8352\n",
      "Epoch 7/50\n",
      "38/38 [==============================] - 0s 5ms/step - loss: 0.8338 - output_1_loss: 3.6786e-04 - output_2_1_loss: 0.8334\n",
      "Epoch 8/50\n",
      "38/38 [==============================] - 0s 5ms/step - loss: 0.8315 - output_1_loss: 4.9221e-04 - output_2_1_loss: 0.8310\n",
      "Epoch 9/50\n",
      "38/38 [==============================] - 0s 5ms/step - loss: 0.8290 - output_1_loss: 4.0546e-04 - output_2_1_loss: 0.8286\n",
      "Epoch 10/50\n",
      "38/38 [==============================] - 0s 4ms/step - loss: 0.8273 - output_1_loss: 4.5836e-04 - output_2_1_loss: 0.8268\n",
      "Epoch 11/50\n",
      "38/38 [==============================] - 0s 4ms/step - loss: 0.8253 - output_1_loss: 3.2713e-04 - output_2_1_loss: 0.8250\n",
      "Epoch 12/50\n",
      "38/38 [==============================] - 0s 5ms/step - loss: 0.8231 - output_1_loss: 2.3990e-04 - output_2_1_loss: 0.8229\n",
      "Epoch 13/50\n",
      "38/38 [==============================] - 0s 4ms/step - loss: 0.8212 - output_1_loss: 4.5940e-04 - output_2_1_loss: 0.8208\n",
      "Epoch 14/50\n",
      "38/38 [==============================] - 0s 6ms/step - loss: 0.8192 - output_1_loss: 1.9746e-04 - output_2_1_loss: 0.8190\n",
      "Epoch 15/50\n",
      "38/38 [==============================] - 0s 6ms/step - loss: 0.8168 - output_1_loss: 2.9735e-04 - output_2_1_loss: 0.8165\n",
      "Epoch 16/50\n",
      "38/38 [==============================] - 0s 4ms/step - loss: 0.8148 - output_1_loss: 2.6495e-04 - output_2_1_loss: 0.8145\n",
      "Epoch 17/50\n",
      "38/38 [==============================] - 0s 6ms/step - loss: 0.8120 - output_1_loss: 2.9159e-04 - output_2_1_loss: 0.8117\n",
      "Epoch 18/50\n",
      "38/38 [==============================] - 0s 4ms/step - loss: 0.8094 - output_1_loss: 3.4129e-04 - output_2_1_loss: 0.8091\n",
      "Epoch 19/50\n",
      "38/38 [==============================] - 0s 5ms/step - loss: 0.8070 - output_1_loss: 1.3493e-04 - output_2_1_loss: 0.8069\n",
      "Epoch 20/50\n",
      "38/38 [==============================] - 0s 4ms/step - loss: 0.8040 - output_1_loss: 1.8374e-04 - output_2_1_loss: 0.8038\n",
      "Epoch 21/50\n",
      "38/38 [==============================] - 0s 5ms/step - loss: 0.8017 - output_1_loss: 3.6731e-04 - output_2_1_loss: 0.8013\n",
      "Epoch 22/50\n",
      "38/38 [==============================] - 0s 6ms/step - loss: 0.7980 - output_1_loss: 1.7876e-04 - output_2_1_loss: 0.7978\n",
      "Epoch 23/50\n",
      "38/38 [==============================] - 0s 4ms/step - loss: 0.7953 - output_1_loss: 3.4709e-04 - output_2_1_loss: 0.7950\n",
      "Epoch 24/50\n",
      "38/38 [==============================] - 0s 4ms/step - loss: 0.7915 - output_1_loss: 1.4987e-04 - output_2_1_loss: 0.7913\n",
      "Epoch 25/50\n",
      "38/38 [==============================] - 0s 5ms/step - loss: 0.7876 - output_1_loss: 2.2433e-04 - output_2_1_loss: 0.7873\n",
      "Epoch 26/50\n",
      "38/38 [==============================] - 0s 4ms/step - loss: 0.7837 - output_1_loss: 3.2471e-04 - output_2_1_loss: 0.7834\n",
      "Epoch 27/50\n",
      "38/38 [==============================] - 0s 5ms/step - loss: 0.7796 - output_1_loss: 1.8863e-04 - output_2_1_loss: 0.7794\n",
      "Epoch 28/50\n",
      "38/38 [==============================] - 0s 4ms/step - loss: 0.7757 - output_1_loss: 1.1986e-04 - output_2_1_loss: 0.7756\n",
      "Epoch 29/50\n",
      "38/38 [==============================] - 0s 5ms/step - loss: 0.7710 - output_1_loss: 1.4784e-04 - output_2_1_loss: 0.7709\n",
      "Epoch 30/50\n",
      "38/38 [==============================] - 0s 4ms/step - loss: 0.7664 - output_1_loss: 2.4162e-04 - output_2_1_loss: 0.7661\n",
      "Epoch 31/50\n",
      "38/38 [==============================] - 0s 3ms/step - loss: 0.7617 - output_1_loss: 2.2280e-04 - output_2_1_loss: 0.7615\n",
      "Epoch 32/50\n",
      "38/38 [==============================] - 0s 4ms/step - loss: 0.7567 - output_1_loss: 2.3229e-04 - output_2_1_loss: 0.7565\n",
      "Epoch 33/50\n",
      "38/38 [==============================] - 0s 5ms/step - loss: 0.7522 - output_1_loss: 2.6093e-04 - output_2_1_loss: 0.7519\n",
      "Epoch 34/50\n",
      "38/38 [==============================] - 0s 5ms/step - loss: 0.7468 - output_1_loss: 2.1004e-04 - output_2_1_loss: 0.7466\n",
      "Epoch 35/50\n",
      "38/38 [==============================] - 0s 6ms/step - loss: 0.7422 - output_1_loss: 1.4158e-04 - output_2_1_loss: 0.7421\n",
      "Epoch 36/50\n",
      "38/38 [==============================] - 0s 6ms/step - loss: 0.7372 - output_1_loss: 1.8025e-04 - output_2_1_loss: 0.7370\n",
      "Epoch 37/50\n",
      "38/38 [==============================] - 0s 5ms/step - loss: 0.7323 - output_1_loss: 3.6716e-04 - output_2_1_loss: 0.7319\n",
      "Epoch 38/50\n",
      "38/38 [==============================] - 0s 5ms/step - loss: 0.7274 - output_1_loss: 1.6251e-04 - output_2_1_loss: 0.7272\n",
      "Epoch 39/50\n",
      "38/38 [==============================] - 0s 5ms/step - loss: 0.7225 - output_1_loss: 1.8272e-04 - output_2_1_loss: 0.7223\n",
      "Epoch 40/50\n",
      "38/38 [==============================] - 0s 8ms/step - loss: 0.7179 - output_1_loss: 2.3323e-04 - output_2_1_loss: 0.7176\n",
      "Epoch 41/50\n",
      "38/38 [==============================] - 0s 10ms/step - loss: 0.7138 - output_1_loss: 2.7068e-04 - output_2_1_loss: 0.7135\n",
      "Epoch 42/50\n",
      "38/38 [==============================] - 0s 8ms/step - loss: 0.7089 - output_1_loss: 2.6149e-04 - output_2_1_loss: 0.7087\n",
      "Epoch 43/50\n",
      "38/38 [==============================] - 0s 5ms/step - loss: 0.7048 - output_1_loss: 2.5127e-04 - output_2_1_loss: 0.7046\n",
      "Epoch 44/50\n",
      "38/38 [==============================] - 0s 6ms/step - loss: 0.7014 - output_1_loss: 2.1656e-04 - output_2_1_loss: 0.7012\n",
      "Epoch 45/50\n",
      "38/38 [==============================] - 0s 4ms/step - loss: 0.6974 - output_1_loss: 2.8405e-04 - output_2_1_loss: 0.6972\n",
      "Epoch 46/50\n",
      "38/38 [==============================] - 0s 4ms/step - loss: 0.6942 - output_1_loss: 2.5974e-04 - output_2_1_loss: 0.6939\n",
      "Epoch 47/50\n",
      "38/38 [==============================] - 0s 4ms/step - loss: 0.6906 - output_1_loss: 4.7180e-04 - output_2_1_loss: 0.6901\n",
      "Epoch 48/50\n",
      "38/38 [==============================] - 0s 7ms/step - loss: 0.6881 - output_1_loss: 2.1951e-04 - output_2_1_loss: 0.6878\n",
      "Epoch 49/50\n",
      "38/38 [==============================] - 0s 7ms/step - loss: 0.6849 - output_1_loss: 4.7084e-04 - output_2_1_loss: 0.6844A: 0s - loss: 0.7428 - output_1_loss: 0.0011 - output_2_1_loss: 0.7417\n",
      "Epoch 50/50\n",
      "38/38 [==============================] - 0s 6ms/step - loss: 0.6824 - output_1_loss: 4.8370e-04 - output_2_1_loss: 0.6819\n"
     ]
    },
    {
     "data": {
      "text/plain": [
       "<tensorflow.python.keras.callbacks.History at 0x7f1bd1ad8790>"
      ]
     },
     "execution_count": 89,
     "metadata": {},
     "output_type": "execute_result"
    }
   ],
   "source": [
    "custom_model.fit(x=X_tr, y=Y_tr,epochs=50)"
   ]
  },
  {
   "cell_type": "code",
   "execution_count": 96,
   "metadata": {},
   "outputs": [
    {
     "name": "stdout",
     "output_type": "stream",
     "text": [
      "Epoch 1/50\n",
      "38/38 [==============================] - 0s 4ms/step - loss: 0.0186 - output_1_loss: 1.7516e-04 - output_2_1_loss: 0.0185\n",
      "Epoch 2/50\n",
      "38/38 [==============================] - 0s 3ms/step - loss: 0.0181 - output_1_loss: 2.1130e-04 - output_2_1_loss: 0.0179\n",
      "Epoch 3/50\n",
      "38/38 [==============================] - 0s 3ms/step - loss: 0.0186 - output_1_loss: 2.7656e-04 - output_2_1_loss: 0.0183\n",
      "Epoch 4/50\n",
      "38/38 [==============================] - 0s 4ms/step - loss: 0.0187 - output_1_loss: 1.7601e-04 - output_2_1_loss: 0.0186\n",
      "Epoch 5/50\n",
      "38/38 [==============================] - 0s 5ms/step - loss: 0.0189 - output_1_loss: 1.4803e-04 - output_2_1_loss: 0.0188\n",
      "Epoch 6/50\n",
      "38/38 [==============================] - 0s 4ms/step - loss: 0.0183 - output_1_loss: 2.2282e-04 - output_2_1_loss: 0.0180\n",
      "Epoch 7/50\n",
      "38/38 [==============================] - 0s 5ms/step - loss: 0.0184 - output_1_loss: 1.7615e-04 - output_2_1_loss: 0.0183\n",
      "Epoch 8/50\n",
      "38/38 [==============================] - 0s 5ms/step - loss: 0.0187 - output_1_loss: 2.6088e-04 - output_2_1_loss: 0.0185\n",
      "Epoch 9/50\n",
      "38/38 [==============================] - 0s 4ms/step - loss: 0.0182 - output_1_loss: 2.9185e-04 - output_2_1_loss: 0.0179\n",
      "Epoch 10/50\n",
      "38/38 [==============================] - 0s 4ms/step - loss: 0.0179 - output_1_loss: 1.4601e-04 - output_2_1_loss: 0.0178\n",
      "Epoch 11/50\n",
      "38/38 [==============================] - 0s 3ms/step - loss: 0.0183 - output_1_loss: 2.3836e-04 - output_2_1_loss: 0.0181\n",
      "Epoch 12/50\n",
      "38/38 [==============================] - 0s 3ms/step - loss: 0.0186 - output_1_loss: 4.3697e-04 - output_2_1_loss: 0.0182\n",
      "Epoch 13/50\n",
      "38/38 [==============================] - 0s 4ms/step - loss: 0.0191 - output_1_loss: 3.7257e-04 - output_2_1_loss: 0.0187\n",
      "Epoch 14/50\n",
      "38/38 [==============================] - 0s 3ms/step - loss: 0.0183 - output_1_loss: 1.8603e-04 - output_2_1_loss: 0.0181\n",
      "Epoch 15/50\n",
      "38/38 [==============================] - 0s 4ms/step - loss: 0.0181 - output_1_loss: 1.8421e-04 - output_2_1_loss: 0.0179\n",
      "Epoch 16/50\n",
      "38/38 [==============================] - 0s 3ms/step - loss: 0.0181 - output_1_loss: 3.3982e-04 - output_2_1_loss: 0.0178\n",
      "Epoch 17/50\n",
      "38/38 [==============================] - 0s 4ms/step - loss: 0.0181 - output_1_loss: 2.5550e-04 - output_2_1_loss: 0.0178\n",
      "Epoch 18/50\n",
      "38/38 [==============================] - 0s 3ms/step - loss: 0.0195 - output_1_loss: 4.7623e-04 - output_2_1_loss: 0.0190\n",
      "Epoch 19/50\n",
      "38/38 [==============================] - 0s 4ms/step - loss: 0.0177 - output_1_loss: 2.3396e-04 - output_2_1_loss: 0.0175\n",
      "Epoch 20/50\n",
      "38/38 [==============================] - 0s 6ms/step - loss: 0.0190 - output_1_loss: 0.0010 - output_2_1_loss: 0.0180\n",
      "Epoch 21/50\n",
      "38/38 [==============================] - 0s 4ms/step - loss: 0.0177 - output_1_loss: 2.9735e-04 - output_2_1_loss: 0.0174\n",
      "Epoch 22/50\n",
      "38/38 [==============================] - 0s 3ms/step - loss: 0.0190 - output_1_loss: 3.6584e-04 - output_2_1_loss: 0.0186\n",
      "Epoch 23/50\n",
      "38/38 [==============================] - 0s 3ms/step - loss: 0.0189 - output_1_loss: 5.1706e-04 - output_2_1_loss: 0.0183\n",
      "Epoch 24/50\n",
      "38/38 [==============================] - 0s 5ms/step - loss: 0.0183 - output_1_loss: 2.9043e-04 - output_2_1_loss: 0.0180\n",
      "Epoch 25/50\n",
      "38/38 [==============================] - 0s 3ms/step - loss: 0.0177 - output_1_loss: 1.8160e-04 - output_2_1_loss: 0.0175\n",
      "Epoch 26/50\n",
      "38/38 [==============================] - 0s 3ms/step - loss: 0.0175 - output_1_loss: 2.0555e-04 - output_2_1_loss: 0.0173\n",
      "Epoch 27/50\n",
      "38/38 [==============================] - 0s 4ms/step - loss: 0.0175 - output_1_loss: 2.9472e-04 - output_2_1_loss: 0.0172\n",
      "Epoch 28/50\n",
      "38/38 [==============================] - 0s 4ms/step - loss: 0.0184 - output_1_loss: 2.5615e-04 - output_2_1_loss: 0.0181\n",
      "Epoch 29/50\n",
      "38/38 [==============================] - 0s 4ms/step - loss: 0.0180 - output_1_loss: 3.0270e-04 - output_2_1_loss: 0.0177\n",
      "Epoch 30/50\n",
      "38/38 [==============================] - 0s 4ms/step - loss: 0.0180 - output_1_loss: 2.6667e-04 - output_2_1_loss: 0.0178\n",
      "Epoch 31/50\n",
      "38/38 [==============================] - 0s 4ms/step - loss: 0.0177 - output_1_loss: 2.5984e-04 - output_2_1_loss: 0.0175\n",
      "Epoch 32/50\n",
      "38/38 [==============================] - 0s 5ms/step - loss: 0.0182 - output_1_loss: 3.1472e-04 - output_2_1_loss: 0.0179\n",
      "Epoch 33/50\n",
      "38/38 [==============================] - 0s 5ms/step - loss: 0.0180 - output_1_loss: 3.2517e-04 - output_2_1_loss: 0.0177\n",
      "Epoch 34/50\n",
      "38/38 [==============================] - 0s 5ms/step - loss: 0.0178 - output_1_loss: 2.5052e-04 - output_2_1_loss: 0.0175\n",
      "Epoch 35/50\n",
      "38/38 [==============================] - 0s 6ms/step - loss: 0.0174 - output_1_loss: 2.0763e-04 - output_2_1_loss: 0.0172\n",
      "Epoch 36/50\n",
      "38/38 [==============================] - 0s 5ms/step - loss: 0.0174 - output_1_loss: 1.3512e-04 - output_2_1_loss: 0.0172\n",
      "Epoch 37/50\n",
      "38/38 [==============================] - 0s 4ms/step - loss: 0.0174 - output_1_loss: 1.6368e-04 - output_2_1_loss: 0.0172\n",
      "Epoch 38/50\n",
      "38/38 [==============================] - 0s 3ms/step - loss: 0.0174 - output_1_loss: 2.4004e-04 - output_2_1_loss: 0.0171\n",
      "Epoch 39/50\n",
      "38/38 [==============================] - 0s 4ms/step - loss: 0.0177 - output_1_loss: 1.9766e-04 - output_2_1_loss: 0.0175\n",
      "Epoch 40/50\n",
      "38/38 [==============================] - 0s 5ms/step - loss: 0.0173 - output_1_loss: 2.8268e-04 - output_2_1_loss: 0.0170\n",
      "Epoch 41/50\n",
      "38/38 [==============================] - 0s 4ms/step - loss: 0.0180 - output_1_loss: 3.4255e-04 - output_2_1_loss: 0.0176\n",
      "Epoch 42/50\n",
      "38/38 [==============================] - 0s 4ms/step - loss: 0.0181 - output_1_loss: 1.5925e-04 - output_2_1_loss: 0.0179\n",
      "Epoch 43/50\n",
      "38/38 [==============================] - 0s 5ms/step - loss: 0.0175 - output_1_loss: 1.4817e-04 - output_2_1_loss: 0.0174\n",
      "Epoch 44/50\n",
      "38/38 [==============================] - 0s 5ms/step - loss: 0.0181 - output_1_loss: 2.1167e-04 - output_2_1_loss: 0.0179\n",
      "Epoch 45/50\n",
      "38/38 [==============================] - 0s 4ms/step - loss: 0.0176 - output_1_loss: 2.7153e-04 - output_2_1_loss: 0.0173\n",
      "Epoch 46/50\n",
      "38/38 [==============================] - 0s 10ms/step - loss: 0.0180 - output_1_loss: 1.9592e-04 - output_2_1_loss: 0.0178\n",
      "Epoch 47/50\n",
      "38/38 [==============================] - 0s 5ms/step - loss: 0.0183 - output_1_loss: 3.2798e-04 - output_2_1_loss: 0.0180\n",
      "Epoch 48/50\n",
      "38/38 [==============================] - 0s 4ms/step - loss: 0.0176 - output_1_loss: 2.2011e-04 - output_2_1_loss: 0.0173\n",
      "Epoch 49/50\n",
      "38/38 [==============================] - 0s 5ms/step - loss: 0.0177 - output_1_loss: 2.2089e-04 - output_2_1_loss: 0.0175\n",
      "Epoch 50/50\n",
      "38/38 [==============================] - 0s 7ms/step - loss: 0.0172 - output_1_loss: 1.5257e-04 - output_2_1_loss: 0.0171\n"
     ]
    },
    {
     "data": {
      "text/plain": [
       "<tensorflow.python.keras.callbacks.History at 0x7f1bd0468220>"
      ]
     },
     "execution_count": 96,
     "metadata": {},
     "output_type": "execute_result"
    }
   ],
   "source": [
    "custom_model.compile(loss=[u_loss,pde_loss],optimizer=keras.optimizers.SGD(lr=1e-2))\n",
    "custom_model.fit(x=X_tr, y=Y_tr,epochs=50)"
   ]
  },
  {
   "cell_type": "code",
   "execution_count": 97,
   "metadata": {},
   "outputs": [],
   "source": [
    "X_test_st = np.random.uniform(0,2*np.pi,500).reshape(500,1)"
   ]
  },
  {
   "cell_type": "code",
   "execution_count": 98,
   "metadata": {},
   "outputs": [],
   "source": [
    "Y_test = custom_model.predict(X_test_st)"
   ]
  },
  {
   "cell_type": "code",
   "execution_count": 99,
   "metadata": {},
   "outputs": [
    {
     "data": {
      "text/plain": [
       "<matplotlib.collections.PathCollection at 0x7f1bd0334ca0>"
      ]
     },
     "execution_count": 99,
     "metadata": {},
     "output_type": "execute_result"
    },
    {
     "data": {
      "image/png": "[encoded data removed]",
      "text/plain": [
       "<Figure size 432x288 with 1 Axes>"
      ]
     },
     "metadata": {
      "needs_background": "light"
     },
     "output_type": "display_data"
    }
   ],
   "source": [
    "plt.scatter(X_test_st, Y_test[0][:,0])"
   ]
  },
  {
   "cell_type": "code",
   "execution_count": 100,
   "metadata": {},
   "outputs": [
    {
     "data": {
      "text/plain": [
       "<matplotlib.collections.PathCollection at 0x7f1ba4547790>"
      ]
     },
     "execution_count": 100,
     "metadata": {},
     "output_type": "execute_result"
    },
    {
     "data": {
      "image/png": "[encoded data removed]",
      "text/plain": [
       "<Figure size 432x288 with 1 Axes>"
      ]
     },
     "metadata": {
      "needs_background": "light"
     },
     "output_type": "display_data"
    }
   ],
   "source": [
    "plt.scatter(X_test_st,np.sin(2*X_test_st))"
   ]
  }
 ],
 "metadata": {
  "kernelspec": {
   "display_name": "Python 3",
   "language": "python",
   "name": "python3"
  },
  "language_info": {
   "codemirror_mode": {
    "name": "ipython",
    "version": 3
   },
   "file_extension": ".py",
   "mimetype": "text/x-python",
   "name": "python",
   "nbconvert_exporter": "python",
   "pygments_lexer": "ipython3",
   "version": "3.8.3"
  }
 },
 "nbformat": 4,
 "nbformat_minor": 4
}
