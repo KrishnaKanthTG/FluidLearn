{
 "cells": [
  {
   "cell_type": "markdown",
   "metadata": {},
   "source": [
    "# Modelling poisson using PINN"
   ]
  },
  {
   "cell_type": "markdown",
   "metadata": {},
   "source": [
    "Solving the poisson equation $-\\Delta u = f$ using a physics informed neural network "
   ]
  },
  {
   "cell_type": "markdown",
   "metadata": {},
   "source": [
    "## 1D problem"
   ]
  },
  {
   "cell_type": "markdown",
   "metadata": {},
   "source": [
    "### Manufactured solution\n"
   ]
  },
  {
   "cell_type": "markdown",
   "metadata": {},
   "source": [
    "We use $u = sin(2x)$ for $x\\in [0,4]$ to manufacture the right hand side to be $f=sin(x)$"
   ]
  },
  {
   "cell_type": "markdown",
   "metadata": {},
   "source": [
    "### Importing packages"
   ]
  },
  {
   "cell_type": "code",
   "execution_count": 161,
   "metadata": {},
   "outputs": [],
   "source": [
    "import numpy as np\n",
    "import tensorflow as tf\n",
    "from tensorflow import keras\n",
    "import pandas as pd\n",
    "import matplotlib.pyplot as plt\n",
    "%matplotlib inline"
   ]
  },
  {
   "cell_type": "markdown",
   "metadata": {},
   "source": [
    "### Manufacturing data for trainig"
   ]
  },
  {
   "cell_type": "code",
   "execution_count": 162,
   "metadata": {},
   "outputs": [],
   "source": [
    "np.random.seed(123)\n",
    "X_tr_pde = np.random.uniform(0,2*np.pi,10000).reshape(10000,1)\n"
   ]
  },
  {
   "cell_type": "markdown",
   "metadata": {},
   "source": [
    "#### Plotting histogram of randomly selected points to make sure they are uniformly distributed "
   ]
  },
  {
   "cell_type": "code",
   "execution_count": 163,
   "metadata": {},
   "outputs": [
    {
     "data": {
      "text/plain": [
       "Text(0, 0.5, 'frequency ')"
      ]
     },
     "execution_count": 163,
     "metadata": {},
     "output_type": "execute_result"
    },
    {
     "data": {
      "image/png": "[encoded data removed]",
      "text/plain": [
       "<Figure size 432x288 with 1 Axes>"
      ]
     },
     "metadata": {
      "needs_background": "light"
     },
     "output_type": "display_data"
    }
   ],
   "source": [
    "plt.hist(X_tr_pde)\n",
    "plt.xlabel(\"training points\")\n",
    "plt.ylabel(\"frequency \")"
   ]
  },
  {
   "cell_type": "code",
   "execution_count": 164,
   "metadata": {},
   "outputs": [
    {
     "data": {
      "text/plain": [
       "<matplotlib.collections.PathCollection at 0x7f4c18b8a790>"
      ]
     },
     "execution_count": 164,
     "metadata": {},
     "output_type": "execute_result"
    },
    {
     "data": {
      "image/png": "[encoded data removed]",
      "text/plain": [
       "<Figure size 432x288 with 1 Axes>"
      ]
     },
     "metadata": {
      "needs_background": "light"
     },
     "output_type": "display_data"
    }
   ],
   "source": [
    "Y_tr_pde = 4*np.sin(2*X_tr_pde)\n",
    "plt.scatter(X_tr_pde,Y_tr_pde)"
   ]
  },
  {
   "cell_type": "code",
   "execution_count": 165,
   "metadata": {},
   "outputs": [
    {
     "data": {
      "text/plain": [
       "(10000, 2)"
      ]
     },
     "execution_count": 165,
     "metadata": {},
     "output_type": "execute_result"
    }
   ],
   "source": [
    "Y_tr_pde = np.concatenate([Y_tr_pde,np.zeros((X_tr_pde.size,1))],axis=1)\n",
    "Y_tr_pde.shape"
   ]
  },
  {
   "cell_type": "code",
   "execution_count": 166,
   "metadata": {},
   "outputs": [
    {
     "data": {
      "text/plain": [
       "array([[ 0.0000000e+00,  1.0000000e+00],\n",
       "       [ 0.0000000e+00,  1.0000000e+00],\n",
       "       [ 0.0000000e+00,  1.0000000e+00],\n",
       "       [ 0.0000000e+00,  1.0000000e+00],\n",
       "       [ 0.0000000e+00,  1.0000000e+00],\n",
       "       [ 0.0000000e+00,  1.0000000e+00],\n",
       "       [ 0.0000000e+00,  1.0000000e+00],\n",
       "       [ 0.0000000e+00,  1.0000000e+00],\n",
       "       [ 0.0000000e+00,  1.0000000e+00],\n",
       "       [ 0.0000000e+00,  1.0000000e+00],\n",
       "       [ 0.0000000e+00,  1.0000000e+00],\n",
       "       [ 0.0000000e+00,  1.0000000e+00],\n",
       "       [ 0.0000000e+00,  1.0000000e+00],\n",
       "       [ 0.0000000e+00,  1.0000000e+00],\n",
       "       [ 0.0000000e+00,  1.0000000e+00],\n",
       "       [ 0.0000000e+00,  1.0000000e+00],\n",
       "       [ 0.0000000e+00,  1.0000000e+00],\n",
       "       [ 0.0000000e+00,  1.0000000e+00],\n",
       "       [ 0.0000000e+00,  1.0000000e+00],\n",
       "       [ 0.0000000e+00,  1.0000000e+00],\n",
       "       [ 0.0000000e+00,  1.0000000e+00],\n",
       "       [ 0.0000000e+00,  1.0000000e+00],\n",
       "       [ 0.0000000e+00,  1.0000000e+00],\n",
       "       [ 0.0000000e+00,  1.0000000e+00],\n",
       "       [ 0.0000000e+00,  1.0000000e+00],\n",
       "       [ 0.0000000e+00,  1.0000000e+00],\n",
       "       [ 0.0000000e+00,  1.0000000e+00],\n",
       "       [ 0.0000000e+00,  1.0000000e+00],\n",
       "       [ 0.0000000e+00,  1.0000000e+00],\n",
       "       [ 0.0000000e+00,  1.0000000e+00],\n",
       "       [ 0.0000000e+00,  1.0000000e+00],\n",
       "       [ 0.0000000e+00,  1.0000000e+00],\n",
       "       [ 0.0000000e+00,  1.0000000e+00],\n",
       "       [ 0.0000000e+00,  1.0000000e+00],\n",
       "       [ 0.0000000e+00,  1.0000000e+00],\n",
       "       [ 0.0000000e+00,  1.0000000e+00],\n",
       "       [ 0.0000000e+00,  1.0000000e+00],\n",
       "       [ 0.0000000e+00,  1.0000000e+00],\n",
       "       [ 0.0000000e+00,  1.0000000e+00],\n",
       "       [ 0.0000000e+00,  1.0000000e+00],\n",
       "       [ 0.0000000e+00,  1.0000000e+00],\n",
       "       [ 0.0000000e+00,  1.0000000e+00],\n",
       "       [ 0.0000000e+00,  1.0000000e+00],\n",
       "       [ 0.0000000e+00,  1.0000000e+00],\n",
       "       [ 0.0000000e+00,  1.0000000e+00],\n",
       "       [ 0.0000000e+00,  1.0000000e+00],\n",
       "       [ 0.0000000e+00,  1.0000000e+00],\n",
       "       [ 0.0000000e+00,  1.0000000e+00],\n",
       "       [ 0.0000000e+00,  1.0000000e+00],\n",
       "       [ 0.0000000e+00,  1.0000000e+00],\n",
       "       [ 0.0000000e+00,  1.0000000e+00],\n",
       "       [ 0.0000000e+00,  1.0000000e+00],\n",
       "       [ 0.0000000e+00,  1.0000000e+00],\n",
       "       [ 0.0000000e+00,  1.0000000e+00],\n",
       "       [ 0.0000000e+00,  1.0000000e+00],\n",
       "       [ 0.0000000e+00,  1.0000000e+00],\n",
       "       [ 0.0000000e+00,  1.0000000e+00],\n",
       "       [ 0.0000000e+00,  1.0000000e+00],\n",
       "       [ 0.0000000e+00,  1.0000000e+00],\n",
       "       [ 0.0000000e+00,  1.0000000e+00],\n",
       "       [ 0.0000000e+00,  1.0000000e+00],\n",
       "       [ 0.0000000e+00,  1.0000000e+00],\n",
       "       [ 0.0000000e+00,  1.0000000e+00],\n",
       "       [ 0.0000000e+00,  1.0000000e+00],\n",
       "       [ 0.0000000e+00,  1.0000000e+00],\n",
       "       [ 0.0000000e+00,  1.0000000e+00],\n",
       "       [ 0.0000000e+00,  1.0000000e+00],\n",
       "       [ 0.0000000e+00,  1.0000000e+00],\n",
       "       [ 0.0000000e+00,  1.0000000e+00],\n",
       "       [ 0.0000000e+00,  1.0000000e+00],\n",
       "       [ 0.0000000e+00,  1.0000000e+00],\n",
       "       [ 0.0000000e+00,  1.0000000e+00],\n",
       "       [ 0.0000000e+00,  1.0000000e+00],\n",
       "       [ 0.0000000e+00,  1.0000000e+00],\n",
       "       [ 0.0000000e+00,  1.0000000e+00],\n",
       "       [ 0.0000000e+00,  1.0000000e+00],\n",
       "       [ 0.0000000e+00,  1.0000000e+00],\n",
       "       [ 0.0000000e+00,  1.0000000e+00],\n",
       "       [ 0.0000000e+00,  1.0000000e+00],\n",
       "       [ 0.0000000e+00,  1.0000000e+00],\n",
       "       [ 0.0000000e+00,  1.0000000e+00],\n",
       "       [ 0.0000000e+00,  1.0000000e+00],\n",
       "       [ 0.0000000e+00,  1.0000000e+00],\n",
       "       [ 0.0000000e+00,  1.0000000e+00],\n",
       "       [ 0.0000000e+00,  1.0000000e+00],\n",
       "       [ 0.0000000e+00,  1.0000000e+00],\n",
       "       [ 0.0000000e+00,  1.0000000e+00],\n",
       "       [ 0.0000000e+00,  1.0000000e+00],\n",
       "       [ 0.0000000e+00,  1.0000000e+00],\n",
       "       [ 0.0000000e+00,  1.0000000e+00],\n",
       "       [ 0.0000000e+00,  1.0000000e+00],\n",
       "       [ 0.0000000e+00,  1.0000000e+00],\n",
       "       [ 0.0000000e+00,  1.0000000e+00],\n",
       "       [ 0.0000000e+00,  1.0000000e+00],\n",
       "       [ 0.0000000e+00,  1.0000000e+00],\n",
       "       [ 0.0000000e+00,  1.0000000e+00],\n",
       "       [ 0.0000000e+00,  1.0000000e+00],\n",
       "       [ 0.0000000e+00,  1.0000000e+00],\n",
       "       [ 0.0000000e+00,  1.0000000e+00],\n",
       "       [ 0.0000000e+00,  1.0000000e+00],\n",
       "       [ 0.0000000e+00,  1.0000000e+00],\n",
       "       [ 0.0000000e+00,  1.0000000e+00],\n",
       "       [ 0.0000000e+00,  1.0000000e+00],\n",
       "       [ 0.0000000e+00,  1.0000000e+00],\n",
       "       [ 0.0000000e+00,  1.0000000e+00],\n",
       "       [ 0.0000000e+00,  1.0000000e+00],\n",
       "       [ 0.0000000e+00,  1.0000000e+00],\n",
       "       [ 0.0000000e+00,  1.0000000e+00],\n",
       "       [ 0.0000000e+00,  1.0000000e+00],\n",
       "       [ 0.0000000e+00,  1.0000000e+00],\n",
       "       [ 0.0000000e+00,  1.0000000e+00],\n",
       "       [ 0.0000000e+00,  1.0000000e+00],\n",
       "       [ 0.0000000e+00,  1.0000000e+00],\n",
       "       [ 0.0000000e+00,  1.0000000e+00],\n",
       "       [ 0.0000000e+00,  1.0000000e+00],\n",
       "       [ 0.0000000e+00,  1.0000000e+00],\n",
       "       [ 0.0000000e+00,  1.0000000e+00],\n",
       "       [ 0.0000000e+00,  1.0000000e+00],\n",
       "       [ 0.0000000e+00,  1.0000000e+00],\n",
       "       [ 0.0000000e+00,  1.0000000e+00],\n",
       "       [ 0.0000000e+00,  1.0000000e+00],\n",
       "       [ 0.0000000e+00,  1.0000000e+00],\n",
       "       [ 0.0000000e+00,  1.0000000e+00],\n",
       "       [ 0.0000000e+00,  1.0000000e+00],\n",
       "       [ 0.0000000e+00,  1.0000000e+00],\n",
       "       [ 0.0000000e+00,  1.0000000e+00],\n",
       "       [ 0.0000000e+00,  1.0000000e+00],\n",
       "       [ 0.0000000e+00,  1.0000000e+00],\n",
       "       [ 0.0000000e+00,  1.0000000e+00],\n",
       "       [ 0.0000000e+00,  1.0000000e+00],\n",
       "       [ 0.0000000e+00,  1.0000000e+00],\n",
       "       [ 0.0000000e+00,  1.0000000e+00],\n",
       "       [ 0.0000000e+00,  1.0000000e+00],\n",
       "       [ 0.0000000e+00,  1.0000000e+00],\n",
       "       [ 0.0000000e+00,  1.0000000e+00],\n",
       "       [ 0.0000000e+00,  1.0000000e+00],\n",
       "       [ 0.0000000e+00,  1.0000000e+00],\n",
       "       [ 0.0000000e+00,  1.0000000e+00],\n",
       "       [ 0.0000000e+00,  1.0000000e+00],\n",
       "       [ 0.0000000e+00,  1.0000000e+00],\n",
       "       [ 0.0000000e+00,  1.0000000e+00],\n",
       "       [ 0.0000000e+00,  1.0000000e+00],\n",
       "       [ 0.0000000e+00,  1.0000000e+00],\n",
       "       [ 0.0000000e+00,  1.0000000e+00],\n",
       "       [ 0.0000000e+00,  1.0000000e+00],\n",
       "       [ 0.0000000e+00,  1.0000000e+00],\n",
       "       [ 0.0000000e+00,  1.0000000e+00],\n",
       "       [ 0.0000000e+00,  1.0000000e+00],\n",
       "       [ 0.0000000e+00,  1.0000000e+00],\n",
       "       [ 0.0000000e+00,  1.0000000e+00],\n",
       "       [ 0.0000000e+00,  1.0000000e+00],\n",
       "       [ 0.0000000e+00,  1.0000000e+00],\n",
       "       [ 0.0000000e+00,  1.0000000e+00],\n",
       "       [ 0.0000000e+00,  1.0000000e+00],\n",
       "       [ 0.0000000e+00,  1.0000000e+00],\n",
       "       [ 0.0000000e+00,  1.0000000e+00],\n",
       "       [ 0.0000000e+00,  1.0000000e+00],\n",
       "       [ 0.0000000e+00,  1.0000000e+00],\n",
       "       [ 0.0000000e+00,  1.0000000e+00],\n",
       "       [ 0.0000000e+00,  1.0000000e+00],\n",
       "       [ 0.0000000e+00,  1.0000000e+00],\n",
       "       [ 0.0000000e+00,  1.0000000e+00],\n",
       "       [ 0.0000000e+00,  1.0000000e+00],\n",
       "       [ 0.0000000e+00,  1.0000000e+00],\n",
       "       [ 0.0000000e+00,  1.0000000e+00],\n",
       "       [ 0.0000000e+00,  1.0000000e+00],\n",
       "       [ 0.0000000e+00,  1.0000000e+00],\n",
       "       [ 0.0000000e+00,  1.0000000e+00],\n",
       "       [ 0.0000000e+00,  1.0000000e+00],\n",
       "       [ 0.0000000e+00,  1.0000000e+00],\n",
       "       [ 0.0000000e+00,  1.0000000e+00],\n",
       "       [ 0.0000000e+00,  1.0000000e+00],\n",
       "       [ 0.0000000e+00,  1.0000000e+00],\n",
       "       [ 0.0000000e+00,  1.0000000e+00],\n",
       "       [ 0.0000000e+00,  1.0000000e+00],\n",
       "       [ 0.0000000e+00,  1.0000000e+00],\n",
       "       [ 0.0000000e+00,  1.0000000e+00],\n",
       "       [ 0.0000000e+00,  1.0000000e+00],\n",
       "       [ 0.0000000e+00,  1.0000000e+00],\n",
       "       [ 0.0000000e+00,  1.0000000e+00],\n",
       "       [ 0.0000000e+00,  1.0000000e+00],\n",
       "       [ 0.0000000e+00,  1.0000000e+00],\n",
       "       [ 0.0000000e+00,  1.0000000e+00],\n",
       "       [ 0.0000000e+00,  1.0000000e+00],\n",
       "       [ 0.0000000e+00,  1.0000000e+00],\n",
       "       [ 0.0000000e+00,  1.0000000e+00],\n",
       "       [ 0.0000000e+00,  1.0000000e+00],\n",
       "       [ 0.0000000e+00,  1.0000000e+00],\n",
       "       [ 0.0000000e+00,  1.0000000e+00],\n",
       "       [ 0.0000000e+00,  1.0000000e+00],\n",
       "       [ 0.0000000e+00,  1.0000000e+00],\n",
       "       [ 0.0000000e+00,  1.0000000e+00],\n",
       "       [ 0.0000000e+00,  1.0000000e+00],\n",
       "       [ 0.0000000e+00,  1.0000000e+00],\n",
       "       [ 0.0000000e+00,  1.0000000e+00],\n",
       "       [ 0.0000000e+00,  1.0000000e+00],\n",
       "       [ 0.0000000e+00,  1.0000000e+00],\n",
       "       [ 0.0000000e+00,  1.0000000e+00],\n",
       "       [ 0.0000000e+00,  1.0000000e+00],\n",
       "       [ 0.0000000e+00,  1.0000000e+00],\n",
       "       [-2.4492936e-16,  1.0000000e+00],\n",
       "       [-2.4492936e-16,  1.0000000e+00],\n",
       "       [-2.4492936e-16,  1.0000000e+00],\n",
       "       [-2.4492936e-16,  1.0000000e+00],\n",
       "       [-2.4492936e-16,  1.0000000e+00],\n",
       "       [-2.4492936e-16,  1.0000000e+00],\n",
       "       [-2.4492936e-16,  1.0000000e+00],\n",
       "       [-2.4492936e-16,  1.0000000e+00],\n",
       "       [-2.4492936e-16,  1.0000000e+00],\n",
       "       [-2.4492936e-16,  1.0000000e+00],\n",
       "       [-2.4492936e-16,  1.0000000e+00],\n",
       "       [-2.4492936e-16,  1.0000000e+00],\n",
       "       [-2.4492936e-16,  1.0000000e+00],\n",
       "       [-2.4492936e-16,  1.0000000e+00],\n",
       "       [-2.4492936e-16,  1.0000000e+00],\n",
       "       [-2.4492936e-16,  1.0000000e+00],\n",
       "       [-2.4492936e-16,  1.0000000e+00],\n",
       "       [-2.4492936e-16,  1.0000000e+00],\n",
       "       [-2.4492936e-16,  1.0000000e+00],\n",
       "       [-2.4492936e-16,  1.0000000e+00],\n",
       "       [-2.4492936e-16,  1.0000000e+00],\n",
       "       [-2.4492936e-16,  1.0000000e+00],\n",
       "       [-2.4492936e-16,  1.0000000e+00],\n",
       "       [-2.4492936e-16,  1.0000000e+00],\n",
       "       [-2.4492936e-16,  1.0000000e+00],\n",
       "       [-2.4492936e-16,  1.0000000e+00],\n",
       "       [-2.4492936e-16,  1.0000000e+00],\n",
       "       [-2.4492936e-16,  1.0000000e+00],\n",
       "       [-2.4492936e-16,  1.0000000e+00],\n",
       "       [-2.4492936e-16,  1.0000000e+00],\n",
       "       [-2.4492936e-16,  1.0000000e+00],\n",
       "       [-2.4492936e-16,  1.0000000e+00],\n",
       "       [-2.4492936e-16,  1.0000000e+00],\n",
       "       [-2.4492936e-16,  1.0000000e+00],\n",
       "       [-2.4492936e-16,  1.0000000e+00],\n",
       "       [-2.4492936e-16,  1.0000000e+00],\n",
       "       [-2.4492936e-16,  1.0000000e+00],\n",
       "       [-2.4492936e-16,  1.0000000e+00],\n",
       "       [-2.4492936e-16,  1.0000000e+00],\n",
       "       [-2.4492936e-16,  1.0000000e+00],\n",
       "       [-2.4492936e-16,  1.0000000e+00],\n",
       "       [-2.4492936e-16,  1.0000000e+00],\n",
       "       [-2.4492936e-16,  1.0000000e+00],\n",
       "       [-2.4492936e-16,  1.0000000e+00],\n",
       "       [-2.4492936e-16,  1.0000000e+00],\n",
       "       [-2.4492936e-16,  1.0000000e+00],\n",
       "       [-2.4492936e-16,  1.0000000e+00],\n",
       "       [-2.4492936e-16,  1.0000000e+00],\n",
       "       [-2.4492936e-16,  1.0000000e+00],\n",
       "       [-2.4492936e-16,  1.0000000e+00],\n",
       "       [-2.4492936e-16,  1.0000000e+00],\n",
       "       [-2.4492936e-16,  1.0000000e+00],\n",
       "       [-2.4492936e-16,  1.0000000e+00],\n",
       "       [-2.4492936e-16,  1.0000000e+00],\n",
       "       [-2.4492936e-16,  1.0000000e+00],\n",
       "       [-2.4492936e-16,  1.0000000e+00],\n",
       "       [-2.4492936e-16,  1.0000000e+00],\n",
       "       [-2.4492936e-16,  1.0000000e+00],\n",
       "       [-2.4492936e-16,  1.0000000e+00],\n",
       "       [-2.4492936e-16,  1.0000000e+00],\n",
       "       [-2.4492936e-16,  1.0000000e+00],\n",
       "       [-2.4492936e-16,  1.0000000e+00],\n",
       "       [-2.4492936e-16,  1.0000000e+00],\n",
       "       [-2.4492936e-16,  1.0000000e+00],\n",
       "       [-2.4492936e-16,  1.0000000e+00],\n",
       "       [-2.4492936e-16,  1.0000000e+00],\n",
       "       [-2.4492936e-16,  1.0000000e+00],\n",
       "       [-2.4492936e-16,  1.0000000e+00],\n",
       "       [-2.4492936e-16,  1.0000000e+00],\n",
       "       [-2.4492936e-16,  1.0000000e+00],\n",
       "       [-2.4492936e-16,  1.0000000e+00],\n",
       "       [-2.4492936e-16,  1.0000000e+00],\n",
       "       [-2.4492936e-16,  1.0000000e+00],\n",
       "       [-2.4492936e-16,  1.0000000e+00],\n",
       "       [-2.4492936e-16,  1.0000000e+00],\n",
       "       [-2.4492936e-16,  1.0000000e+00],\n",
       "       [-2.4492936e-16,  1.0000000e+00],\n",
       "       [-2.4492936e-16,  1.0000000e+00],\n",
       "       [-2.4492936e-16,  1.0000000e+00],\n",
       "       [-2.4492936e-16,  1.0000000e+00],\n",
       "       [-2.4492936e-16,  1.0000000e+00],\n",
       "       [-2.4492936e-16,  1.0000000e+00],\n",
       "       [-2.4492936e-16,  1.0000000e+00],\n",
       "       [-2.4492936e-16,  1.0000000e+00],\n",
       "       [-2.4492936e-16,  1.0000000e+00],\n",
       "       [-2.4492936e-16,  1.0000000e+00],\n",
       "       [-2.4492936e-16,  1.0000000e+00],\n",
       "       [-2.4492936e-16,  1.0000000e+00],\n",
       "       [-2.4492936e-16,  1.0000000e+00],\n",
       "       [-2.4492936e-16,  1.0000000e+00],\n",
       "       [-2.4492936e-16,  1.0000000e+00],\n",
       "       [-2.4492936e-16,  1.0000000e+00],\n",
       "       [-2.4492936e-16,  1.0000000e+00],\n",
       "       [-2.4492936e-16,  1.0000000e+00],\n",
       "       [-2.4492936e-16,  1.0000000e+00],\n",
       "       [-2.4492936e-16,  1.0000000e+00],\n",
       "       [-2.4492936e-16,  1.0000000e+00],\n",
       "       [-2.4492936e-16,  1.0000000e+00],\n",
       "       [-2.4492936e-16,  1.0000000e+00],\n",
       "       [-2.4492936e-16,  1.0000000e+00],\n",
       "       [-2.4492936e-16,  1.0000000e+00],\n",
       "       [-2.4492936e-16,  1.0000000e+00],\n",
       "       [-2.4492936e-16,  1.0000000e+00],\n",
       "       [-2.4492936e-16,  1.0000000e+00],\n",
       "       [-2.4492936e-16,  1.0000000e+00],\n",
       "       [-2.4492936e-16,  1.0000000e+00],\n",
       "       [-2.4492936e-16,  1.0000000e+00],\n",
       "       [-2.4492936e-16,  1.0000000e+00],\n",
       "       [-2.4492936e-16,  1.0000000e+00],\n",
       "       [-2.4492936e-16,  1.0000000e+00],\n",
       "       [-2.4492936e-16,  1.0000000e+00],\n",
       "       [-2.4492936e-16,  1.0000000e+00],\n",
       "       [-2.4492936e-16,  1.0000000e+00],\n",
       "       [-2.4492936e-16,  1.0000000e+00],\n",
       "       [-2.4492936e-16,  1.0000000e+00],\n",
       "       [-2.4492936e-16,  1.0000000e+00],\n",
       "       [-2.4492936e-16,  1.0000000e+00],\n",
       "       [-2.4492936e-16,  1.0000000e+00],\n",
       "       [-2.4492936e-16,  1.0000000e+00],\n",
       "       [-2.4492936e-16,  1.0000000e+00],\n",
       "       [-2.4492936e-16,  1.0000000e+00],\n",
       "       [-2.4492936e-16,  1.0000000e+00],\n",
       "       [-2.4492936e-16,  1.0000000e+00],\n",
       "       [-2.4492936e-16,  1.0000000e+00],\n",
       "       [-2.4492936e-16,  1.0000000e+00],\n",
       "       [-2.4492936e-16,  1.0000000e+00],\n",
       "       [-2.4492936e-16,  1.0000000e+00],\n",
       "       [-2.4492936e-16,  1.0000000e+00],\n",
       "       [-2.4492936e-16,  1.0000000e+00],\n",
       "       [-2.4492936e-16,  1.0000000e+00],\n",
       "       [-2.4492936e-16,  1.0000000e+00],\n",
       "       [-2.4492936e-16,  1.0000000e+00],\n",
       "       [-2.4492936e-16,  1.0000000e+00],\n",
       "       [-2.4492936e-16,  1.0000000e+00],\n",
       "       [-2.4492936e-16,  1.0000000e+00],\n",
       "       [-2.4492936e-16,  1.0000000e+00],\n",
       "       [-2.4492936e-16,  1.0000000e+00],\n",
       "       [-2.4492936e-16,  1.0000000e+00],\n",
       "       [-2.4492936e-16,  1.0000000e+00],\n",
       "       [-2.4492936e-16,  1.0000000e+00],\n",
       "       [-2.4492936e-16,  1.0000000e+00],\n",
       "       [-2.4492936e-16,  1.0000000e+00],\n",
       "       [-2.4492936e-16,  1.0000000e+00],\n",
       "       [-2.4492936e-16,  1.0000000e+00],\n",
       "       [-2.4492936e-16,  1.0000000e+00],\n",
       "       [-2.4492936e-16,  1.0000000e+00],\n",
       "       [-2.4492936e-16,  1.0000000e+00],\n",
       "       [-2.4492936e-16,  1.0000000e+00],\n",
       "       [-2.4492936e-16,  1.0000000e+00],\n",
       "       [-2.4492936e-16,  1.0000000e+00],\n",
       "       [-2.4492936e-16,  1.0000000e+00],\n",
       "       [-2.4492936e-16,  1.0000000e+00],\n",
       "       [-2.4492936e-16,  1.0000000e+00],\n",
       "       [-2.4492936e-16,  1.0000000e+00],\n",
       "       [-2.4492936e-16,  1.0000000e+00],\n",
       "       [-2.4492936e-16,  1.0000000e+00],\n",
       "       [-2.4492936e-16,  1.0000000e+00],\n",
       "       [-2.4492936e-16,  1.0000000e+00],\n",
       "       [-2.4492936e-16,  1.0000000e+00],\n",
       "       [-2.4492936e-16,  1.0000000e+00],\n",
       "       [-2.4492936e-16,  1.0000000e+00],\n",
       "       [-2.4492936e-16,  1.0000000e+00],\n",
       "       [-2.4492936e-16,  1.0000000e+00],\n",
       "       [-2.4492936e-16,  1.0000000e+00],\n",
       "       [-2.4492936e-16,  1.0000000e+00],\n",
       "       [-2.4492936e-16,  1.0000000e+00],\n",
       "       [-2.4492936e-16,  1.0000000e+00],\n",
       "       [-2.4492936e-16,  1.0000000e+00],\n",
       "       [-2.4492936e-16,  1.0000000e+00],\n",
       "       [-2.4492936e-16,  1.0000000e+00],\n",
       "       [-2.4492936e-16,  1.0000000e+00],\n",
       "       [-2.4492936e-16,  1.0000000e+00],\n",
       "       [-2.4492936e-16,  1.0000000e+00],\n",
       "       [-2.4492936e-16,  1.0000000e+00],\n",
       "       [-2.4492936e-16,  1.0000000e+00],\n",
       "       [-2.4492936e-16,  1.0000000e+00],\n",
       "       [-2.4492936e-16,  1.0000000e+00],\n",
       "       [-2.4492936e-16,  1.0000000e+00],\n",
       "       [-2.4492936e-16,  1.0000000e+00],\n",
       "       [-2.4492936e-16,  1.0000000e+00],\n",
       "       [-2.4492936e-16,  1.0000000e+00],\n",
       "       [-2.4492936e-16,  1.0000000e+00],\n",
       "       [-2.4492936e-16,  1.0000000e+00],\n",
       "       [-2.4492936e-16,  1.0000000e+00],\n",
       "       [-2.4492936e-16,  1.0000000e+00],\n",
       "       [-2.4492936e-16,  1.0000000e+00],\n",
       "       [-2.4492936e-16,  1.0000000e+00],\n",
       "       [-2.4492936e-16,  1.0000000e+00],\n",
       "       [-2.4492936e-16,  1.0000000e+00],\n",
       "       [-2.4492936e-16,  1.0000000e+00],\n",
       "       [-2.4492936e-16,  1.0000000e+00],\n",
       "       [-2.4492936e-16,  1.0000000e+00],\n",
       "       [-2.4492936e-16,  1.0000000e+00],\n",
       "       [-2.4492936e-16,  1.0000000e+00],\n",
       "       [-2.4492936e-16,  1.0000000e+00],\n",
       "       [-2.4492936e-16,  1.0000000e+00],\n",
       "       [-2.4492936e-16,  1.0000000e+00],\n",
       "       [-2.4492936e-16,  1.0000000e+00],\n",
       "       [-2.4492936e-16,  1.0000000e+00],\n",
       "       [-2.4492936e-16,  1.0000000e+00]])"
      ]
     },
     "execution_count": 166,
     "metadata": {},
     "output_type": "execute_result"
    }
   ],
   "source": [
    "X_tr_Dr_bc_left = np.zeros(200).reshape(200,1)\n",
    "X_tr_Dr_bc_right = 2*np.pi*np.ones(200).reshape(200,1)\n",
    "X_bc = np.concatenate([X_tr_Dr_bc_left,X_tr_Dr_bc_right],axis=0)\n",
    "\n",
    "Y_tr_Dr_bc_left = np.sin(X_tr_Dr_bc_left)\n",
    "Y_tr_Dr_bc_right = np.sin(X_tr_Dr_bc_right)\n",
    "Y_tr_bc = np.concatenate([Y_tr_Dr_bc_left,Y_tr_Dr_bc_right],axis=0)\n",
    "Y_tr_bc = np.concatenate([Y_tr_bc,np.ones((400,1))],axis=1)\n",
    "Y_tr_bc"
   ]
  },
  {
   "cell_type": "markdown",
   "metadata": {},
   "source": [
    "## Scaling the inputs"
   ]
  },
  {
   "cell_type": "code",
   "execution_count": 167,
   "metadata": {},
   "outputs": [],
   "source": [
    "# from sklearn.preprocessing import StandardScaler\n",
    "\n",
    "# scaler = StandardScaler()\n",
    "# X_tr_pde = scaler.fit_transform(X_tr_pde)"
   ]
  },
  {
   "cell_type": "code",
   "execution_count": 168,
   "metadata": {},
   "outputs": [],
   "source": [
    "X_tr = np.concatenate((X_tr_pde, X_bc), axis=0)\n",
    "Y_tr = np.concatenate((Y_tr_pde, Y_tr_bc), axis=0)"
   ]
  },
  {
   "cell_type": "code",
   "execution_count": 191,
   "metadata": {},
   "outputs": [],
   "source": [
    "from sklearn.preprocessing import StandardScaler\n",
    "\n",
    "scaler = StandardScaler()\n",
    "X_tr = scaler.fit_transform(X_tr)"
   ]
  },
  {
   "cell_type": "code",
   "execution_count": 192,
   "metadata": {},
   "outputs": [
    {
     "data": {
      "text/plain": [
       "array([[ 2.49236278e+00,  0.00000000e+00],\n",
       "       [-1.75475958e+00,  0.00000000e+00],\n",
       "       [ 1.14723211e+00,  0.00000000e+00],\n",
       "       ...,\n",
       "       [-2.44929360e-16,  1.00000000e+00],\n",
       "       [-2.44929360e-16,  1.00000000e+00],\n",
       "       [-2.44929360e-16,  1.00000000e+00]])"
      ]
     },
     "execution_count": 192,
     "metadata": {},
     "output_type": "execute_result"
    }
   ],
   "source": [
    "Y_tr"
   ]
  },
  {
   "cell_type": "markdown",
   "metadata": {},
   "source": [
    "## Training the model"
   ]
  },
  {
   "cell_type": "code",
   "execution_count": 193,
   "metadata": {},
   "outputs": [],
   "source": [
    "from tensorflow.keras import backend as K\n",
    "class CustomModel(tf.keras.Model):\n",
    "\n",
    "    def __init__(self):\n",
    "        super(CustomModel, self).__init__()\n",
    "        self.batch_norm_ = keras.layers.BatchNormalization()\n",
    "        he_kernel_init = keras.initializers.he_uniform()\n",
    "        self.dense_1 = keras.layers.Dense(20, activation=\"elu\",\n",
    "                                          kernel_initializer=he_kernel_init,\n",
    "                                          name=\"dense_1\")\n",
    "        self.dense_2 = keras.layers.Dense(20, activation=\"elu\",\n",
    "                                          kernel_initializer=he_kernel_init,\n",
    "                                         name=\"dense_2\")\n",
    "        self.dense_3 = keras.layers.Dense(1,\n",
    "                                         name=\"dense_3\")\n",
    "\n",
    "    def findGrad(self,func,argm):\n",
    "        return keras.layers.Lambda(lambda x: K.gradients(x[0],x[1])[0]) ([func,argm])\n",
    "    \n",
    "    def findPdeLayer(self, pde_lhs, input_arg):\n",
    "        return keras.layers.Lambda(lambda z: z[0] + 4*tf.sin(2*z[1])) ([pde_lhs, input_arg])\n",
    "    \n",
    "    def call(self, inputs):\n",
    "#         layer_0 = self.batch_norm_(inputs)\n",
    "        layer_1 = self.dense_1(inputs)\n",
    "        layer_2 = self.dense_2(layer_1)\n",
    "        layer_3 = self.dense_3(layer_2)\n",
    "        \n",
    "        grad_layer = self.findGrad(layer_3, inputs)\n",
    "        laplace_layer = self.findGrad(grad_layer, inputs)\n",
    "        pde_layer = self.findPdeLayer(laplace_layer, inputs)\n",
    "        \n",
    "        return layer_3, pde_layer\n",
    "\n"
   ]
  },
  {
   "cell_type": "code",
   "execution_count": 194,
   "metadata": {},
   "outputs": [],
   "source": [
    "custom_model = CustomModel()"
   ]
  },
  {
   "cell_type": "code",
   "execution_count": 195,
   "metadata": {},
   "outputs": [],
   "source": [
    "#Loss coming from the boundary terms\n",
    "def u_loss(y_true, y_pred):\n",
    "    y_true_act = y_true[:,:-1]\n",
    "    at_boundary = tf.cast(y_true[:,-1:,],bool)\n",
    "    u_sq_error = (1/2)*tf.square(y_true_act-y_pred)\n",
    "    return tf.where(at_boundary, u_sq_error, 0.)\n",
    "\n",
    "#Loss coming from the PDE constrain\n",
    "def pde_loss(y_true, y_pred):\n",
    "    y_true_act = y_true[:,:-1]\n",
    "    at_boundary = tf.cast(y_true[:,-1:,],bool)\n",
    "    #need to change this to just tf.square(y_pred) after pde constrain is added to grad_layer\n",
    "#     pde_sq_error = (1/2)*tf.square(y_true_act-y_pred)\n",
    "    pde_sq_error = (1/2)*tf.square(y_pred)\n",
    "    return tf.where(at_boundary,0.,pde_sq_error)"
   ]
  },
  {
   "cell_type": "code",
   "execution_count": 196,
   "metadata": {},
   "outputs": [],
   "source": [
    "custom_model.compile(loss=[u_loss,pde_loss],optimizer=\"nadam\")"
   ]
  },
  {
   "cell_type": "code",
   "execution_count": 197,
   "metadata": {},
   "outputs": [
    {
     "name": "stdout",
     "output_type": "stream",
     "text": [
      "Epoch 1/50\n",
      "325/325 [==============================] - 1s 4ms/step - loss: 2.8294 - output_1_loss: 0.0264 - output_2_loss: 2.8030\n",
      "Epoch 2/50\n",
      "325/325 [==============================] - 2s 5ms/step - loss: 0.3916 - output_1_loss: 0.0023 - output_2_loss: 0.3894\n",
      "Epoch 3/50\n",
      "325/325 [==============================] - 1s 5ms/step - loss: 0.1765 - output_1_loss: 0.0022 - output_2_loss: 0.1743\n",
      "Epoch 4/50\n",
      "325/325 [==============================] - 1s 5ms/step - loss: 0.1373 - output_1_loss: 3.7608e-04 - output_2_loss: 0.1370\n",
      "Epoch 5/50\n",
      "325/325 [==============================] - 2s 5ms/step - loss: 0.1129 - output_1_loss: 1.7798e-04 - output_2_loss: 0.1128\n",
      "Epoch 6/50\n",
      "325/325 [==============================] - 1s 5ms/step - loss: 0.1007 - output_1_loss: 1.1526e-04 - output_2_loss: 0.1006\n",
      "Epoch 7/50\n",
      "325/325 [==============================] - 1s 4ms/step - loss: 0.0876 - output_1_loss: 1.7005e-04 - output_2_loss: 0.0874\n",
      "Epoch 8/50\n",
      "325/325 [==============================] - 1s 5ms/step - loss: 0.0758 - output_1_loss: 1.8693e-04 - output_2_loss: 0.0756\n",
      "Epoch 9/50\n",
      "325/325 [==============================] - 1s 5ms/step - loss: 0.0650 - output_1_loss: 2.1933e-04 - output_2_loss: 0.0648\n",
      "Epoch 10/50\n",
      "325/325 [==============================] - 1s 4ms/step - loss: 0.0545 - output_1_loss: 1.4758e-04 - output_2_loss: 0.0544\n",
      "Epoch 11/50\n",
      "325/325 [==============================] - 2s 5ms/step - loss: 0.0439 - output_1_loss: 1.7419e-04 - output_2_loss: 0.0437\n",
      "Epoch 12/50\n",
      "325/325 [==============================] - 2s 6ms/step - loss: 0.0382 - output_1_loss: 1.2731e-04 - output_2_loss: 0.0381\n",
      "Epoch 13/50\n",
      "325/325 [==============================] - 1s 5ms/step - loss: 0.0341 - output_1_loss: 8.3369e-05 - output_2_loss: 0.0340\n",
      "Epoch 14/50\n",
      "325/325 [==============================] - 1s 4ms/step - loss: 0.0313 - output_1_loss: 9.5126e-05 - output_2_loss: 0.0312\n",
      "Epoch 15/50\n",
      "325/325 [==============================] - 2s 5ms/step - loss: 0.0639 - output_1_loss: 5.4196e-04 - output_2_loss: 0.0634\n",
      "Epoch 16/50\n",
      "325/325 [==============================] - 1s 4ms/step - loss: 0.0422 - output_1_loss: 1.7353e-04 - output_2_loss: 0.0420\n",
      "Epoch 17/50\n",
      "325/325 [==============================] - 2s 5ms/step - loss: 0.0320 - output_1_loss: 9.6841e-05 - output_2_loss: 0.0319\n",
      "Epoch 18/50\n",
      "325/325 [==============================] - 2s 5ms/step - loss: 0.0298 - output_1_loss: 9.8705e-05 - output_2_loss: 0.0297\n",
      "Epoch 19/50\n",
      "325/325 [==============================] - 1s 4ms/step - loss: 0.0295 - output_1_loss: 1.5054e-04 - output_2_loss: 0.0294\n",
      "Epoch 20/50\n",
      "325/325 [==============================] - 2s 5ms/step - loss: 0.0265 - output_1_loss: 7.4154e-05 - output_2_loss: 0.0264\n",
      "Epoch 21/50\n",
      "325/325 [==============================] - 1s 4ms/step - loss: 0.0344 - output_1_loss: 1.6514e-04 - output_2_loss: 0.0342\n",
      "Epoch 22/50\n",
      "325/325 [==============================] - 1s 4ms/step - loss: 0.0241 - output_1_loss: 9.0832e-05 - output_2_loss: 0.0240\n",
      "Epoch 23/50\n",
      "325/325 [==============================] - 2s 5ms/step - loss: 0.0173 - output_1_loss: 8.5134e-05 - output_2_loss: 0.0172\n",
      "Epoch 24/50\n",
      "325/325 [==============================] - 1s 4ms/step - loss: 0.0131 - output_1_loss: 8.6154e-05 - output_2_loss: 0.0130\n",
      "Epoch 25/50\n",
      "325/325 [==============================] - 2s 5ms/step - loss: 0.0134 - output_1_loss: 6.3828e-05 - output_2_loss: 0.0133\n",
      "Epoch 26/50\n",
      "325/325 [==============================] - 2s 5ms/step - loss: 0.0124 - output_1_loss: 8.3265e-05 - output_2_loss: 0.0123\n",
      "Epoch 27/50\n",
      "325/325 [==============================] - 2s 5ms/step - loss: 0.0124 - output_1_loss: 1.2879e-04 - output_2_loss: 0.0122\n",
      "Epoch 28/50\n",
      "325/325 [==============================] - 2s 5ms/step - loss: 0.0217 - output_1_loss: 1.5153e-04 - output_2_loss: 0.0215\n",
      "Epoch 29/50\n",
      "325/325 [==============================] - 2s 6ms/step - loss: 0.0475 - output_1_loss: 4.5868e-04 - output_2_loss: 0.0470\n",
      "Epoch 30/50\n",
      "325/325 [==============================] - 2s 7ms/step - loss: 0.0290 - output_1_loss: 2.1586e-04 - output_2_loss: 0.0288\n",
      "Epoch 31/50\n",
      "325/325 [==============================] - 2s 6ms/step - loss: 0.0309 - output_1_loss: 2.6788e-04 - output_2_loss: 0.0306\n",
      "Epoch 32/50\n",
      "325/325 [==============================] - 2s 6ms/step - loss: 0.0297 - output_1_loss: 1.7334e-04 - output_2_loss: 0.0295\n",
      "Epoch 33/50\n",
      "325/325 [==============================] - 2s 5ms/step - loss: 0.0298 - output_1_loss: 1.6741e-04 - output_2_loss: 0.0296\n",
      "Epoch 34/50\n",
      "325/325 [==============================] - 1s 4ms/step - loss: 0.0383 - output_1_loss: 2.2665e-04 - output_2_loss: 0.0381\n",
      "Epoch 35/50\n",
      "325/325 [==============================] - 2s 5ms/step - loss: 0.0375 - output_1_loss: 1.9806e-04 - output_2_loss: 0.0373\n",
      "Epoch 36/50\n",
      "325/325 [==============================] - 2s 5ms/step - loss: 0.0413 - output_1_loss: 1.7294e-04 - output_2_loss: 0.0411\n",
      "Epoch 37/50\n",
      "325/325 [==============================] - 2s 5ms/step - loss: 0.0428 - output_1_loss: 1.5056e-04 - output_2_loss: 0.0426\n",
      "Epoch 38/50\n",
      "325/325 [==============================] - 2s 6ms/step - loss: 0.0555 - output_1_loss: 3.1816e-04 - output_2_loss: 0.0552\n",
      "Epoch 39/50\n",
      "325/325 [==============================] - 2s 6ms/step - loss: 0.0535 - output_1_loss: 2.8099e-04 - output_2_loss: 0.0533\n",
      "Epoch 40/50\n",
      "325/325 [==============================] - 2s 6ms/step - loss: 0.0273 - output_1_loss: 8.1899e-05 - output_2_loss: 0.0272\n",
      "Epoch 41/50\n",
      "325/325 [==============================] - 2s 6ms/step - loss: 0.0230 - output_1_loss: 8.7432e-05 - output_2_loss: 0.0229\n",
      "Epoch 42/50\n",
      "325/325 [==============================] - 2s 6ms/step - loss: 0.0230 - output_1_loss: 9.9552e-05 - output_2_loss: 0.0229\n",
      "Epoch 43/50\n",
      "325/325 [==============================] - 2s 7ms/step - loss: 0.0299 - output_1_loss: 1.6965e-04 - output_2_loss: 0.0297\n",
      "Epoch 44/50\n",
      "325/325 [==============================] - 2s 7ms/step - loss: 0.0377 - output_1_loss: 2.6702e-04 - output_2_loss: 0.0374\n",
      "Epoch 45/50\n",
      "325/325 [==============================] - 2s 6ms/step - loss: 0.0345 - output_1_loss: 2.3155e-04 - output_2_loss: 0.0342\n",
      "Epoch 46/50\n",
      "325/325 [==============================] - 1s 4ms/step - loss: 0.0343 - output_1_loss: 1.8461e-04 - output_2_loss: 0.0341\n",
      "Epoch 47/50\n",
      "325/325 [==============================] - 2s 5ms/step - loss: 0.0328 - output_1_loss: 2.7969e-04 - output_2_loss: 0.0325\n",
      "Epoch 48/50\n",
      "325/325 [==============================] - 2s 6ms/step - loss: 0.0317 - output_1_loss: 1.6816e-04 - output_2_loss: 0.0315\n",
      "Epoch 49/50\n",
      "325/325 [==============================] - 3s 8ms/step - loss: 0.0327 - output_1_loss: 1.7043e-04 - output_2_loss: 0.0326\n",
      "Epoch 50/50\n",
      "325/325 [==============================] - 2s 6ms/step - loss: 0.0374 - output_1_loss: 2.7716e-04 - output_2_loss: 0.0372\n"
     ]
    },
    {
     "data": {
      "text/plain": [
       "<tensorflow.python.keras.callbacks.History at 0x7f4bf6985400>"
      ]
     },
     "execution_count": 197,
     "metadata": {},
     "output_type": "execute_result"
    }
   ],
   "source": [
    "custom_model.fit(x=X_tr, y=Y_tr,epochs=50)"
   ]
  },
  {
   "cell_type": "code",
   "execution_count": 198,
   "metadata": {},
   "outputs": [],
   "source": [
    "# custom_model.compile(loss=[u_loss,pde_loss],optimizer=keras.optimizers.SGD(lr=1e-3))\n",
    "# custom_model.fit(x=X_tr, y=Y_tr,epochs=5)"
   ]
  },
  {
   "cell_type": "code",
   "execution_count": 199,
   "metadata": {},
   "outputs": [],
   "source": [
    "X_test_st = np.random.uniform(0,2*np.pi,500).reshape(500,1)"
   ]
  },
  {
   "cell_type": "code",
   "execution_count": 200,
   "metadata": {},
   "outputs": [],
   "source": [
    "#Scaling test set\n",
    "X_test_st_2 = scaler.transform(X_test_st)"
   ]
  },
  {
   "cell_type": "code",
   "execution_count": 201,
   "metadata": {},
   "outputs": [],
   "source": [
    "Y_test = custom_model.predict(X_test_st_2)"
   ]
  },
  {
   "cell_type": "code",
   "execution_count": 202,
   "metadata": {},
   "outputs": [
    {
     "data": {
      "text/plain": [
       "<matplotlib.collections.PathCollection at 0x7f4bf65526d0>"
      ]
     },
     "execution_count": 202,
     "metadata": {},
     "output_type": "execute_result"
    },
    {
     "data": {
      "image/png": "[encoded data removed]",
      "text/plain": [
       "<Figure size 432x288 with 1 Axes>"
      ]
     },
     "metadata": {
      "needs_background": "light"
     },
     "output_type": "display_data"
    }
   ],
   "source": [
    "plt.scatter(X_test_st_2, Y_test[0][:,0])"
   ]
  },
  {
   "cell_type": "code",
   "execution_count": 203,
   "metadata": {},
   "outputs": [
    {
     "data": {
      "text/plain": [
       "<matplotlib.collections.PathCollection at 0x7f4bf69c4a90>"
      ]
     },
     "execution_count": 203,
     "metadata": {},
     "output_type": "execute_result"
    },
    {
     "data": {
      "image/png": "[encoded data removed]",
      "text/plain": [
       "<Figure size 432x288 with 1 Axes>"
      ]
     },
     "metadata": {
      "needs_background": "light"
     },
     "output_type": "display_data"
    }
   ],
   "source": [
    "plt.scatter(X_test_st,np.sin(2*X_test_st))"
   ]
  },
  {
   "cell_type": "code",
   "execution_count": 204,
   "metadata": {},
   "outputs": [
    {
     "data": {
      "text/plain": [
       "<matplotlib.collections.PathCollection at 0x7f4c1a1c01c0>"
      ]
     },
     "execution_count": 204,
     "metadata": {},
     "output_type": "execute_result"
    },
    {
     "data": {
      "image/png": "[encoded data removed]",
      "text/plain": [
       "<Figure size 432x288 with 1 Axes>"
      ]
     },
     "metadata": {
      "needs_background": "light"
     },
     "output_type": "display_data"
    }
   ],
   "source": [
    "plt.scatter(Y_test[0][:,0],np.sin(2*X_test_st))"
   ]
  },
  {
   "cell_type": "markdown",
   "metadata": {},
   "source": [
    "### Notes to be made"
   ]
  },
  {
   "cell_type": "markdown",
   "metadata": {},
   "source": [
    "- For second order pde, the dataset has to be normalized inorder to get convergence.\n",
    "- Normalization is a problem for 1d problem since, we cant normalize the bc , which are just two endpoints. So the function converges to a another functin of the same shape, but the aplitudes are different.\n",
    "- Even for the 1d case,  siginificant amount of data was required to make this prediction accurate enough.\n",
    "- Needed 2000 collocation points inside the domain and 200 data points each on the left and right boundary."
   ]
  },
  {
   "cell_type": "markdown",
   "metadata": {},
   "source": [
    "## Things to try next time"
   ]
  },
  {
   "cell_type": "markdown",
   "metadata": {},
   "source": [
    "1. Try giving more weightage to the loss of the boundary condition, since the number of sampling points is less for bc.\n",
    "2. Check whether the problem is solved for time dependent problems or problems in 2d since, there will be more information"
   ]
  },
  {
   "cell_type": "code",
   "execution_count": null,
   "metadata": {},
   "outputs": [],
   "source": []
  },
  {
   "cell_type": "code",
   "execution_count": null,
   "metadata": {},
   "outputs": [],
   "source": []
  }
 ],
 "metadata": {
  "kernelspec": {
   "display_name": "Python 3",
   "language": "python",
   "name": "python3"
  },
  "language_info": {
   "codemirror_mode": {
    "name": "ipython",
    "version": 3
   },
   "file_extension": ".py",
   "mimetype": "text/x-python",
   "name": "python",
   "nbconvert_exporter": "python",
   "pygments_lexer": "ipython3",
   "version": "3.8.3"
  }
 },
 "nbformat": 4,
 "nbformat_minor": 4
}
