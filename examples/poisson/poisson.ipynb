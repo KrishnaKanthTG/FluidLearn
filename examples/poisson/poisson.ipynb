{
 "cells": [
  {
   "cell_type": "code",
   "execution_count": 1,
   "metadata": {},
   "outputs": [],
   "source": [
    "import fluidlearn\n",
    "from fluidlearn import dataprocess"
   ]
  },
  {
   "cell_type": "code",
   "execution_count": 2,
   "metadata": {},
   "outputs": [],
   "source": [
    "#domain range\n",
    "X_1_domain = [-2, 2]\n",
    "X_2_domain = [0, 1]\n",
    "#time range\n",
    "T_initial = 0\n",
    "T_final = 1\n",
    "T_domain = [T_initial, T_final]\n",
    "\n",
    "#domain of the problem\n",
    "domain_bounds = [X_1_domain, X_2_domain, T_domain]"
   ]
  },
  {
   "cell_type": "code",
   "execution_count": 7,
   "metadata": {},
   "outputs": [],
   "source": [
    "poisson_model = fluidlearn.Solver()"
   ]
  },
  {
   "cell_type": "code",
   "execution_count": 8,
   "metadata": {},
   "outputs": [],
   "source": [
    "poisson_model(\n",
    "    model_type='forward',\n",
    "    space_dim=2,\n",
    "    time_dep=True,\n",
    "    n_hid_lay=3,\n",
    "    n_hid_nrn=20,\n",
    "    act_func='tanh',\n",
    "    rhs_func=None,\n",
    "    loss_list='mse',\n",
    "    optimizer='adam',\n",
    "    dom_bounds=domain_bounds,\n",
    "    load_model=False,\n",
    "    model_path=None,\n",
    ")"
   ]
  },
  {
   "cell_type": "code",
   "execution_count": 3,
   "metadata": {},
   "outputs": [],
   "source": [
    "X_data, Y_data = dataprocess.imp_from_csv(path_to_csv_file=\"data_manufactured/t_sin_x_plus_y.csv\",\n",
    "                                           x_y_combined=True, y_dim=1)"
   ]
  },
  {
   "cell_type": "code",
   "execution_count": 14,
   "metadata": {
    "scrolled": true
   },
   "outputs": [
    {
     "name": "stdout",
     "output_type": "stream",
     "text": [
      "Epoch 1/20\n",
      "219/219 [==============================] - 0s 1ms/step - loss: 0.0015 - output_1_loss: 0.0011 - output_2_loss: 3.4130e-04\n",
      "Epoch 2/20\n",
      "219/219 [==============================] - 0s 1ms/step - loss: 0.0014 - output_1_loss: 0.0010 - output_2_loss: 3.4608e-04\n",
      "Epoch 3/20\n",
      "219/219 [==============================] - 0s 2ms/step - loss: 0.0013 - output_1_loss: 9.6966e-04 - output_2_loss: 3.5506e-04\n",
      "Epoch 4/20\n",
      "219/219 [==============================] - 0s 2ms/step - loss: 0.0013 - output_1_loss: 9.3757e-04 - output_2_loss: 3.4003e-04\n",
      "Epoch 5/20\n",
      "219/219 [==============================] - 0s 1ms/step - loss: 0.0013 - output_1_loss: 9.9332e-04 - output_2_loss: 3.3931e-04\n",
      "Epoch 6/20\n",
      "219/219 [==============================] - 0s 1ms/step - loss: 0.0012 - output_1_loss: 8.9610e-04 - output_2_loss: 2.9033e-04\n",
      "Epoch 7/20\n",
      "219/219 [==============================] - 0s 1ms/step - loss: 0.0011 - output_1_loss: 8.3124e-04 - output_2_loss: 2.7084e-04\n",
      "Epoch 8/20\n",
      "219/219 [==============================] - 0s 2ms/step - loss: 0.0011 - output_1_loss: 8.1054e-04 - output_2_loss: 3.1464e-04\n",
      "Epoch 9/20\n",
      "219/219 [==============================] - 0s 1ms/step - loss: 0.0010 - output_1_loss: 7.7109e-04 - output_2_loss: 2.4733e-04\n",
      "Epoch 10/20\n",
      "219/219 [==============================] - 0s 1ms/step - loss: 0.0011 - output_1_loss: 7.6351e-04 - output_2_loss: 2.8951e-04\n",
      "Epoch 11/20\n",
      "219/219 [==============================] - 0s 1ms/step - loss: 9.6735e-04 - output_1_loss: 7.2109e-04 - output_2_loss: 2.4626e-04\n",
      "Epoch 12/20\n",
      "219/219 [==============================] - 0s 1ms/step - loss: 0.0010 - output_1_loss: 7.6647e-04 - output_2_loss: 2.4466e-04\n",
      "Epoch 13/20\n",
      "219/219 [==============================] - 0s 1ms/step - loss: 9.7992e-04 - output_1_loss: 7.4498e-04 - output_2_loss: 2.3493e-04\n",
      "Epoch 14/20\n",
      "219/219 [==============================] - 0s 1ms/step - loss: 8.4678e-04 - output_1_loss: 6.4542e-04 - output_2_loss: 2.0136e-04\n",
      "Epoch 15/20\n",
      "219/219 [==============================] - 0s 1ms/step - loss: 8.4176e-04 - output_1_loss: 6.3181e-04 - output_2_loss: 2.0995e-04\n",
      "Epoch 16/20\n",
      "219/219 [==============================] - 0s 1ms/step - loss: 7.9792e-04 - output_1_loss: 5.9361e-04 - output_2_loss: 2.0431e-04\n",
      "Epoch 17/20\n",
      "219/219 [==============================] - 0s 1ms/step - loss: 7.8107e-04 - output_1_loss: 5.8092e-04 - output_2_loss: 2.0015e-04\n",
      "Epoch 18/20\n",
      "219/219 [==============================] - 0s 1ms/step - loss: 7.9964e-04 - output_1_loss: 6.2834e-04 - output_2_loss: 1.7129e-04\n",
      "Epoch 19/20\n",
      "219/219 [==============================] - 0s 1ms/step - loss: 6.8494e-04 - output_1_loss: 5.1421e-04 - output_2_loss: 1.7073e-04\n",
      "Epoch 20/20\n",
      "219/219 [==============================] - 0s 2ms/step - loss: 7.0126e-04 - output_1_loss: 5.3838e-04 - output_2_loss: 1.6288e-04\n"
     ]
    }
   ],
   "source": [
    "poisson_model.fit(\n",
    "    x=X_data,\n",
    "    y=Y_data,\n",
    "    colloc_points=5000,\n",
    "    dist='uniform',\n",
    "    batch_size=32,\n",
    "    epochs=20,\n",
    ")"
   ]
  },
  {
   "cell_type": "markdown",
   "metadata": {},
   "source": [
    "### Saving the model to a specified location."
   ]
  },
  {
   "cell_type": "code",
   "execution_count": 15,
   "metadata": {},
   "outputs": [
    {
     "name": "stdout",
     "output_type": "stream",
     "text": [
      "WARNING:tensorflow:From /home/wickedboy_pc/anaconda3/envs/fluidflowtest/lib/python3.8/site-packages/tensorflow/python/training/tracking/tracking.py:111: Model.state_updates (from tensorflow.python.keras.engine.training) is deprecated and will be removed in a future version.\n",
      "Instructions for updating:\n",
      "This property should not be used in TensorFlow 2.0, as updates are applied automatically.\n",
      "WARNING:tensorflow:From /home/wickedboy_pc/anaconda3/envs/fluidflowtest/lib/python3.8/site-packages/tensorflow/python/training/tracking/tracking.py:111: Layer.updates (from tensorflow.python.keras.engine.base_layer) is deprecated and will be removed in a future version.\n",
      "Instructions for updating:\n",
      "This property should not be used in TensorFlow 2.0, as updates are applied automatically.\n",
      "INFO:tensorflow:Assets written to: saved_model/model_name/assets\n"
     ]
    }
   ],
   "source": [
    "path_to_save_model = \"saved_model/model_name\"\n",
    "poisson_model.save_model(path_to_save_model)"
   ]
  },
  {
   "cell_type": "markdown",
   "metadata": {},
   "source": [
    "### Loading the saved model "
   ]
  },
  {
   "cell_type": "code",
   "execution_count": 4,
   "metadata": {},
   "outputs": [],
   "source": [
    "path_to_load_model = \"saved_model/model_name\""
   ]
  },
  {
   "cell_type": "code",
   "execution_count": 5,
   "metadata": {},
   "outputs": [],
   "source": [
    "loaded_poisson_model = fluidlearn.Solver()"
   ]
  },
  {
   "cell_type": "code",
   "execution_count": 6,
   "metadata": {},
   "outputs": [],
   "source": [
    "loaded_poisson_model(space_dim=2,\n",
    "    time_dep=True,\n",
    "    load_model=True,\n",
    "    model_path=path_to_load_model)"
   ]
  },
  {
   "cell_type": "markdown",
   "metadata": {},
   "source": [
    "### Predicting using loaded model"
   ]
  },
  {
   "cell_type": "code",
   "execution_count": 7,
   "metadata": {},
   "outputs": [],
   "source": [
    "y_predicted = loaded_poisson_model.predict(X_data)"
   ]
  },
  {
   "cell_type": "code",
   "execution_count": 11,
   "metadata": {},
   "outputs": [],
   "source": [
    "import numpy as np"
   ]
  },
  {
   "cell_type": "code",
   "execution_count": 13,
   "metadata": {},
   "outputs": [
    {
     "data": {
      "text/plain": [
       "array([[-0.26652926, -0.22883323],\n",
       "       [-0.45876724, -0.48121758],\n",
       "       [-0.67917389, -0.76377307],\n",
       "       ...,\n",
       "       [-0.04107408, -0.        ],\n",
       "       [-0.01235412,  0.        ],\n",
       "       [ 0.01167114,  0.        ]])"
      ]
     },
     "execution_count": 13,
     "metadata": {},
     "output_type": "execute_result"
    }
   ],
   "source": [
    "np.concatenate([y_predicted,Y_data], axis=1)"
   ]
  },
  {
   "cell_type": "code",
   "execution_count": null,
   "metadata": {},
   "outputs": [],
   "source": []
  }
 ],
 "metadata": {
  "kernelspec": {
   "display_name": "Python 3",
   "language": "python",
   "name": "python3"
  },
  "language_info": {
   "codemirror_mode": {
    "name": "ipython",
    "version": 3
   },
   "file_extension": ".py",
   "mimetype": "text/x-python",
   "name": "python",
   "nbconvert_exporter": "python",
   "pygments_lexer": "ipython3",
   "version": "3.8.5"
  }
 },
 "nbformat": 4,
 "nbformat_minor": 4
}
