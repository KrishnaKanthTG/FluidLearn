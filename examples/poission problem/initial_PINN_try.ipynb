{
 "cells": [
  {
   "cell_type": "markdown",
   "metadata": {},
   "source": [
    "# Modelling 1d poisson problem using PINN"
   ]
  },
  {
   "cell_type": "markdown",
   "metadata": {},
   "source": [
    "Solving the poisson equation $-\\Delta u = f$ using a physics informed neural network "
   ]
  },
  {
   "cell_type": "markdown",
   "metadata": {},
   "source": [
    "### Manufactured solution\n"
   ]
  },
  {
   "cell_type": "markdown",
   "metadata": {},
   "source": [
    "We use $u = sin(x)$ for $x\\in [0,4]$ to manufacture the right hand side to be $f=sin(x)$"
   ]
  },
  {
   "cell_type": "markdown",
   "metadata": {},
   "source": [
    "### Importing packages"
   ]
  },
  {
   "cell_type": "code",
   "execution_count": 1,
   "metadata": {},
   "outputs": [],
   "source": [
    "import numpy as np\n",
    "import tensorflow as tf\n",
    "from tensorflow import keras\n",
    "import pandas as pd\n",
    "import matplotlib.pyplot as plt\n",
    "%matplotlib inline"
   ]
  },
  {
   "cell_type": "markdown",
   "metadata": {},
   "source": [
    "### Manufacturing data for trainig"
   ]
  },
  {
   "cell_type": "code",
   "execution_count": 63,
   "metadata": {},
   "outputs": [],
   "source": [
    "np.random.seed(123)\n",
    "X_tr_pde = np.random.uniform(0,2*np.pi,1000).reshape(1000,1)\n"
   ]
  },
  {
   "cell_type": "markdown",
   "metadata": {},
   "source": [
    "#### Plotting histogram of randomly selected points to make sure they are uniformly distributed "
   ]
  },
  {
   "cell_type": "code",
   "execution_count": 64,
   "metadata": {},
   "outputs": [
    {
     "data": {
      "text/plain": [
       "Text(0, 0.5, 'frequency ')"
      ]
     },
     "execution_count": 64,
     "metadata": {},
     "output_type": "execute_result"
    },
    {
     "data": {
      "image/png": "[encoded data removed]",
      "text/plain": [
       "<Figure size 432x288 with 1 Axes>"
      ]
     },
     "metadata": {
      "needs_background": "light"
     },
     "output_type": "display_data"
    }
   ],
   "source": [
    "plt.hist(X_tr_pde)\n",
    "plt.xlabel(\"training points\")\n",
    "plt.ylabel(\"frequency \")"
   ]
  },
  {
   "cell_type": "code",
   "execution_count": 65,
   "metadata": {},
   "outputs": [
    {
     "data": {
      "text/plain": [
       "<matplotlib.collections.PathCollection at 0x7fdb98613a60>"
      ]
     },
     "execution_count": 65,
     "metadata": {},
     "output_type": "execute_result"
    },
    {
     "data": {
      "image/png": "[encoded data removed]",
      "text/plain": [
       "<Figure size 432x288 with 1 Axes>"
      ]
     },
     "metadata": {
      "needs_background": "light"
     },
     "output_type": "display_data"
    }
   ],
   "source": [
    "Y_tr_pde = np.sin(X_tr_pde)\n",
    "plt.scatter(X_tr_pde,Y_tr_pde)"
   ]
  },
  {
   "cell_type": "code",
   "execution_count": 66,
   "metadata": {},
   "outputs": [],
   "source": [
    "X_tr_Dr_bc_left = np.zeros(100).reshape(100,1)\n",
    "X_tr_Dr_bc_right = 2*np.pi*np.ones(100).reshape(100,1)\n",
    "\n",
    "Y_tr_Dr_bc_left = np.sin(0.)*(X_tr_Dr_bc_left)\n",
    "Y_tr_Dr_bc_right = np.sin(X_tr_Dr_bc_right)\n"
   ]
  },
  {
   "cell_type": "code",
   "execution_count": 67,
   "metadata": {},
   "outputs": [],
   "source": [
    "X_tr = np.concatenate((X_tr_pde, X_tr_Dr_bc_left,\n",
    "                       X_tr_Dr_bc_right), axis=0)\n",
    "Y_tr = np.concatenate((Y_tr_pde, Y_tr_Dr_bc_left,\n",
    "                      Y_tr_Dr_bc_right), axis=0)"
   ]
  },
  {
   "cell_type": "markdown",
   "metadata": {},
   "source": [
    "## Training the model "
   ]
  },
  {
   "cell_type": "markdown",
   "metadata": {},
   "source": [
    "### Defining Keras layers"
   ]
  },
  {
   "cell_type": "code",
   "execution_count": 68,
   "metadata": {},
   "outputs": [
    {
     "name": "stdout",
     "output_type": "stream",
     "text": [
      "Model: \"model_4\"\n",
      "_________________________________________________________________\n",
      "Layer (type)                 Output Shape              Param #   \n",
      "=================================================================\n",
      "input_layer (InputLayer)     [(None, 1)]               0         \n",
      "_________________________________________________________________\n",
      "dense_8 (Dense)              (None, 40)                80        \n",
      "_________________________________________________________________\n",
      "dense_9 (Dense)              (None, 40)                1640      \n",
      "_________________________________________________________________\n",
      "dense_10 (Dense)             (None, 40)                1640      \n",
      "_________________________________________________________________\n",
      "func_u (Dense)               (None, 1)                 41        \n",
      "=================================================================\n",
      "Total params: 3,401\n",
      "Trainable params: 3,401\n",
      "Non-trainable params: 0\n",
      "_________________________________________________________________\n"
     ]
    }
   ],
   "source": [
    "#definng the first input layer\n",
    "input_ = keras.layers.Input(shape=X_tr.shape[1:],name=\"input_layer\")\n",
    "#defining two deep layers in the deep network starting with input_B\n",
    "hidden_1 = keras.layers.Dense(40, activation=\"tanh\")(input_)\n",
    "hidden_01 = keras.layers.Dense(40, activation=\"tanh\")(hidden_1)\n",
    "hidden_2 = keras.layers.Dense(40, activation=\"tanh\")(hidden_01)\n",
    "#Final value of function\n",
    "output_u = keras.layers.Dense(1, name=\"func_u\")(hidden_2)\n",
    "#Defining the first derrivative in terms of a lambda layer\n",
    "# output_pde = keras.layers.Lambda(lambda x: tf.gradients(x,input_)[0]) (output_u)\n",
    "#Defining the second derrivative in terms of another lambda layer\n",
    "# output_pde_2 = keras.layers.Lambda(lambda x: tf.gradients(x,input_)[0]) (output_pde)\n",
    "\n",
    "# #combining the original output u and its hessian\n",
    "# output_u_pde = keras.layers.Concatenate()([output_u, output_pde_2])\n",
    "\n",
    "#Finally defining the model using functional api\n",
    "# pinn_model = keras.Model(inputs=[input_], outputs=[output_u, output_pde_2])\n",
    "pinn_model = keras.Model(inputs=[input_], outputs=[output_u])\n",
    "pinn_model.summary()\n"
   ]
  },
  {
   "cell_type": "markdown",
   "metadata": {},
   "source": [
    "### Defining custom loss function"
   ]
  },
  {
   "cell_type": "code",
   "execution_count": 69,
   "metadata": {},
   "outputs": [],
   "source": [
    "def custom_loss_bc(y_true, y_pred):\n",
    "        error = y_true - y_pred\n",
    "        is_bc_point = tf.abs(y_true) < 10e-6\n",
    "        bc_error = 0.5*(y_true **2)\n",
    "        no_error = tf.zeros(y_true.shape)\n",
    "        return tf.where(is_bc_point, bc_error, no_error)"
   ]
  },
  {
   "cell_type": "code",
   "execution_count": 70,
   "metadata": {},
   "outputs": [],
   "source": [
    "def custom_loss_pde(y_true, y_pred):\n",
    "    error = y_true - y_pred\n",
    "    is_inside_point = tf.abs(y_true) > 10e-6\n",
    "    pde_error = 0.5*error**2\n",
    "    no_error = tf.zeros(y_true.shape)\n",
    "    return tf.where(is_inside_point, pde_error, no_error)"
   ]
  },
  {
   "cell_type": "code",
   "execution_count": 78,
   "metadata": {},
   "outputs": [],
   "source": [
    "pinn_model.compile(loss=[\"mse\"], optimizer=keras.optimizers.SGD(lr=1e-2)\n",
    "                  )"
   ]
  },
  {
   "cell_type": "code",
   "execution_count": 83,
   "metadata": {},
   "outputs": [
    {
     "name": "stdout",
     "output_type": "stream",
     "text": [
      "Epoch 1/200\n",
      "32/32 [==============================] - 0s 4ms/step - loss: 0.0080\n",
      "Epoch 2/200\n",
      "32/32 [==============================] - 0s 3ms/step - loss: 0.0069\n",
      "Epoch 3/200\n",
      "32/32 [==============================] - 0s 3ms/step - loss: 0.0087\n",
      "Epoch 4/200\n",
      "32/32 [==============================] - 0s 3ms/step - loss: 0.0073\n",
      "Epoch 5/200\n",
      "32/32 [==============================] - 0s 3ms/step - loss: 0.0063\n",
      "Epoch 6/200\n",
      "32/32 [==============================] - 0s 3ms/step - loss: 0.0068\n",
      "Epoch 7/200\n",
      "32/32 [==============================] - 0s 2ms/step - loss: 0.0095\n",
      "Epoch 8/200\n",
      "32/32 [==============================] - 0s 3ms/step - loss: 0.0069\n",
      "Epoch 9/200\n",
      "32/32 [==============================] - 0s 3ms/step - loss: 0.0071\n",
      "Epoch 10/200\n",
      "32/32 [==============================] - 0s 3ms/step - loss: 0.0056\n",
      "Epoch 11/200\n",
      "32/32 [==============================] - 0s 2ms/step - loss: 0.0056\n",
      "Epoch 12/200\n",
      "32/32 [==============================] - 0s 3ms/step - loss: 0.0067\n",
      "Epoch 13/200\n",
      "32/32 [==============================] - 0s 3ms/step - loss: 0.0059\n",
      "Epoch 14/200\n",
      "32/32 [==============================] - 0s 3ms/step - loss: 0.0063\n",
      "Epoch 15/200\n",
      "32/32 [==============================] - 0s 3ms/step - loss: 0.0088\n",
      "Epoch 16/200\n",
      "32/32 [==============================] - 0s 3ms/step - loss: 0.0056\n",
      "Epoch 17/200\n",
      "32/32 [==============================] - 0s 3ms/step - loss: 0.0071\n",
      "Epoch 18/200\n",
      "32/32 [==============================] - 0s 3ms/step - loss: 0.0046\n",
      "Epoch 19/200\n",
      "32/32 [==============================] - 0s 3ms/step - loss: 0.0042\n",
      "Epoch 20/200\n",
      "32/32 [==============================] - 0s 3ms/step - loss: 0.0067\n",
      "Epoch 21/200\n",
      "32/32 [==============================] - 0s 3ms/step - loss: 0.0079\n",
      "Epoch 22/200\n",
      "32/32 [==============================] - 0s 2ms/step - loss: 0.0089\n",
      "Epoch 23/200\n",
      "32/32 [==============================] - 0s 3ms/step - loss: 0.0052\n",
      "Epoch 24/200\n",
      "32/32 [==============================] - 0s 3ms/step - loss: 0.0041\n",
      "Epoch 25/200\n",
      "32/32 [==============================] - 0s 2ms/step - loss: 0.0044\n",
      "Epoch 26/200\n",
      "32/32 [==============================] - 0s 4ms/step - loss: 0.0048\n",
      "Epoch 27/200\n",
      "32/32 [==============================] - 0s 5ms/step - loss: 0.0061\n",
      "Epoch 28/200\n",
      "32/32 [==============================] - 0s 4ms/step - loss: 0.0085\n",
      "Epoch 29/200\n",
      "32/32 [==============================] - 0s 3ms/step - loss: 0.0088\n",
      "Epoch 30/200\n",
      "32/32 [==============================] - 0s 4ms/step - loss: 0.0052\n",
      "Epoch 31/200\n",
      "32/32 [==============================] - 0s 4ms/step - loss: 0.0041\n",
      "Epoch 32/200\n",
      "32/32 [==============================] - 0s 3ms/step - loss: 0.0035\n",
      "Epoch 33/200\n",
      "32/32 [==============================] - 0s 3ms/step - loss: 0.0058\n",
      "Epoch 34/200\n",
      "32/32 [==============================] - 0s 2ms/step - loss: 0.0034\n",
      "Epoch 35/200\n",
      "32/32 [==============================] - 0s 3ms/step - loss: 0.0057\n",
      "Epoch 36/200\n",
      "32/32 [==============================] - 0s 3ms/step - loss: 0.0059\n",
      "Epoch 37/200\n",
      "32/32 [==============================] - 0s 2ms/step - loss: 0.0058\n",
      "Epoch 38/200\n",
      "32/32 [==============================] - 0s 3ms/step - loss: 0.0041\n",
      "Epoch 39/200\n",
      "32/32 [==============================] - 0s 3ms/step - loss: 0.0036\n",
      "Epoch 40/200\n",
      "32/32 [==============================] - 0s 3ms/step - loss: 0.0034\n",
      "Epoch 41/200\n",
      "32/32 [==============================] - 0s 3ms/step - loss: 0.0046\n",
      "Epoch 42/200\n",
      "32/32 [==============================] - 0s 3ms/step - loss: 0.0042\n",
      "Epoch 43/200\n",
      "32/32 [==============================] - 0s 3ms/step - loss: 0.0053\n",
      "Epoch 44/200\n",
      "32/32 [==============================] - 0s 4ms/step - loss: 0.0033\n",
      "Epoch 45/200\n",
      "32/32 [==============================] - 0s 3ms/step - loss: 0.0097\n",
      "Epoch 46/200\n",
      "32/32 [==============================] - 0s 3ms/step - loss: 0.0031\n",
      "Epoch 47/200\n",
      "32/32 [==============================] - 0s 3ms/step - loss: 0.0040\n",
      "Epoch 48/200\n",
      "32/32 [==============================] - 0s 2ms/step - loss: 0.0044\n",
      "Epoch 49/200\n",
      "32/32 [==============================] - 0s 3ms/step - loss: 0.0042\n",
      "Epoch 50/200\n",
      "32/32 [==============================] - 0s 4ms/step - loss: 0.0034\n",
      "Epoch 51/200\n",
      "32/32 [==============================] - 0s 3ms/step - loss: 0.0116\n",
      "Epoch 52/200\n",
      "32/32 [==============================] - 0s 4ms/step - loss: 0.0043\n",
      "Epoch 53/200\n",
      "32/32 [==============================] - 0s 3ms/step - loss: 0.0066\n",
      "Epoch 54/200\n",
      "32/32 [==============================] - 0s 3ms/step - loss: 0.0089\n",
      "Epoch 55/200\n",
      "32/32 [==============================] - 0s 4ms/step - loss: 0.0067\n",
      "Epoch 56/200\n",
      "32/32 [==============================] - 0s 4ms/step - loss: 0.0025\n",
      "Epoch 57/200\n",
      "32/32 [==============================] - 0s 3ms/step - loss: 0.0039\n",
      "Epoch 58/200\n",
      "32/32 [==============================] - 0s 5ms/step - loss: 0.0026\n",
      "Epoch 59/200\n",
      "32/32 [==============================] - 0s 7ms/step - loss: 0.0022\n",
      "Epoch 60/200\n",
      "32/32 [==============================] - 0s 3ms/step - loss: 0.0059\n",
      "Epoch 61/200\n",
      "32/32 [==============================] - 0s 2ms/step - loss: 0.0024\n",
      "Epoch 62/200\n",
      "32/32 [==============================] - 0s 3ms/step - loss: 0.0033\n",
      "Epoch 63/200\n",
      "32/32 [==============================] - 0s 2ms/step - loss: 0.0042\n",
      "Epoch 64/200\n",
      "32/32 [==============================] - 0s 11ms/step - loss: 0.0022\n",
      "Epoch 65/200\n",
      "32/32 [==============================] - 0s 7ms/step - loss: 0.0026\n",
      "Epoch 66/200\n",
      "32/32 [==============================] - 0s 4ms/step - loss: 0.0021\n",
      "Epoch 67/200\n",
      "32/32 [==============================] - 0s 3ms/step - loss: 0.0043\n",
      "Epoch 68/200\n",
      "32/32 [==============================] - 0s 4ms/step - loss: 0.0062\n",
      "Epoch 69/200\n",
      "32/32 [==============================] - 0s 3ms/step - loss: 0.0074\n",
      "Epoch 70/200\n",
      "32/32 [==============================] - 0s 5ms/step - loss: 0.0027\n",
      "Epoch 71/200\n",
      "32/32 [==============================] - 0s 4ms/step - loss: 0.0030\n",
      "Epoch 72/200\n",
      "32/32 [==============================] - 0s 3ms/step - loss: 0.0027\n",
      "Epoch 73/200\n",
      "32/32 [==============================] - 0s 5ms/step - loss: 0.0022\n",
      "Epoch 74/200\n",
      "32/32 [==============================] - 0s 3ms/step - loss: 0.0020\n",
      "Epoch 75/200\n",
      "32/32 [==============================] - 0s 2ms/step - loss: 0.0035\n",
      "Epoch 76/200\n",
      "32/32 [==============================] - 0s 3ms/step - loss: 0.0030\n",
      "Epoch 77/200\n",
      "32/32 [==============================] - 0s 3ms/step - loss: 0.0062\n",
      "Epoch 78/200\n",
      "32/32 [==============================] - 0s 3ms/step - loss: 0.0029\n",
      "Epoch 79/200\n",
      "32/32 [==============================] - 0s 7ms/step - loss: 0.0025\n",
      "Epoch 80/200\n",
      "32/32 [==============================] - 0s 5ms/step - loss: 0.0029\n",
      "Epoch 81/200\n",
      "32/32 [==============================] - 0s 5ms/step - loss: 0.0022\n",
      "Epoch 82/200\n",
      "32/32 [==============================] - 0s 6ms/step - loss: 0.0049\n",
      "Epoch 83/200\n",
      "32/32 [==============================] - 0s 3ms/step - loss: 0.0044\n",
      "Epoch 84/200\n",
      "32/32 [==============================] - 0s 2ms/step - loss: 0.0023\n",
      "Epoch 85/200\n",
      "32/32 [==============================] - 0s 2ms/step - loss: 0.0026\n",
      "Epoch 86/200\n",
      "32/32 [==============================] - 0s 3ms/step - loss: 0.0046\n",
      "Epoch 87/200\n",
      "32/32 [==============================] - 0s 5ms/step - loss: 0.0014\n",
      "Epoch 88/200\n",
      "32/32 [==============================] - 0s 3ms/step - loss: 0.0048\n",
      "Epoch 89/200\n",
      "32/32 [==============================] - 0s 4ms/step - loss: 0.0024\n",
      "Epoch 90/200\n",
      "32/32 [==============================] - 0s 3ms/step - loss: 0.0033\n",
      "Epoch 91/200\n",
      "32/32 [==============================] - 0s 3ms/step - loss: 0.0027\n",
      "Epoch 92/200\n",
      "32/32 [==============================] - 0s 4ms/step - loss: 0.0014\n",
      "Epoch 93/200\n",
      "32/32 [==============================] - 0s 3ms/step - loss: 0.0025\n",
      "Epoch 94/200\n",
      "32/32 [==============================] - 0s 3ms/step - loss: 0.0013\n",
      "Epoch 95/200\n",
      "32/32 [==============================] - 0s 5ms/step - loss: 0.0043\n",
      "Epoch 96/200\n",
      "32/32 [==============================] - 0s 4ms/step - loss: 0.0026\n",
      "Epoch 97/200\n",
      "32/32 [==============================] - 0s 5ms/step - loss: 0.0033\n",
      "Epoch 98/200\n",
      "32/32 [==============================] - 0s 4ms/step - loss: 0.0043\n",
      "Epoch 99/200\n",
      "32/32 [==============================] - 0s 4ms/step - loss: 0.0033\n",
      "Epoch 100/200\n",
      "32/32 [==============================] - 0s 4ms/step - loss: 0.0013\n",
      "Epoch 101/200\n",
      "32/32 [==============================] - 0s 4ms/step - loss: 0.0019\n",
      "Epoch 102/200\n"
     ]
    },
    {
     "name": "stdout",
     "output_type": "stream",
     "text": [
      "32/32 [==============================] - 0s 4ms/step - loss: 0.0015\n",
      "Epoch 103/200\n",
      "32/32 [==============================] - 0s 3ms/step - loss: 0.0016\n",
      "Epoch 104/200\n",
      "32/32 [==============================] - 0s 3ms/step - loss: 0.0014\n",
      "Epoch 105/200\n",
      "32/32 [==============================] - 0s 3ms/step - loss: 0.0017\n",
      "Epoch 106/200\n",
      "32/32 [==============================] - 0s 3ms/step - loss: 0.0023\n",
      "Epoch 107/200\n",
      "32/32 [==============================] - 0s 2ms/step - loss: 0.0013\n",
      "Epoch 108/200\n",
      "32/32 [==============================] - 0s 3ms/step - loss: 0.0012\n",
      "Epoch 109/200\n",
      "32/32 [==============================] - 0s 2ms/step - loss: 0.0032\n",
      "Epoch 110/200\n",
      "32/32 [==============================] - 0s 2ms/step - loss: 0.0012\n",
      "Epoch 111/200\n",
      "32/32 [==============================] - 0s 2ms/step - loss: 0.0024\n",
      "Epoch 112/200\n",
      "32/32 [==============================] - 0s 3ms/step - loss: 0.0025\n",
      "Epoch 113/200\n",
      "32/32 [==============================] - 0s 4ms/step - loss: 0.0032\n",
      "Epoch 114/200\n",
      "32/32 [==============================] - 0s 4ms/step - loss: 0.0055\n",
      "Epoch 115/200\n",
      "32/32 [==============================] - 0s 4ms/step - loss: 0.0071\n",
      "Epoch 116/200\n",
      "32/32 [==============================] - 0s 4ms/step - loss: 0.0032\n",
      "Epoch 117/200\n",
      "32/32 [==============================] - 0s 2ms/step - loss: 0.0027\n",
      "Epoch 118/200\n",
      "32/32 [==============================] - 0s 3ms/step - loss: 0.0020\n",
      "Epoch 119/200\n",
      "32/32 [==============================] - 0s 3ms/step - loss: 0.0011\n",
      "Epoch 120/200\n",
      "32/32 [==============================] - 0s 2ms/step - loss: 0.0014\n",
      "Epoch 121/200\n",
      "32/32 [==============================] - 0s 2ms/step - loss: 0.0015\n",
      "Epoch 122/200\n",
      "32/32 [==============================] - 0s 4ms/step - loss: 0.0011\n",
      "Epoch 123/200\n",
      "32/32 [==============================] - 0s 4ms/step - loss: 0.0011\n",
      "Epoch 124/200\n",
      "32/32 [==============================] - 0s 3ms/step - loss: 0.0011\n",
      "Epoch 125/200\n",
      "32/32 [==============================] - 0s 3ms/step - loss: 0.0033\n",
      "Epoch 126/200\n",
      "32/32 [==============================] - 0s 3ms/step - loss: 0.0018\n",
      "Epoch 127/200\n",
      "32/32 [==============================] - 0s 3ms/step - loss: 0.0025\n",
      "Epoch 128/200\n",
      "32/32 [==============================] - 0s 3ms/step - loss: 0.0011\n",
      "Epoch 129/200\n",
      "32/32 [==============================] - 0s 4ms/step - loss: 8.5819e-04\n",
      "Epoch 130/200\n",
      "32/32 [==============================] - 0s 3ms/step - loss: 0.0017\n",
      "Epoch 131/200\n",
      "32/32 [==============================] - 0s 3ms/step - loss: 8.2464e-04\n",
      "Epoch 132/200\n",
      "32/32 [==============================] - 0s 3ms/step - loss: 0.0028\n",
      "Epoch 133/200\n",
      "32/32 [==============================] - 0s 2ms/step - loss: 0.0024\n",
      "Epoch 134/200\n",
      "32/32 [==============================] - 0s 2ms/step - loss: 0.0014\n",
      "Epoch 135/200\n",
      "32/32 [==============================] - 0s 3ms/step - loss: 9.6781e-04\n",
      "Epoch 136/200\n",
      "32/32 [==============================] - 0s 2ms/step - loss: 0.0010\n",
      "Epoch 137/200\n",
      "32/32 [==============================] - 0s 1ms/step - loss: 0.0010\n",
      "Epoch 138/200\n",
      "32/32 [==============================] - 0s 4ms/step - loss: 0.0010\n",
      "Epoch 139/200\n",
      "32/32 [==============================] - 0s 4ms/step - loss: 0.0029\n",
      "Epoch 140/200\n",
      "32/32 [==============================] - 0s 4ms/step - loss: 0.0010\n",
      "Epoch 141/200\n",
      "32/32 [==============================] - 0s 6ms/step - loss: 0.0017\n",
      "Epoch 142/200\n",
      "32/32 [==============================] - 0s 6ms/step - loss: 8.8424e-04\n",
      "Epoch 143/200\n",
      "32/32 [==============================] - 0s 4ms/step - loss: 0.0019\n",
      "Epoch 144/200\n",
      "32/32 [==============================] - 0s 5ms/step - loss: 0.0022\n",
      "Epoch 145/200\n",
      "32/32 [==============================] - 0s 3ms/step - loss: 7.7485e-04\n",
      "Epoch 146/200\n",
      "32/32 [==============================] - 0s 2ms/step - loss: 0.0027\n",
      "Epoch 147/200\n",
      "32/32 [==============================] - 0s 4ms/step - loss: 0.0010\n",
      "Epoch 148/200\n",
      "32/32 [==============================] - 0s 3ms/step - loss: 0.0010\n",
      "Epoch 149/200\n",
      "32/32 [==============================] - 0s 3ms/step - loss: 0.0011\n",
      "Epoch 150/200\n",
      "32/32 [==============================] - 0s 6ms/step - loss: 0.0017\n",
      "Epoch 151/200\n",
      "32/32 [==============================] - 0s 5ms/step - loss: 0.0010\n",
      "Epoch 152/200\n",
      "32/32 [==============================] - 0s 3ms/step - loss: 0.0028\n",
      "Epoch 153/200\n",
      "32/32 [==============================] - 0s 3ms/step - loss: 9.8700e-04\n",
      "Epoch 154/200\n",
      "32/32 [==============================] - 0s 3ms/step - loss: 0.0014\n",
      "Epoch 155/200\n",
      "32/32 [==============================] - 0s 3ms/step - loss: 8.1759e-04\n",
      "Epoch 156/200\n",
      "32/32 [==============================] - 0s 3ms/step - loss: 8.2825e-04\n",
      "Epoch 157/200\n",
      "32/32 [==============================] - 0s 5ms/step - loss: 8.1714e-04\n",
      "Epoch 158/200\n",
      "32/32 [==============================] - 0s 11ms/step - loss: 0.0012\n",
      "Epoch 159/200\n",
      "32/32 [==============================] - 0s 3ms/step - loss: 0.0011\n",
      "Epoch 160/200\n",
      "32/32 [==============================] - 0s 4ms/step - loss: 0.0010\n",
      "Epoch 161/200\n",
      "32/32 [==============================] - 0s 3ms/step - loss: 7.0563e-04\n",
      "Epoch 162/200\n",
      "32/32 [==============================] - 0s 3ms/step - loss: 8.9056e-04\n",
      "Epoch 163/200\n",
      "32/32 [==============================] - 0s 4ms/step - loss: 5.1772e-04\n",
      "Epoch 164/200\n",
      "32/32 [==============================] - 0s 6ms/step - loss: 0.0014\n",
      "Epoch 165/200\n",
      "32/32 [==============================] - 0s 3ms/step - loss: 8.7204e-04\n",
      "Epoch 166/200\n",
      "32/32 [==============================] - 0s 3ms/step - loss: 7.1443e-04\n",
      "Epoch 167/200\n",
      "32/32 [==============================] - 0s 3ms/step - loss: 0.0097\n",
      "Epoch 168/200\n",
      "32/32 [==============================] - 0s 2ms/step - loss: 7.3142e-04\n",
      "Epoch 169/200\n",
      "32/32 [==============================] - 0s 3ms/step - loss: 0.0018\n",
      "Epoch 170/200\n",
      "32/32 [==============================] - 0s 3ms/step - loss: 0.0010\n",
      "Epoch 171/200\n",
      "32/32 [==============================] - 0s 4ms/step - loss: 0.0017\n",
      "Epoch 172/200\n",
      "32/32 [==============================] - 0s 5ms/step - loss: 6.3465e-04\n",
      "Epoch 173/200\n",
      "32/32 [==============================] - 0s 4ms/step - loss: 5.2633e-04\n",
      "Epoch 174/200\n",
      "32/32 [==============================] - 0s 3ms/step - loss: 6.4334e-04\n",
      "Epoch 175/200\n",
      "32/32 [==============================] - 0s 5ms/step - loss: 0.0016\n",
      "Epoch 176/200\n",
      "32/32 [==============================] - 0s 3ms/step - loss: 0.0010\n",
      "Epoch 177/200\n",
      "32/32 [==============================] - 0s 3ms/step - loss: 6.0785e-04\n",
      "Epoch 178/200\n",
      "32/32 [==============================] - 0s 3ms/step - loss: 5.8443e-04\n",
      "Epoch 179/200\n",
      "32/32 [==============================] - 0s 3ms/step - loss: 0.0016\n",
      "Epoch 180/200\n",
      "32/32 [==============================] - 0s 2ms/step - loss: 0.0024\n",
      "Epoch 181/200\n",
      "32/32 [==============================] - 0s 5ms/step - loss: 0.0016\n",
      "Epoch 182/200\n",
      "32/32 [==============================] - 0s 4ms/step - loss: 7.6520e-04\n",
      "Epoch 183/200\n",
      "32/32 [==============================] - 0s 5ms/step - loss: 5.3757e-04\n",
      "Epoch 184/200\n",
      "32/32 [==============================] - 0s 3ms/step - loss: 0.0012\n",
      "Epoch 185/200\n",
      "32/32 [==============================] - 0s 4ms/step - loss: 0.0010\n",
      "Epoch 186/200\n",
      "32/32 [==============================] - 0s 4ms/step - loss: 0.0012\n",
      "Epoch 187/200\n",
      "32/32 [==============================] - 0s 4ms/step - loss: 7.0029e-04\n",
      "Epoch 188/200\n",
      "32/32 [==============================] - 0s 4ms/step - loss: 0.0014\n",
      "Epoch 189/200\n",
      "32/32 [==============================] - 0s 6ms/step - loss: 5.3158e-04\n",
      "Epoch 190/200\n",
      "32/32 [==============================] - 0s 4ms/step - loss: 6.5721e-04\n",
      "Epoch 191/200\n",
      "32/32 [==============================] - 0s 6ms/step - loss: 9.3027e-04\n",
      "Epoch 192/200\n",
      "32/32 [==============================] - 0s 4ms/step - loss: 0.0027\n",
      "Epoch 193/200\n",
      "32/32 [==============================] - 0s 2ms/step - loss: 0.0031\n",
      "Epoch 194/200\n",
      "32/32 [==============================] - 0s 2ms/step - loss: 6.5203e-04\n",
      "Epoch 195/200\n",
      "32/32 [==============================] - 0s 2ms/step - loss: 7.9940e-04\n",
      "Epoch 196/200\n",
      "32/32 [==============================] - 0s 2ms/step - loss: 5.9893e-04\n",
      "Epoch 197/200\n",
      "32/32 [==============================] - 0s 4ms/step - loss: 0.0013\n",
      "Epoch 198/200\n",
      "32/32 [==============================] - 0s 5ms/step - loss: 0.0016\n",
      "Epoch 199/200\n",
      "32/32 [==============================] - 0s 5ms/step - loss: 4.5795e-04\n",
      "Epoch 200/200\n"
     ]
    },
    {
     "name": "stdout",
     "output_type": "stream",
     "text": [
      "32/32 [==============================] - 0s 3ms/step - loss: 7.8674e-04\n"
     ]
    }
   ],
   "source": [
    "history = pinn_model.fit(X_tr_pde,Y_tr_pde, epochs=200)"
   ]
  },
  {
   "cell_type": "code",
   "execution_count": 85,
   "metadata": {},
   "outputs": [],
   "source": [
    "pinn_model.compile(loss=[\"mse\"], optimizer=keras.optimizers.SGD(lr=1e-4)\n",
    "                  )"
   ]
  },
  {
   "cell_type": "code",
   "execution_count": 90,
   "metadata": {},
   "outputs": [
    {
     "name": "stdout",
     "output_type": "stream",
     "text": [
      "Epoch 1/50\n",
      "32/32 [==============================] - 0s 4ms/step - loss: 3.4635e-04\n",
      "Epoch 2/50\n",
      "32/32 [==============================] - 0s 3ms/step - loss: 3.4626e-04\n",
      "Epoch 3/50\n",
      "32/32 [==============================] - 0s 3ms/step - loss: 3.4621e-04\n",
      "Epoch 4/50\n",
      "32/32 [==============================] - 0s 3ms/step - loss: 3.4641e-04\n",
      "Epoch 5/50\n",
      "32/32 [==============================] - 0s 3ms/step - loss: 3.4609e-04\n",
      "Epoch 6/50\n",
      "32/32 [==============================] - 0s 3ms/step - loss: 3.4615e-04\n",
      "Epoch 7/50\n",
      "32/32 [==============================] - 0s 3ms/step - loss: 3.4598e-04\n",
      "Epoch 8/50\n",
      "32/32 [==============================] - 0s 4ms/step - loss: 3.4644e-04\n",
      "Epoch 9/50\n",
      "32/32 [==============================] - 0s 4ms/step - loss: 3.4604e-04\n",
      "Epoch 10/50\n",
      "32/32 [==============================] - 0s 5ms/step - loss: 3.4602e-04\n",
      "Epoch 11/50\n",
      "32/32 [==============================] - 0s 4ms/step - loss: 3.4615e-04\n",
      "Epoch 12/50\n",
      "32/32 [==============================] - 0s 3ms/step - loss: 3.4601e-04\n",
      "Epoch 13/50\n",
      "32/32 [==============================] - 0s 3ms/step - loss: 3.4579e-04\n",
      "Epoch 14/50\n",
      "32/32 [==============================] - 0s 5ms/step - loss: 3.4608e-04\n",
      "Epoch 15/50\n",
      "32/32 [==============================] - 0s 3ms/step - loss: 3.4589e-04\n",
      "Epoch 16/50\n",
      "32/32 [==============================] - 0s 3ms/step - loss: 3.4576e-04\n",
      "Epoch 17/50\n",
      "32/32 [==============================] - 0s 3ms/step - loss: 3.4596e-04\n",
      "Epoch 18/50\n",
      "32/32 [==============================] - 0s 3ms/step - loss: 3.4615e-04\n",
      "Epoch 19/50\n",
      "32/32 [==============================] - 0s 3ms/step - loss: 3.4582e-04\n",
      "Epoch 20/50\n",
      "32/32 [==============================] - 0s 3ms/step - loss: 3.4568e-04\n",
      "Epoch 21/50\n",
      "32/32 [==============================] - 0s 3ms/step - loss: 3.4563e-04\n",
      "Epoch 22/50\n",
      "32/32 [==============================] - 0s 3ms/step - loss: 3.4566e-04\n",
      "Epoch 23/50\n",
      "32/32 [==============================] - 0s 3ms/step - loss: 3.4553e-04\n",
      "Epoch 24/50\n",
      "32/32 [==============================] - 0s 3ms/step - loss: 3.4551e-04\n",
      "Epoch 25/50\n",
      "32/32 [==============================] - 0s 3ms/step - loss: 3.4552e-04\n",
      "Epoch 26/50\n",
      "32/32 [==============================] - 0s 3ms/step - loss: 3.4541e-04\n",
      "Epoch 27/50\n",
      "32/32 [==============================] - 0s 4ms/step - loss: 3.4549e-04\n",
      "Epoch 28/50\n",
      "32/32 [==============================] - 0s 4ms/step - loss: 3.4568e-04\n",
      "Epoch 29/50\n",
      "32/32 [==============================] - 0s 3ms/step - loss: 3.4550e-04\n",
      "Epoch 30/50\n",
      "32/32 [==============================] - 0s 2ms/step - loss: 3.4556e-04\n",
      "Epoch 31/50\n",
      "32/32 [==============================] - 0s 3ms/step - loss: 3.4571e-04\n",
      "Epoch 32/50\n",
      "32/32 [==============================] - 0s 5ms/step - loss: 3.4538e-04\n",
      "Epoch 33/50\n",
      "32/32 [==============================] - 0s 4ms/step - loss: 3.4525e-04\n",
      "Epoch 34/50\n",
      "32/32 [==============================] - 0s 3ms/step - loss: 3.4517e-04\n",
      "Epoch 35/50\n",
      "32/32 [==============================] - 0s 4ms/step - loss: 3.4520e-04\n",
      "Epoch 36/50\n",
      "32/32 [==============================] - 0s 3ms/step - loss: 3.4538e-04\n",
      "Epoch 37/50\n",
      "32/32 [==============================] - 0s 3ms/step - loss: 3.4508e-04\n",
      "Epoch 38/50\n",
      "32/32 [==============================] - 0s 4ms/step - loss: 3.4512e-04\n",
      "Epoch 39/50\n",
      "32/32 [==============================] - 0s 4ms/step - loss: 3.4514e-04\n",
      "Epoch 40/50\n",
      "32/32 [==============================] - 0s 4ms/step - loss: 3.4498e-04\n",
      "Epoch 41/50\n",
      "32/32 [==============================] - 0s 3ms/step - loss: 3.4493e-04\n",
      "Epoch 42/50\n",
      "32/32 [==============================] - 0s 3ms/step - loss: 3.4501e-04\n",
      "Epoch 43/50\n",
      "32/32 [==============================] - 0s 3ms/step - loss: 3.4515e-04\n",
      "Epoch 44/50\n",
      "32/32 [==============================] - 0s 3ms/step - loss: 3.4479e-04\n",
      "Epoch 45/50\n",
      "32/32 [==============================] - 0s 3ms/step - loss: 3.4482e-04\n",
      "Epoch 46/50\n",
      "32/32 [==============================] - 0s 3ms/step - loss: 3.4493e-04\n",
      "Epoch 47/50\n",
      "32/32 [==============================] - 0s 4ms/step - loss: 3.4495e-04\n",
      "Epoch 48/50\n",
      "32/32 [==============================] - 0s 3ms/step - loss: 3.4494e-04\n",
      "Epoch 49/50\n",
      "32/32 [==============================] - 0s 3ms/step - loss: 3.4492e-04\n",
      "Epoch 50/50\n",
      "32/32 [==============================] - 0s 5ms/step - loss: 3.4473e-04\n"
     ]
    }
   ],
   "source": [
    "history_2 = pinn_model.fit(X_tr_pde,Y_tr_pde, epochs=50)"
   ]
  },
  {
   "cell_type": "code",
   "execution_count": 91,
   "metadata": {},
   "outputs": [],
   "source": [
    "X_test = np.random.uniform(0,2*np.pi,500).reshape((500,1))"
   ]
  },
  {
   "cell_type": "code",
   "execution_count": 92,
   "metadata": {},
   "outputs": [],
   "source": [
    "Y_test = pinn_model.predict(X_test)"
   ]
  },
  {
   "cell_type": "code",
   "execution_count": 93,
   "metadata": {},
   "outputs": [
    {
     "data": {
      "text/plain": [
       "<matplotlib.collections.PathCollection at 0x7fdb60670730>"
      ]
     },
     "execution_count": 93,
     "metadata": {},
     "output_type": "execute_result"
    },
    {
     "data": {
      "image/png": "[encoded data removed]",
      "text/plain": [
       "<Figure size 432x288 with 1 Axes>"
      ]
     },
     "metadata": {
      "needs_background": "light"
     },
     "output_type": "display_data"
    }
   ],
   "source": [
    "plt.scatter(X_test,Y_test)"
   ]
  },
  {
   "cell_type": "code",
   "execution_count": null,
   "metadata": {},
   "outputs": [],
   "source": []
  }
 ],
 "metadata": {
  "kernelspec": {
   "display_name": "Python 3",
   "language": "python",
   "name": "python3"
  },
  "language_info": {
   "codemirror_mode": {
    "name": "ipython",
    "version": 3
   },
   "file_extension": ".py",
   "mimetype": "text/x-python",
   "name": "python",
   "nbconvert_exporter": "python",
   "pygments_lexer": "ipython3",
   "version": "3.8.3"
  }
 },
 "nbformat": 4,
 "nbformat_minor": 4
}
