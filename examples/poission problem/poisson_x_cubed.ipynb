{
 "cells": [
  {
   "cell_type": "markdown",
   "metadata": {},
   "source": [
    "# Modelling poisson using PINN"
   ]
  },
  {
   "cell_type": "markdown",
   "metadata": {},
   "source": [
    "Solving the poisson equation $-\\Delta u = f$ using a physics informed neural network "
   ]
  },
  {
   "cell_type": "markdown",
   "metadata": {},
   "source": [
    "## 1D problem"
   ]
  },
  {
   "cell_type": "markdown",
   "metadata": {},
   "source": [
    "### Manufactured solution\n"
   ]
  },
  {
   "cell_type": "markdown",
   "metadata": {},
   "source": [
    "We use $u = x^3$ for $x\\in [0,4]$ to manufacture the right hand side to be $f=6x$"
   ]
  },
  {
   "cell_type": "markdown",
   "metadata": {},
   "source": [
    "### Importing packages"
   ]
  },
  {
   "cell_type": "code",
   "execution_count": 103,
   "metadata": {},
   "outputs": [],
   "source": [
    "import numpy as np\n",
    "import tensorflow as tf\n",
    "from tensorflow import keras\n",
    "import pandas as pd\n",
    "import matplotlib.pyplot as plt\n",
    "%matplotlib inline"
   ]
  },
  {
   "cell_type": "markdown",
   "metadata": {},
   "source": [
    "### Manufacturing data for trainig"
   ]
  },
  {
   "cell_type": "code",
   "execution_count": 218,
   "metadata": {},
   "outputs": [],
   "source": [
    "np.random.seed(123)\n",
    "X_tr_pde = np.random.uniform(0,3,5000).reshape(5000,1)\n"
   ]
  },
  {
   "cell_type": "markdown",
   "metadata": {},
   "source": [
    "#### Plotting histogram of randomly selected points to make sure they are uniformly distributed "
   ]
  },
  {
   "cell_type": "code",
   "execution_count": 219,
   "metadata": {},
   "outputs": [
    {
     "data": {
      "text/plain": [
       "Text(0, 0.5, 'frequency ')"
      ]
     },
     "execution_count": 219,
     "metadata": {},
     "output_type": "execute_result"
    },
    {
     "data": {
      "image/png": "[encoded data removed]",
      "text/plain": [
       "<Figure size 432x288 with 1 Axes>"
      ]
     },
     "metadata": {
      "needs_background": "light"
     },
     "output_type": "display_data"
    }
   ],
   "source": [
    "plt.hist(X_tr_pde)\n",
    "plt.xlabel(\"training points\")\n",
    "plt.ylabel(\"frequency \")"
   ]
  },
  {
   "cell_type": "code",
   "execution_count": 220,
   "metadata": {},
   "outputs": [
    {
     "data": {
      "text/plain": [
       "<matplotlib.collections.PathCollection at 0x7f99bc04cac0>"
      ]
     },
     "execution_count": 220,
     "metadata": {},
     "output_type": "execute_result"
    },
    {
     "data": {
      "image/png": "[encoded data removed]",
      "text/plain": [
       "<Figure size 432x288 with 1 Axes>"
      ]
     },
     "metadata": {
      "needs_background": "light"
     },
     "output_type": "display_data"
    }
   ],
   "source": [
    "Y_tr_pde = 6*X_tr_pde\n",
    "plt.scatter(X_tr_pde,Y_tr_pde)"
   ]
  },
  {
   "cell_type": "code",
   "execution_count": 221,
   "metadata": {},
   "outputs": [
    {
     "data": {
      "text/plain": [
       "(5000, 2)"
      ]
     },
     "execution_count": 221,
     "metadata": {},
     "output_type": "execute_result"
    }
   ],
   "source": [
    "Y_tr_pde = np.concatenate([Y_tr_pde,np.zeros((X_tr_pde.size,1))],axis=1)\n",
    "Y_tr_pde.shape"
   ]
  },
  {
   "cell_type": "code",
   "execution_count": 222,
   "metadata": {},
   "outputs": [
    {
     "data": {
      "text/plain": [
       "array([[ 0.,  1.],\n",
       "       [ 0.,  1.],\n",
       "       [ 0.,  1.],\n",
       "       [ 0.,  1.],\n",
       "       [ 0.,  1.],\n",
       "       [ 0.,  1.],\n",
       "       [ 0.,  1.],\n",
       "       [ 0.,  1.],\n",
       "       [ 0.,  1.],\n",
       "       [ 0.,  1.],\n",
       "       [ 0.,  1.],\n",
       "       [ 0.,  1.],\n",
       "       [ 0.,  1.],\n",
       "       [ 0.,  1.],\n",
       "       [ 0.,  1.],\n",
       "       [ 0.,  1.],\n",
       "       [ 0.,  1.],\n",
       "       [ 0.,  1.],\n",
       "       [ 0.,  1.],\n",
       "       [ 0.,  1.],\n",
       "       [ 0.,  1.],\n",
       "       [ 0.,  1.],\n",
       "       [ 0.,  1.],\n",
       "       [ 0.,  1.],\n",
       "       [ 0.,  1.],\n",
       "       [ 0.,  1.],\n",
       "       [ 0.,  1.],\n",
       "       [ 0.,  1.],\n",
       "       [ 0.,  1.],\n",
       "       [ 0.,  1.],\n",
       "       [ 0.,  1.],\n",
       "       [ 0.,  1.],\n",
       "       [ 0.,  1.],\n",
       "       [ 0.,  1.],\n",
       "       [ 0.,  1.],\n",
       "       [ 0.,  1.],\n",
       "       [ 0.,  1.],\n",
       "       [ 0.,  1.],\n",
       "       [ 0.,  1.],\n",
       "       [ 0.,  1.],\n",
       "       [ 0.,  1.],\n",
       "       [ 0.,  1.],\n",
       "       [ 0.,  1.],\n",
       "       [ 0.,  1.],\n",
       "       [ 0.,  1.],\n",
       "       [ 0.,  1.],\n",
       "       [ 0.,  1.],\n",
       "       [ 0.,  1.],\n",
       "       [ 0.,  1.],\n",
       "       [ 0.,  1.],\n",
       "       [ 0.,  1.],\n",
       "       [ 0.,  1.],\n",
       "       [ 0.,  1.],\n",
       "       [ 0.,  1.],\n",
       "       [ 0.,  1.],\n",
       "       [ 0.,  1.],\n",
       "       [ 0.,  1.],\n",
       "       [ 0.,  1.],\n",
       "       [ 0.,  1.],\n",
       "       [ 0.,  1.],\n",
       "       [ 0.,  1.],\n",
       "       [ 0.,  1.],\n",
       "       [ 0.,  1.],\n",
       "       [ 0.,  1.],\n",
       "       [ 0.,  1.],\n",
       "       [ 0.,  1.],\n",
       "       [ 0.,  1.],\n",
       "       [ 0.,  1.],\n",
       "       [ 0.,  1.],\n",
       "       [ 0.,  1.],\n",
       "       [ 0.,  1.],\n",
       "       [ 0.,  1.],\n",
       "       [ 0.,  1.],\n",
       "       [ 0.,  1.],\n",
       "       [ 0.,  1.],\n",
       "       [ 0.,  1.],\n",
       "       [ 0.,  1.],\n",
       "       [ 0.,  1.],\n",
       "       [ 0.,  1.],\n",
       "       [ 0.,  1.],\n",
       "       [ 0.,  1.],\n",
       "       [ 0.,  1.],\n",
       "       [ 0.,  1.],\n",
       "       [ 0.,  1.],\n",
       "       [ 0.,  1.],\n",
       "       [ 0.,  1.],\n",
       "       [ 0.,  1.],\n",
       "       [ 0.,  1.],\n",
       "       [ 0.,  1.],\n",
       "       [ 0.,  1.],\n",
       "       [ 0.,  1.],\n",
       "       [ 0.,  1.],\n",
       "       [ 0.,  1.],\n",
       "       [ 0.,  1.],\n",
       "       [ 0.,  1.],\n",
       "       [ 0.,  1.],\n",
       "       [ 0.,  1.],\n",
       "       [ 0.,  1.],\n",
       "       [ 0.,  1.],\n",
       "       [ 0.,  1.],\n",
       "       [27.,  1.],\n",
       "       [27.,  1.],\n",
       "       [27.,  1.],\n",
       "       [27.,  1.],\n",
       "       [27.,  1.],\n",
       "       [27.,  1.],\n",
       "       [27.,  1.],\n",
       "       [27.,  1.],\n",
       "       [27.,  1.],\n",
       "       [27.,  1.],\n",
       "       [27.,  1.],\n",
       "       [27.,  1.],\n",
       "       [27.,  1.],\n",
       "       [27.,  1.],\n",
       "       [27.,  1.],\n",
       "       [27.,  1.],\n",
       "       [27.,  1.],\n",
       "       [27.,  1.],\n",
       "       [27.,  1.],\n",
       "       [27.,  1.],\n",
       "       [27.,  1.],\n",
       "       [27.,  1.],\n",
       "       [27.,  1.],\n",
       "       [27.,  1.],\n",
       "       [27.,  1.],\n",
       "       [27.,  1.],\n",
       "       [27.,  1.],\n",
       "       [27.,  1.],\n",
       "       [27.,  1.],\n",
       "       [27.,  1.],\n",
       "       [27.,  1.],\n",
       "       [27.,  1.],\n",
       "       [27.,  1.],\n",
       "       [27.,  1.],\n",
       "       [27.,  1.],\n",
       "       [27.,  1.],\n",
       "       [27.,  1.],\n",
       "       [27.,  1.],\n",
       "       [27.,  1.],\n",
       "       [27.,  1.],\n",
       "       [27.,  1.],\n",
       "       [27.,  1.],\n",
       "       [27.,  1.],\n",
       "       [27.,  1.],\n",
       "       [27.,  1.],\n",
       "       [27.,  1.],\n",
       "       [27.,  1.],\n",
       "       [27.,  1.],\n",
       "       [27.,  1.],\n",
       "       [27.,  1.],\n",
       "       [27.,  1.],\n",
       "       [27.,  1.],\n",
       "       [27.,  1.],\n",
       "       [27.,  1.],\n",
       "       [27.,  1.],\n",
       "       [27.,  1.],\n",
       "       [27.,  1.],\n",
       "       [27.,  1.],\n",
       "       [27.,  1.],\n",
       "       [27.,  1.],\n",
       "       [27.,  1.],\n",
       "       [27.,  1.],\n",
       "       [27.,  1.],\n",
       "       [27.,  1.],\n",
       "       [27.,  1.],\n",
       "       [27.,  1.],\n",
       "       [27.,  1.],\n",
       "       [27.,  1.],\n",
       "       [27.,  1.],\n",
       "       [27.,  1.],\n",
       "       [27.,  1.],\n",
       "       [27.,  1.],\n",
       "       [27.,  1.],\n",
       "       [27.,  1.],\n",
       "       [27.,  1.],\n",
       "       [27.,  1.],\n",
       "       [27.,  1.],\n",
       "       [27.,  1.],\n",
       "       [27.,  1.],\n",
       "       [27.,  1.],\n",
       "       [27.,  1.],\n",
       "       [27.,  1.],\n",
       "       [27.,  1.],\n",
       "       [27.,  1.],\n",
       "       [27.,  1.],\n",
       "       [27.,  1.],\n",
       "       [27.,  1.],\n",
       "       [27.,  1.],\n",
       "       [27.,  1.],\n",
       "       [27.,  1.],\n",
       "       [27.,  1.],\n",
       "       [27.,  1.],\n",
       "       [27.,  1.],\n",
       "       [27.,  1.],\n",
       "       [27.,  1.],\n",
       "       [27.,  1.],\n",
       "       [27.,  1.],\n",
       "       [27.,  1.],\n",
       "       [27.,  1.],\n",
       "       [27.,  1.]])"
      ]
     },
     "execution_count": 222,
     "metadata": {},
     "output_type": "execute_result"
    }
   ],
   "source": [
    "X_tr_Dr_bc_left = np.zeros(100).reshape(100,1)\n",
    "X_tr_Dr_bc_right = 3*np.ones(100).reshape(100,1)\n",
    "X_bc = np.concatenate([X_tr_Dr_bc_left,X_tr_Dr_bc_right],axis=0)\n",
    "\n",
    "Y_tr_Dr_bc_left = X_tr_Dr_bc_left**3\n",
    "Y_tr_Dr_bc_right = X_tr_Dr_bc_right**3\n",
    "Y_tr_bc = np.concatenate([Y_tr_Dr_bc_left,Y_tr_Dr_bc_right],axis=0)\n",
    "Y_tr_bc = np.concatenate([Y_tr_bc,np.ones((200,1))],axis=1)\n",
    "Y_tr_bc"
   ]
  },
  {
   "cell_type": "code",
   "execution_count": 223,
   "metadata": {},
   "outputs": [],
   "source": [
    "X_tr = np.concatenate((X_tr_pde, X_bc), axis=0)\n",
    "Y_tr = np.concatenate((Y_tr_pde, Y_tr_bc), axis=0)"
   ]
  },
  {
   "cell_type": "code",
   "execution_count": 224,
   "metadata": {},
   "outputs": [
    {
     "data": {
      "text/plain": [
       "array([[12.53644534,  0.        ],\n",
       "       [ 5.15050803,  0.        ],\n",
       "       [ 4.08332616,  0.        ],\n",
       "       ...,\n",
       "       [27.        ,  1.        ],\n",
       "       [27.        ,  1.        ],\n",
       "       [27.        ,  1.        ]])"
      ]
     },
     "execution_count": 224,
     "metadata": {},
     "output_type": "execute_result"
    }
   ],
   "source": [
    "Y_tr"
   ]
  },
  {
   "cell_type": "markdown",
   "metadata": {},
   "source": [
    "## Training the model"
   ]
  },
  {
   "cell_type": "code",
   "execution_count": 225,
   "metadata": {},
   "outputs": [],
   "source": [
    "from tensorflow.keras import backend as K\n",
    "class CustomModel(tf.keras.Model):\n",
    "\n",
    "    def __init__(self):\n",
    "        super(CustomModel, self).__init__()\n",
    "        self.dense_1 = keras.layers.Dense(30, activation=\"elu\",\n",
    "                                          name=\"dense_1\")\n",
    "        self.dense_2 = keras.layers.Dense(30, activation=\"elu\",\n",
    "                                         name=\"dense_2\")\n",
    "        self.dense_3 = keras.layers.Dense(1,\n",
    "                                         name=\"dense_3\")\n",
    "\n",
    "    def findGrad(self, f_derrivative, input_arg):\n",
    "        return keras.layers.Lambda(lambda z: K.gradients(z[0],z[1])[0]) ([f_derrivative, input_arg])\n",
    "    \n",
    "    def findPdeLayer(self, pde_lhs, input_arg):\n",
    "        return keras.layers.Lambda(lambda z: z[0] - 6*z[1]) ([pde_lhs, input_arg])\n",
    "    \n",
    "    def call(self, inputs):\n",
    "        layer_1 = self.dense_1(inputs)\n",
    "        layer_2 = self.dense_2(layer_1)\n",
    "        layer_3 = self.dense_3(layer_2)\n",
    "        \n",
    "        grad_layer = self.findGrad(layer_3, inputs)\n",
    "        laplace_layer = self.findGrad(grad_layer, inputs)\n",
    "        pde_layer = self.findPdeLayer(laplace_layer, inputs)\n",
    "        \n",
    "        return layer_3, pde_layer\n",
    "\n"
   ]
  },
  {
   "cell_type": "code",
   "execution_count": 226,
   "metadata": {},
   "outputs": [],
   "source": [
    "custom_model = CustomModel()"
   ]
  },
  {
   "cell_type": "code",
   "execution_count": 227,
   "metadata": {},
   "outputs": [],
   "source": [
    "X_test_st = np.random.uniform(0,2,20).reshape((20,1))\n",
    "Y_test = custom_model.predict(X_test_st)"
   ]
  },
  {
   "cell_type": "code",
   "execution_count": 228,
   "metadata": {},
   "outputs": [],
   "source": [
    "#Loss coming from the boundary terms\n",
    "def u_loss(y_true, y_pred):\n",
    "    y_true_act = y_true[:,:-1]\n",
    "    at_boundary = tf.cast(y_true[:,-1:,],bool)\n",
    "    u_sq_error = (1/2)*tf.square(y_true_act-y_pred)\n",
    "    return tf.where(at_boundary, u_sq_error, 0.)\n",
    "\n",
    "#Loss coming from the PDE constrain\n",
    "def pde_loss(y_true, y_pred):\n",
    "    y_true_act = y_true[:,:-1]\n",
    "    at_boundary = tf.cast(y_true[:,-1:,],bool)\n",
    "    #need to change this to just tf.square(y_pred) after pde constrain is added to grad_layer\n",
    "    pde_sq_error = (1/2)*tf.square(y_pred)\n",
    "    return tf.where(at_boundary,0.,pde_sq_error)"
   ]
  },
  {
   "cell_type": "code",
   "execution_count": 229,
   "metadata": {},
   "outputs": [],
   "source": [
    "custom_model.compile(loss=[u_loss,pde_loss], optimizer=\"nadam\")"
   ]
  },
  {
   "cell_type": "code",
   "execution_count": 230,
   "metadata": {
    "scrolled": true
   },
   "outputs": [
    {
     "name": "stdout",
     "output_type": "stream",
     "text": [
      "Epoch 1/20\n",
      "163/163 [==============================] - 1s 7ms/step - loss: 52.6611 - output_1_loss: 7.0178 - output_2_loss: 45.6433\n",
      "Epoch 2/20\n",
      "163/163 [==============================] - 1s 4ms/step - loss: 33.7969 - output_1_loss: 4.3327 - output_2_loss: 29.4642\n",
      "Epoch 3/20\n",
      "163/163 [==============================] - 1s 5ms/step - loss: 20.2773 - output_1_loss: 3.2770 - output_2_loss: 17.0002\n",
      "Epoch 4/20\n",
      "163/163 [==============================] - 1s 5ms/step - loss: 12.1600 - output_1_loss: 3.2010 - output_2_loss: 8.9590\n",
      "Epoch 5/20\n",
      "163/163 [==============================] - 1s 5ms/step - loss: 6.2403 - output_1_loss: 2.0411 - output_2_loss: 4.1992\n",
      "Epoch 6/20\n",
      "163/163 [==============================] - 1s 5ms/step - loss: 3.2332 - output_1_loss: 1.0658 - output_2_loss: 2.1673\n",
      "Epoch 7/20\n",
      "163/163 [==============================] - 1s 5ms/step - loss: 2.3336 - output_1_loss: 0.4667 - output_2_loss: 1.8669\n",
      "Epoch 8/20\n",
      "163/163 [==============================] - 1s 5ms/step - loss: 1.6516 - output_1_loss: 0.3809 - output_2_loss: 1.2707\n",
      "Epoch 9/20\n",
      "163/163 [==============================] - 1s 5ms/step - loss: 1.6000 - output_1_loss: 0.2924 - output_2_loss: 1.3077\n",
      "Epoch 10/20\n",
      "163/163 [==============================] - 1s 7ms/step - loss: 1.0546 - output_1_loss: 0.1863 - output_2_loss: 0.8683\n",
      "Epoch 11/20\n",
      "163/163 [==============================] - 1s 5ms/step - loss: 1.1606 - output_1_loss: 0.1378 - output_2_loss: 1.0228\n",
      "Epoch 12/20\n",
      "163/163 [==============================] - 1s 5ms/step - loss: 1.1864 - output_1_loss: 0.1057 - output_2_loss: 1.0807\n",
      "Epoch 13/20\n",
      "163/163 [==============================] - 1s 4ms/step - loss: 1.0380 - output_1_loss: 0.0764 - output_2_loss: 0.9615\n",
      "Epoch 14/20\n",
      "163/163 [==============================] - 1s 7ms/step - loss: 1.2142 - output_1_loss: 0.1133 - output_2_loss: 1.1009\n",
      "Epoch 15/20\n",
      "163/163 [==============================] - 1s 6ms/step - loss: 1.1093 - output_1_loss: 0.1117 - output_2_loss: 0.9976\n",
      "Epoch 16/20\n",
      "163/163 [==============================] - 1s 7ms/step - loss: 0.8006 - output_1_loss: 0.0901 - output_2_loss: 0.7106\n",
      "Epoch 17/20\n",
      "163/163 [==============================] - 1s 6ms/step - loss: 0.8290 - output_1_loss: 0.0767 - output_2_loss: 0.7523\n",
      "Epoch 18/20\n",
      "163/163 [==============================] - 1s 5ms/step - loss: 0.7395 - output_1_loss: 0.0925 - output_2_loss: 0.6470\n",
      "Epoch 19/20\n",
      "163/163 [==============================] - 1s 6ms/step - loss: 0.9972 - output_1_loss: 0.1082 - output_2_loss: 0.8890\n",
      "Epoch 20/20\n",
      "163/163 [==============================] - 1s 7ms/step - loss: 0.9781 - output_1_loss: 0.1125 - output_2_loss: 0.8656\n"
     ]
    },
    {
     "data": {
      "text/plain": [
       "<tensorflow.python.keras.callbacks.History at 0x7f997f73daf0>"
      ]
     },
     "execution_count": 230,
     "metadata": {},
     "output_type": "execute_result"
    }
   ],
   "source": [
    "custom_model.fit(x=X_tr, y=Y_tr,epochs=20)"
   ]
  },
  {
   "cell_type": "code",
   "execution_count": 232,
   "metadata": {},
   "outputs": [
    {
     "name": "stdout",
     "output_type": "stream",
     "text": [
      "Epoch 1/20\n",
      "163/163 [==============================] - 1s 4ms/step - loss: 1.0126 - output_1_loss: 0.1165 - output_2_loss: 0.8961\n",
      "Epoch 2/20\n",
      "163/163 [==============================] - 1s 4ms/step - loss: 1.0596 - output_1_loss: 0.1405 - output_2_loss: 0.9190\n",
      "Epoch 3/20\n",
      "163/163 [==============================] - 1s 4ms/step - loss: 1.1486 - output_1_loss: 0.1735 - output_2_loss: 0.9751\n",
      "Epoch 4/20\n",
      "163/163 [==============================] - 1s 4ms/step - loss: 0.7193 - output_1_loss: 0.1048 - output_2_loss: 0.6145\n",
      "Epoch 5/20\n",
      "163/163 [==============================] - 1s 4ms/step - loss: 1.2582 - output_1_loss: 0.2113 - output_2_loss: 1.0470\n",
      "Epoch 6/20\n",
      "163/163 [==============================] - 1s 8ms/step - loss: 1.3331 - output_1_loss: 0.2217 - output_2_loss: 1.1114\n",
      "Epoch 7/20\n",
      "163/163 [==============================] - 1s 5ms/step - loss: 0.8710 - output_1_loss: 0.1378 - output_2_loss: 0.7332\n",
      "Epoch 8/20\n",
      "163/163 [==============================] - 1s 4ms/step - loss: 0.8987 - output_1_loss: 0.1665 - output_2_loss: 0.7322\n",
      "Epoch 9/20\n",
      "163/163 [==============================] - 1s 4ms/step - loss: 0.7362 - output_1_loss: 0.1045 - output_2_loss: 0.6317\n",
      "Epoch 10/20\n",
      "163/163 [==============================] - 1s 5ms/step - loss: 0.8503 - output_1_loss: 0.1137 - output_2_loss: 0.7366\n",
      "Epoch 11/20\n",
      "163/163 [==============================] - 1s 6ms/step - loss: 0.7854 - output_1_loss: 0.0969 - output_2_loss: 0.6885\n",
      "Epoch 12/20\n",
      "163/163 [==============================] - 1s 6ms/step - loss: 0.8658 - output_1_loss: 0.0995 - output_2_loss: 0.7662\n",
      "Epoch 13/20\n",
      "163/163 [==============================] - 1s 4ms/step - loss: 0.8128 - output_1_loss: 0.1064 - output_2_loss: 0.7064\n",
      "Epoch 14/20\n",
      "163/163 [==============================] - 1s 5ms/step - loss: 0.8346 - output_1_loss: 0.1073 - output_2_loss: 0.7273\n",
      "Epoch 15/20\n",
      "163/163 [==============================] - 0s 3ms/step - loss: 1.0638 - output_1_loss: 0.1299 - output_2_loss: 0.9339\n",
      "Epoch 16/20\n",
      "163/163 [==============================] - 1s 5ms/step - loss: 1.0652 - output_1_loss: 0.1224 - output_2_loss: 0.9428\n",
      "Epoch 17/20\n",
      "163/163 [==============================] - 1s 7ms/step - loss: 0.8102 - output_1_loss: 0.1126 - output_2_loss: 0.6976\n",
      "Epoch 18/20\n",
      "163/163 [==============================] - 1s 4ms/step - loss: 0.6246 - output_1_loss: 0.0919 - output_2_loss: 0.5328\n",
      "Epoch 19/20\n",
      "163/163 [==============================] - 1s 5ms/step - loss: 0.7064 - output_1_loss: 0.0836 - output_2_loss: 0.6228\n",
      "Epoch 20/20\n",
      "163/163 [==============================] - 1s 4ms/step - loss: 0.7286 - output_1_loss: 0.0900 - output_2_loss: 0.6386\n"
     ]
    },
    {
     "data": {
      "text/plain": [
       "<tensorflow.python.keras.callbacks.History at 0x7f997e422730>"
      ]
     },
     "execution_count": 232,
     "metadata": {},
     "output_type": "execute_result"
    }
   ],
   "source": [
    "custom_model.compile(loss=[u_loss,pde_loss], optimizer=keras.optimizers.SGD(lr=1e-3))\n",
    "custom_model.fit(x=X_tr, y=Y_tr,epochs=20)"
   ]
  },
  {
   "cell_type": "code",
   "execution_count": 233,
   "metadata": {},
   "outputs": [],
   "source": [
    "X_test_st = np.random.uniform(0,3,50).reshape((50,1))"
   ]
  },
  {
   "cell_type": "code",
   "execution_count": 234,
   "metadata": {},
   "outputs": [],
   "source": [
    "Y_test = custom_model.predict(X_test_st)"
   ]
  },
  {
   "cell_type": "code",
   "execution_count": 243,
   "metadata": {},
   "outputs": [
    {
     "data": {
      "text/plain": [
       "<matplotlib.collections.PathCollection at 0x7f99bc5580a0>"
      ]
     },
     "execution_count": 243,
     "metadata": {},
     "output_type": "execute_result"
    },
    {
     "data": {
      "image/png": "[encoded data removed]",
      "text/plain": [
       "<Figure size 432x288 with 1 Axes>"
      ]
     },
     "metadata": {
      "needs_background": "light"
     },
     "output_type": "display_data"
    }
   ],
   "source": [
    "plt.scatter(X_test_st, Y_test[0][:,0], X_test_st, X_test_st**3)"
   ]
  },
  {
   "cell_type": "code",
   "execution_count": null,
   "metadata": {},
   "outputs": [],
   "source": [
    "plt.scatter(X_test_st, X_tes_)"
   ]
  },
  {
   "cell_type": "code",
   "execution_count": null,
   "metadata": {},
   "outputs": [],
   "source": []
  }
 ],
 "metadata": {
  "kernelspec": {
   "display_name": "Python 3",
   "language": "python",
   "name": "python3"
  },
  "language_info": {
   "codemirror_mode": {
    "name": "ipython",
    "version": 3
   },
   "file_extension": ".py",
   "mimetype": "text/x-python",
   "name": "python",
   "nbconvert_exporter": "python",
   "pygments_lexer": "ipython3",
   "version": "3.8.3"
  }
 },
 "nbformat": 4,
 "nbformat_minor": 4
}
