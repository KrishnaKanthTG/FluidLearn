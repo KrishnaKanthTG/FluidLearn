{
 "cells": [
  {
   "cell_type": "markdown",
   "metadata": {},
   "source": [
    "# Modelling poisson using PINN\n",
    "__Author:  Manu Jayadharan__  \n",
    "Written as part of FlowNet package, a TensorFlow based neural network package to solve fluid flow PDEs."
   ]
  },
  {
   "cell_type": "markdown",
   "metadata": {},
   "source": [
    "Solving the poisson equation $-\\Delta u = f$ using a physics informed neural network "
   ]
  },
  {
   "cell_type": "markdown",
   "metadata": {},
   "source": [
    "## 1D problem poisson problem"
   ]
  },
  {
   "cell_type": "markdown",
   "metadata": {},
   "source": [
    "### Manufactured solution\n"
   ]
  },
  {
   "cell_type": "markdown",
   "metadata": {},
   "source": [
    "We use $u = 3sin(4x)$ for $x\\in [-1,1]$ "
   ]
  },
  {
   "cell_type": "markdown",
   "metadata": {},
   "source": [
    "### Importing packages"
   ]
  },
  {
   "cell_type": "code",
   "execution_count": 665,
   "metadata": {},
   "outputs": [],
   "source": [
    "import numpy as np\n",
    "import tensorflow as tf\n",
    "from tensorflow import keras\n",
    "import pandas as pd\n",
    "import matplotlib.pyplot as plt\n",
    "%matplotlib inline"
   ]
  },
  {
   "cell_type": "markdown",
   "metadata": {},
   "source": [
    "## Manufacturing data for trainig"
   ]
  },
  {
   "cell_type": "code",
   "execution_count": 666,
   "metadata": {},
   "outputs": [],
   "source": [
    "np.random.seed(123)\n",
    "X_tr_pde = np.random.uniform(-1,1,500).reshape(500,1)\n"
   ]
  },
  {
   "cell_type": "markdown",
   "metadata": {},
   "source": [
    "#### Plotting histogram of randomly selected points to make sure they are uniformly distributed "
   ]
  },
  {
   "cell_type": "code",
   "execution_count": 609,
   "metadata": {},
   "outputs": [
    {
     "data": {
      "text/plain": [
       "Text(0, 0.5, 'frequency ')"
      ]
     },
     "execution_count": 609,
     "metadata": {},
     "output_type": "execute_result"
    },
    {
     "data": {
      "image/png": "[encoded data removed]",
      "text/plain": [
       "<Figure size 432x288 with 1 Axes>"
      ]
     },
     "metadata": {
      "needs_background": "light"
     },
     "output_type": "display_data"
    }
   ],
   "source": [
    "plt.hist(X_tr_pde)\n",
    "plt.xlabel(\"training points\")\n",
    "plt.ylabel(\"frequency \")"
   ]
  },
  {
   "cell_type": "code",
   "execution_count": 610,
   "metadata": {},
   "outputs": [],
   "source": [
    "Y_tr_pde = np.zeros((X_tr_pde.shape[0],1))"
   ]
  },
  {
   "cell_type": "code",
   "execution_count": 611,
   "metadata": {},
   "outputs": [
    {
     "data": {
      "text/plain": [
       "(500, 2)"
      ]
     },
     "execution_count": 611,
     "metadata": {},
     "output_type": "execute_result"
    }
   ],
   "source": [
    "Y_tr_pde = np.concatenate([Y_tr_pde,np.zeros((Y_tr_pde.shape[0],1))],axis=1)\n",
    "Y_tr_pde.shape"
   ]
  },
  {
   "cell_type": "code",
   "execution_count": 572,
   "metadata": {},
   "outputs": [],
   "source": [
    "X_tr_Dr_bc_left = -1*np.ones(200).reshape(200,1)\n",
    "X_tr_Dr_bc_right = 1*np.ones(200).reshape(200,1)\n",
    "X_bc = np.concatenate([X_tr_Dr_bc_left,X_tr_Dr_bc_right],axis=0)\n",
    "\n",
    "Y_tr_bc = 3*np.sin(4*X_bc)\n",
    "Y_tr_bc = np.concatenate([Y_tr_bc,np.ones((Y_tr_bc.shape[0],1))],axis=1)\n"
   ]
  },
  {
   "cell_type": "markdown",
   "metadata": {},
   "source": [
    "### Scaling the inputs(optional)"
   ]
  },
  {
   "cell_type": "code",
   "execution_count": 612,
   "metadata": {},
   "outputs": [],
   "source": [
    "# from sklearn.preprocessing import StandardScaler\n",
    "\n",
    "# scaler = StandardScaler()\n",
    "# X_tr_pde = scaler.fit_transform(X_tr_pde)"
   ]
  },
  {
   "cell_type": "code",
   "execution_count": 613,
   "metadata": {},
   "outputs": [],
   "source": [
    "X_tr = np.concatenate((X_tr_pde, X_bc), axis=0)\n",
    "Y_tr = np.concatenate((Y_tr_pde, Y_tr_bc), axis=0)"
   ]
  },
  {
   "cell_type": "code",
   "execution_count": 614,
   "metadata": {},
   "outputs": [],
   "source": [
    "# from sklearn.preprocessing import StandardScaler\n",
    "\n",
    "# scaler = StandardScaler()\n",
    "# X_tr = scaler.fit_transform(X_tr)\n",
    "# X_tr.std()"
   ]
  },
  {
   "cell_type": "code",
   "execution_count": 615,
   "metadata": {},
   "outputs": [
    {
     "data": {
      "text/plain": [
       "array([[ 0.0881638 ],\n",
       "       [-0.0933682 ],\n",
       "       [-0.11959745]])"
      ]
     },
     "execution_count": 615,
     "metadata": {},
     "output_type": "execute_result"
    }
   ],
   "source": [
    "(X_tr[0:3] +0.0056276)/4.520744138916567"
   ]
  },
  {
   "cell_type": "markdown",
   "metadata": {},
   "source": [
    "## Defining the NN model (custom Keras model)\n",
    "\n",
    "- __Model specifications__: 7 layers: 1 input layer, 3 hidden layers with 20 neurons each, 1 dense intermediate layer, 1 gradient layer, 1 laplacian layer, 1 pde layer. \n",
    "- Output is a list of two elements: value of function and value of the pde operator.\n",
    "- mean squared error is used for finding the cost function.\n",
    "- Specialized, sgd( stochastic gradient descenet) type optimizer is used: either nadam or adam.\n",
    "- tanh activation functions are used.\n"
   ]
  },
  {
   "cell_type": "code",
   "execution_count": 623,
   "metadata": {},
   "outputs": [],
   "source": [
    "from tensorflow.keras import backend as K\n",
    "class Poisson1d(tf.keras.Model):\n",
    "\n",
    "    def __init__(self):\n",
    "        super(Poisson1d, self).__init__()\n",
    "#         self.batch_norm_ = keras.layers.BatchNormalization()\n",
    "        self.flatten_input = keras.layers.Flatten()\n",
    "        \n",
    "        he_kernel_init = keras.initializers.he_uniform()\n",
    "        \n",
    "        self.dense_1 = keras.layers.Dense(20, activation=\"tanh\",\n",
    "                                          kernel_initializer=he_kernel_init,\n",
    "                                          name=\"dense_1\")\n",
    "        self.dense_2 = keras.layers.Dense(20, activation=\"tanh\",\n",
    "                                          kernel_initializer=he_kernel_init,\n",
    "                                         name=\"dense_2\")\n",
    "        self.dense_3 = keras.layers.Dense(20, activation=\"tanh\",\n",
    "                                          kernel_initializer=he_kernel_init,\n",
    "                                         name=\"dense_3\")\n",
    "        self.dense_4 = keras.layers.Dense(1,\n",
    "                                         name=\"dense_4\")\n",
    "\n",
    "    def findGrad(self,func,argm):\n",
    "        return keras.layers.Lambda(lambda x: K.gradients(x[0],x[1])[0]) ([func,argm])\n",
    "    \n",
    "    def findPdeLayer(self, pde_lhs, input_arg):\n",
    "        return keras.layers.Lambda(lambda z: z[0] + 48*tf.sin(4*z[1])) ([pde_lhs, input_arg])\n",
    "    \n",
    "    def call(self, inputs):\n",
    "#         layer_0 = self.batch_norm_input(inputs)\n",
    "        layer_0 = self.flatten_input(inputs)\n",
    "#         layer_0_1 = self.batch_norm_input(layer_0)\n",
    "        layer_1 = self.dense_1(layer_0)\n",
    "#         layer_2_0 = self.batch_norm_input(layer_1)\n",
    "        layer_2 = self.dense_2(layer_1)\n",
    "#         layer_3_0 = self.batch_norm_(layer_2)\n",
    "        layer_3 = self.dense_3(layer_2)\n",
    "        layer_4 = self.dense_4(layer_3)\n",
    "        \n",
    "        grad_layer = self.findGrad(layer_4, inputs)\n",
    "        laplace_layer = self.findGrad(grad_layer, inputs)\n",
    "        pde_layer = self.findPdeLayer(laplace_layer, inputs)\n",
    "        \n",
    "        return layer_4, pde_layer\n",
    "\n"
   ]
  },
  {
   "cell_type": "markdown",
   "metadata": {},
   "source": [
    "### Defining the loss functions"
   ]
  },
  {
   "cell_type": "code",
   "execution_count": 628,
   "metadata": {},
   "outputs": [],
   "source": [
    "#Loss coming from the boundary terms\n",
    "def u_loss(y_true, y_pred):\n",
    "    y_true_act = y_true[:,:-1]\n",
    "    at_boundary = tf.cast(y_true[:,-1:,],bool)\n",
    "    u_sq_error = (1/2)*tf.square(y_true_act-y_pred)\n",
    "    return tf.where(at_boundary, u_sq_error, 0.)\n",
    "\n",
    "#Loss coming from the PDE constrain\n",
    "def pde_loss(y_true, y_pred):\n",
    "    y_true_act = y_true[:,:-1]\n",
    "    at_boundary = tf.cast(y_true[:,-1:,],bool)\n",
    "    #need to change this to just tf.square(y_pred) after pde constrain is added to grad_layer\n",
    "#     pde_sq_error = (1/2)*tf.square(y_true_act-y_pred)\n",
    "    pde_sq_error = (1/2)*tf.square(y_pred)\n",
    "    return tf.where(at_boundary,0.,pde_sq_error)"
   ]
  },
  {
   "cell_type": "markdown",
   "metadata": {},
   "source": [
    "### Instantiating  and compiling the poisson_model"
   ]
  },
  {
   "cell_type": "code",
   "execution_count": 633,
   "metadata": {},
   "outputs": [],
   "source": [
    "poisson_NN = Poisson1d()"
   ]
  },
  {
   "cell_type": "code",
   "execution_count": 634,
   "metadata": {},
   "outputs": [],
   "source": [
    "poisson_NN.compile(loss=[u_loss,pde_loss],optimizer=\"adam\")"
   ]
  },
  {
   "cell_type": "code",
   "execution_count": 635,
   "metadata": {
    "scrolled": true
   },
   "outputs": [
    {
     "name": "stdout",
     "output_type": "stream",
     "text": [
      "Epoch 1/100\n",
      "29/29 [==============================] - 0s 8ms/step - loss: 259.7652 - output_1_loss: 1.6987 - output_2_loss: 258.0666\n",
      "Epoch 2/100\n",
      "29/29 [==============================] - 0s 8ms/step - loss: 199.6366 - output_1_loss: 3.7078 - output_2_loss: 195.9288\n",
      "Epoch 3/100\n",
      "29/29 [==============================] - 0s 4ms/step - loss: 167.5798 - output_1_loss: 5.7012 - output_2_loss: 161.8786\n",
      "Epoch 4/100\n",
      "29/29 [==============================] - 0s 6ms/step - loss: 147.2352 - output_1_loss: 6.9477 - output_2_loss: 140.2874\n",
      "Epoch 5/100\n",
      "29/29 [==============================] - 0s 6ms/step - loss: 127.5192 - output_1_loss: 8.2436 - output_2_loss: 119.2756\n",
      "Epoch 6/100\n",
      "29/29 [==============================] - 0s 7ms/step - loss: 107.6846 - output_1_loss: 9.3374 - output_2_loss: 98.3473\n",
      "Epoch 7/100\n",
      "29/29 [==============================] - 0s 7ms/step - loss: 94.4738 - output_1_loss: 10.1162 - output_2_loss: 84.3576\n",
      "Epoch 8/100\n",
      "29/29 [==============================] - 0s 6ms/step - loss: 82.4624 - output_1_loss: 10.6387 - output_2_loss: 71.8237\n",
      "Epoch 9/100\n",
      "29/29 [==============================] - 0s 3ms/step - loss: 69.6333 - output_1_loss: 10.6447 - output_2_loss: 58.9887\n",
      "Epoch 10/100\n",
      "29/29 [==============================] - 0s 4ms/step - loss: 55.9477 - output_1_loss: 10.3795 - output_2_loss: 45.5682\n",
      "Epoch 11/100\n",
      "29/29 [==============================] - 0s 9ms/step - loss: 42.3476 - output_1_loss: 9.9878 - output_2_loss: 32.3598\n",
      "Epoch 12/100\n",
      "29/29 [==============================] - 0s 8ms/step - loss: 29.1121 - output_1_loss: 9.2851 - output_2_loss: 19.8270\n",
      "Epoch 13/100\n",
      "29/29 [==============================] - 0s 8ms/step - loss: 19.3638 - output_1_loss: 8.3920 - output_2_loss: 10.9718\n",
      "Epoch 14/100\n",
      "29/29 [==============================] - 1s 19ms/step - loss: 14.4945 - output_1_loss: 7.5555 - output_2_loss: 6.9389\n",
      "Epoch 15/100\n",
      "29/29 [==============================] - 0s 8ms/step - loss: 12.6046 - output_1_loss: 6.7571 - output_2_loss: 5.8475\n",
      "Epoch 16/100\n",
      "29/29 [==============================] - 0s 14ms/step - loss: 10.5798 - output_1_loss: 5.9927 - output_2_loss: 4.5870\n",
      "Epoch 17/100\n",
      "29/29 [==============================] - 0s 6ms/step - loss: 9.1434 - output_1_loss: 5.2864 - output_2_loss: 3.8570\n",
      "Epoch 18/100\n",
      "29/29 [==============================] - 0s 10ms/step - loss: 7.8388 - output_1_loss: 4.6431 - output_2_loss: 3.1957\n",
      "Epoch 19/100\n",
      "29/29 [==============================] - 0s 7ms/step - loss: 6.9969 - output_1_loss: 4.1099 - output_2_loss: 2.8870\n",
      "Epoch 20/100\n",
      "29/29 [==============================] - 0s 14ms/step - loss: 6.1960 - output_1_loss: 3.6754 - output_2_loss: 2.5206\n",
      "Epoch 21/100\n",
      "29/29 [==============================] - 0s 9ms/step - loss: 5.5211 - output_1_loss: 3.2757 - output_2_loss: 2.2454\n",
      "Epoch 22/100\n",
      "29/29 [==============================] - 0s 8ms/step - loss: 4.7912 - output_1_loss: 2.8491 - output_2_loss: 1.9420\n",
      "Epoch 23/100\n",
      "29/29 [==============================] - 0s 8ms/step - loss: 4.2952 - output_1_loss: 2.4328 - output_2_loss: 1.8624\n",
      "Epoch 24/100\n",
      "29/29 [==============================] - 0s 10ms/step - loss: 3.6080 - output_1_loss: 2.0475 - output_2_loss: 1.5605\n",
      "Epoch 25/100\n",
      "29/29 [==============================] - 0s 12ms/step - loss: 2.9790 - output_1_loss: 1.7081 - output_2_loss: 1.2709\n",
      "Epoch 26/100\n",
      "29/29 [==============================] - 1s 19ms/step - loss: 2.4628 - output_1_loss: 1.4023 - output_2_loss: 1.0605\n",
      "Epoch 27/100\n",
      "29/29 [==============================] - 0s 11ms/step - loss: 2.0742 - output_1_loss: 1.1864 - output_2_loss: 0.8878\n",
      "Epoch 28/100\n",
      "29/29 [==============================] - 0s 9ms/step - loss: 1.7676 - output_1_loss: 1.0167 - output_2_loss: 0.7509\n",
      "Epoch 29/100\n",
      "29/29 [==============================] - 0s 9ms/step - loss: 1.5395 - output_1_loss: 0.8897 - output_2_loss: 0.6498\n",
      "Epoch 30/100\n",
      "29/29 [==============================] - 0s 10ms/step - loss: 1.3731 - output_1_loss: 0.7909 - output_2_loss: 0.5822\n",
      "Epoch 31/100\n",
      "29/29 [==============================] - 0s 8ms/step - loss: 1.2571 - output_1_loss: 0.7032 - output_2_loss: 0.5539\n",
      "Epoch 32/100\n",
      "29/29 [==============================] - 0s 8ms/step - loss: 1.0477 - output_1_loss: 0.6191 - output_2_loss: 0.4286\n",
      "Epoch 33/100\n",
      "29/29 [==============================] - 0s 10ms/step - loss: 0.9775 - output_1_loss: 0.5610 - output_2_loss: 0.4165\n",
      "Epoch 34/100\n",
      "29/29 [==============================] - 0s 6ms/step - loss: 0.8646 - output_1_loss: 0.5001 - output_2_loss: 0.3645\n",
      "Epoch 35/100\n",
      "29/29 [==============================] - 0s 7ms/step - loss: 0.8120 - output_1_loss: 0.4500 - output_2_loss: 0.3620\n",
      "Epoch 36/100\n",
      "29/29 [==============================] - 0s 9ms/step - loss: 0.7423 - output_1_loss: 0.4108 - output_2_loss: 0.3315\n",
      "Epoch 37/100\n",
      "29/29 [==============================] - 0s 13ms/step - loss: 0.6386 - output_1_loss: 0.3692 - output_2_loss: 0.2693\n",
      "Epoch 38/100\n",
      "29/29 [==============================] - 0s 17ms/step - loss: 0.5728 - output_1_loss: 0.3305 - output_2_loss: 0.2423\n",
      "Epoch 39/100\n",
      "29/29 [==============================] - 0s 12ms/step - loss: 0.5022 - output_1_loss: 0.2914 - output_2_loss: 0.2108\n",
      "Epoch 40/100\n",
      "29/29 [==============================] - 0s 8ms/step - loss: 0.4589 - output_1_loss: 0.2579 - output_2_loss: 0.2010\n",
      "Epoch 41/100\n",
      "29/29 [==============================] - 0s 12ms/step - loss: 0.4043 - output_1_loss: 0.2306 - output_2_loss: 0.1737\n",
      "Epoch 42/100\n",
      "29/29 [==============================] - 0s 8ms/step - loss: 0.3789 - output_1_loss: 0.2028 - output_2_loss: 0.1761\n",
      "Epoch 43/100\n",
      "29/29 [==============================] - 0s 8ms/step - loss: 0.3445 - output_1_loss: 0.1821 - output_2_loss: 0.1624\n",
      "Epoch 44/100\n",
      "29/29 [==============================] - 1s 20ms/step - loss: 0.3695 - output_1_loss: 0.1614 - output_2_loss: 0.2081\n",
      "Epoch 45/100\n",
      "29/29 [==============================] - 0s 8ms/step - loss: 0.2772 - output_1_loss: 0.1431 - output_2_loss: 0.1341\n",
      "Epoch 46/100\n",
      "29/29 [==============================] - 0s 8ms/step - loss: 0.2570 - output_1_loss: 0.1235 - output_2_loss: 0.1336\n",
      "Epoch 47/100\n",
      "29/29 [==============================] - 0s 9ms/step - loss: 0.2372 - output_1_loss: 0.1082 - output_2_loss: 0.1290\n",
      "Epoch 48/100\n",
      "29/29 [==============================] - 0s 11ms/step - loss: 0.2071 - output_1_loss: 0.0952 - output_2_loss: 0.1119\n",
      "Epoch 49/100\n",
      "29/29 [==============================] - 0s 16ms/step - loss: 0.1887 - output_1_loss: 0.0816 - output_2_loss: 0.1071\n",
      "Epoch 50/100\n",
      "29/29 [==============================] - 0s 9ms/step - loss: 0.1826 - output_1_loss: 0.0705 - output_2_loss: 0.1121\n",
      "Epoch 51/100\n",
      "29/29 [==============================] - 0s 8ms/step - loss: 0.1690 - output_1_loss: 0.0628 - output_2_loss: 0.1063\n",
      "Epoch 52/100\n",
      "29/29 [==============================] - 0s 8ms/step - loss: 0.1603 - output_1_loss: 0.0537 - output_2_loss: 0.1066\n",
      "Epoch 53/100\n",
      "29/29 [==============================] - 0s 13ms/step - loss: 0.1697 - output_1_loss: 0.0455 - output_2_loss: 0.1243\n",
      "Epoch 54/100\n",
      "29/29 [==============================] - 0s 12ms/step - loss: 0.1362 - output_1_loss: 0.0394 - output_2_loss: 0.0968\n",
      "Epoch 55/100\n",
      "29/29 [==============================] - 0s 14ms/step - loss: 0.1200 - output_1_loss: 0.0342 - output_2_loss: 0.0857\n",
      "Epoch 56/100\n",
      "29/29 [==============================] - 0s 9ms/step - loss: 0.1060 - output_1_loss: 0.0292 - output_2_loss: 0.0768\n",
      "Epoch 57/100\n",
      "29/29 [==============================] - 0s 11ms/step - loss: 0.1285 - output_1_loss: 0.0248 - output_2_loss: 0.1037\n",
      "Epoch 58/100\n",
      "29/29 [==============================] - 0s 10ms/step - loss: 0.0924 - output_1_loss: 0.0206 - output_2_loss: 0.0718\n",
      "Epoch 59/100\n",
      "29/29 [==============================] - 0s 13ms/step - loss: 0.0891 - output_1_loss: 0.0174 - output_2_loss: 0.0717\n",
      "Epoch 60/100\n",
      "29/29 [==============================] - 0s 5ms/step - loss: 0.0812 - output_1_loss: 0.0147 - output_2_loss: 0.0664\n",
      "Epoch 61/100\n",
      "29/29 [==============================] - 0s 9ms/step - loss: 0.0689 - output_1_loss: 0.0127 - output_2_loss: 0.0562\n",
      "Epoch 62/100\n",
      "29/29 [==============================] - 0s 5ms/step - loss: 0.0796 - output_1_loss: 0.0104 - output_2_loss: 0.0691\n",
      "Epoch 63/100\n",
      "29/29 [==============================] - 0s 10ms/step - loss: 0.0631 - output_1_loss: 0.0085 - output_2_loss: 0.0546\n",
      "Epoch 64/100\n"
     ]
    },
    {
     "name": "stdout",
     "output_type": "stream",
     "text": [
      "29/29 [==============================] - 0s 6ms/step - loss: 0.0613 - output_1_loss: 0.0069 - output_2_loss: 0.0544\n",
      "Epoch 65/100\n",
      "29/29 [==============================] - 0s 8ms/step - loss: 0.0605 - output_1_loss: 0.0054 - output_2_loss: 0.0551\n",
      "Epoch 66/100\n",
      "29/29 [==============================] - 0s 5ms/step - loss: 0.0541 - output_1_loss: 0.0045 - output_2_loss: 0.0496\n",
      "Epoch 67/100\n",
      "29/29 [==============================] - 0s 14ms/step - loss: 0.0599 - output_1_loss: 0.0035 - output_2_loss: 0.0564\n",
      "Epoch 68/100\n",
      "29/29 [==============================] - 0s 6ms/step - loss: 0.0621 - output_1_loss: 0.0029 - output_2_loss: 0.0592\n",
      "Epoch 69/100\n",
      "29/29 [==============================] - 0s 12ms/step - loss: 0.0662 - output_1_loss: 0.0025 - output_2_loss: 0.0637\n",
      "Epoch 70/100\n",
      "29/29 [==============================] - 0s 9ms/step - loss: 0.0576 - output_1_loss: 0.0017 - output_2_loss: 0.0559\n",
      "Epoch 71/100\n",
      "29/29 [==============================] - 0s 6ms/step - loss: 0.0537 - output_1_loss: 0.0015 - output_2_loss: 0.0522\n",
      "Epoch 72/100\n",
      "29/29 [==============================] - 0s 9ms/step - loss: 0.0597 - output_1_loss: 0.0011 - output_2_loss: 0.0586\n",
      "Epoch 73/100\n",
      "29/29 [==============================] - 0s 10ms/step - loss: 0.0433 - output_1_loss: 8.0166e-04 - output_2_loss: 0.0425\n",
      "Epoch 74/100\n",
      "29/29 [==============================] - 0s 13ms/step - loss: 0.0458 - output_1_loss: 5.7144e-04 - output_2_loss: 0.0452\n",
      "Epoch 75/100\n",
      "29/29 [==============================] - 0s 9ms/step - loss: 0.0509 - output_1_loss: 3.3017e-04 - output_2_loss: 0.0506\n",
      "Epoch 76/100\n",
      "29/29 [==============================] - 0s 16ms/step - loss: 0.0572 - output_1_loss: 4.1536e-04 - output_2_loss: 0.0568\n",
      "Epoch 77/100\n",
      "29/29 [==============================] - 0s 11ms/step - loss: 0.0598 - output_1_loss: 2.8450e-04 - output_2_loss: 0.0595\n",
      "Epoch 78/100\n",
      "29/29 [==============================] - 0s 5ms/step - loss: 0.0454 - output_1_loss: 1.8232e-04 - output_2_loss: 0.0453\n",
      "Epoch 79/100\n",
      "29/29 [==============================] - 0s 6ms/step - loss: 0.0440 - output_1_loss: 1.1054e-04 - output_2_loss: 0.0439\n",
      "Epoch 80/100\n",
      "29/29 [==============================] - 0s 9ms/step - loss: 0.0441 - output_1_loss: 1.1150e-04 - output_2_loss: 0.0440\n",
      "Epoch 81/100\n",
      "29/29 [==============================] - 0s 11ms/step - loss: 0.0662 - output_1_loss: 2.7556e-04 - output_2_loss: 0.0659\n",
      "Epoch 82/100\n",
      "29/29 [==============================] - 0s 8ms/step - loss: 0.0587 - output_1_loss: 1.0060e-04 - output_2_loss: 0.0586\n",
      "Epoch 83/100\n",
      "29/29 [==============================] - 0s 9ms/step - loss: 0.0475 - output_1_loss: 1.2469e-04 - output_2_loss: 0.0474\n",
      "Epoch 84/100\n",
      "29/29 [==============================] - 0s 12ms/step - loss: 0.0620 - output_1_loss: 1.9952e-04 - output_2_loss: 0.0618\n",
      "Epoch 85/100\n",
      "29/29 [==============================] - 0s 7ms/step - loss: 0.0734 - output_1_loss: 2.8111e-04 - output_2_loss: 0.0731\n",
      "Epoch 86/100\n",
      "29/29 [==============================] - 0s 9ms/step - loss: 0.0401 - output_1_loss: 9.4932e-05 - output_2_loss: 0.0400\n",
      "Epoch 87/100\n",
      "29/29 [==============================] - 0s 10ms/step - loss: 0.0352 - output_1_loss: 1.5613e-04 - output_2_loss: 0.0350\n",
      "Epoch 88/100\n",
      "29/29 [==============================] - 0s 7ms/step - loss: 0.0378 - output_1_loss: 2.0924e-04 - output_2_loss: 0.0376\n",
      "Epoch 89/100\n",
      "29/29 [==============================] - 0s 7ms/step - loss: 0.0394 - output_1_loss: 2.8825e-04 - output_2_loss: 0.0391\n",
      "Epoch 90/100\n",
      "29/29 [==============================] - 0s 8ms/step - loss: 0.0496 - output_1_loss: 3.8716e-04 - output_2_loss: 0.0492\n",
      "Epoch 91/100\n",
      "29/29 [==============================] - 0s 7ms/step - loss: 0.0464 - output_1_loss: 3.6435e-04 - output_2_loss: 0.0460\n",
      "Epoch 92/100\n",
      "29/29 [==============================] - 0s 7ms/step - loss: 0.0418 - output_1_loss: 3.4827e-04 - output_2_loss: 0.0415\n",
      "Epoch 93/100\n",
      "29/29 [==============================] - 0s 7ms/step - loss: 0.0472 - output_1_loss: 4.5195e-04 - output_2_loss: 0.0467\n",
      "Epoch 94/100\n",
      "29/29 [==============================] - 0s 10ms/step - loss: 0.0305 - output_1_loss: 4.2057e-04 - output_2_loss: 0.0301\n",
      "Epoch 95/100\n",
      "29/29 [==============================] - 0s 7ms/step - loss: 0.0282 - output_1_loss: 4.6182e-04 - output_2_loss: 0.0278\n",
      "Epoch 96/100\n",
      "29/29 [==============================] - 0s 10ms/step - loss: 0.0415 - output_1_loss: 3.9756e-04 - output_2_loss: 0.0411\n",
      "Epoch 97/100\n",
      "29/29 [==============================] - 0s 8ms/step - loss: 0.0256 - output_1_loss: 4.7936e-04 - output_2_loss: 0.0251\n",
      "Epoch 98/100\n",
      "29/29 [==============================] - 0s 15ms/step - loss: 0.0375 - output_1_loss: 5.0414e-04 - output_2_loss: 0.0370\n",
      "Epoch 99/100\n",
      "29/29 [==============================] - 0s 10ms/step - loss: 0.0350 - output_1_loss: 4.9992e-04 - output_2_loss: 0.0345\n",
      "Epoch 100/100\n",
      "29/29 [==============================] - 0s 11ms/step - loss: 0.0268 - output_1_loss: 5.2197e-04 - output_2_loss: 0.0262\n"
     ]
    },
    {
     "data": {
      "text/plain": [
       "<tensorflow.python.keras.callbacks.History at 0x7f64b425cfa0>"
      ]
     },
     "execution_count": 635,
     "metadata": {},
     "output_type": "execute_result"
    }
   ],
   "source": [
    "poisson_NN.fit(x=X_tr, y=Y_tr,epochs=100)"
   ]
  },
  {
   "cell_type": "markdown",
   "metadata": {},
   "source": [
    "## Testing the trained network"
   ]
  },
  {
   "cell_type": "code",
   "execution_count": 636,
   "metadata": {
    "scrolled": true
   },
   "outputs": [],
   "source": [
    "X_test_st = np.random.uniform(-1,1,100).reshape(100,1)"
   ]
  },
  {
   "cell_type": "markdown",
   "metadata": {},
   "source": [
    "### Scaling the test set (only if the trainng data was scaled)"
   ]
  },
  {
   "cell_type": "code",
   "execution_count": 637,
   "metadata": {},
   "outputs": [],
   "source": [
    "# #Scaling test set\n",
    "# X_test_st_2 = scaler.transform(X_test_st)\n",
    "\n",
    "#xtrain: mean, std: -0.005627660222786496 4.520744138916567"
   ]
  },
  {
   "cell_type": "code",
   "execution_count": 638,
   "metadata": {},
   "outputs": [],
   "source": [
    "Y_test = poisson_NN.predict(X_test_st)"
   ]
  },
  {
   "cell_type": "markdown",
   "metadata": {},
   "source": [
    "### Plotting the true and predicted solutions"
   ]
  },
  {
   "cell_type": "code",
   "execution_count": 662,
   "metadata": {},
   "outputs": [
    {
     "data": {
      "text/plain": [
       "Text(0.5, 1.0, 'True solution')"
      ]
     },
     "execution_count": 662,
     "metadata": {},
     "output_type": "execute_result"
    },
    {
     "data": {
      "image/png": "[encoded data removed]",
      "text/plain": [
       "<Figure size 1080x504 with 2 Axes>"
      ]
     },
     "metadata": {
      "needs_background": "light"
     },
     "output_type": "display_data"
    }
   ],
   "source": [
    "# fig, ax = plt.subplots(nrows=2,ncols=2, figsize=(10,10))\n",
    "#plotting predicted solution\n",
    "plt.figure(figsize=(15,7))\n",
    "plt.subplot(1,2,1)\n",
    "plt.scatter(X_test_st, Y_test[0][:,0])\n",
    "plt.title(\"Predicted solution\")\n",
    "\n",
    "plt.subplot(1,2,2)\n",
    "plt.scatter(X_test_st, 3*np.sin(4*X_test_st), c=\"r\")\n",
    "plt.title(\"True solution\")\n"
   ]
  },
  {
   "cell_type": "code",
   "execution_count": 664,
   "metadata": {},
   "outputs": [
    {
     "data": {
      "image/png": "[encoded data removed]",
      "text/plain": [
       "<Figure size 720x360 with 1 Axes>"
      ]
     },
     "metadata": {
      "needs_background": "light"
     },
     "output_type": "display_data"
    }
   ],
   "source": [
    "#True vs predicted solution\n",
    "plt.figure(figsize=(10,5))\n",
    "plt.scatter(np.sin(4*X_test_st), Y_test[0][:,0], c=\"g\")\n",
    "plt.title(\"True solution vs predicted solution\")\n",
    "plt.xlabel(\"True solution\")\n",
    "plt.ylabel(\"Predicted solution\")\n",
    "plt.show()"
   ]
  },
  {
   "cell_type": "markdown",
   "metadata": {},
   "source": [
    "### Notes to be made"
   ]
  },
  {
   "cell_type": "markdown",
   "metadata": {},
   "source": [
    "- For second order pde, some form of normalization is needed for convergence.\n",
    "- If the the input data already comes normalized, there is no problem.\n",
    "- If the data is not normalized, then we would want to some kind of normalization technique like batch normalization or normalization of incoming data."
   ]
  }
 ],
 "metadata": {
  "kernelspec": {
   "display_name": "Python 3",
   "language": "python",
   "name": "python3"
  },
  "language_info": {
   "codemirror_mode": {
    "name": "ipython",
    "version": 3
   },
   "file_extension": ".py",
   "mimetype": "text/x-python",
   "name": "python",
   "nbconvert_exporter": "python",
   "pygments_lexer": "ipython3",
   "version": "3.8.3"
  }
 },
 "nbformat": 4,
 "nbformat_minor": 4
}
