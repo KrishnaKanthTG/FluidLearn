{
 "cells": [
  {
   "cell_type": "markdown",
   "metadata": {},
   "source": [
    "__Author: Manu Jayadharan, University of Pittsburgh, 2020__"
   ]
  },
  {
   "cell_type": "markdown",
   "metadata": {},
   "source": [
    "# Using fluidlearn to solve diffusion equation"
   ]
  },
  {
   "cell_type": "markdown",
   "metadata": {},
   "source": [
    "Equation to solve: $u_t-\\Delta u -f  = 0$\n",
    "over domain $\\Omega$ from time T_initial to T_final."
   ]
  },
  {
   "cell_type": "markdown",
   "metadata": {},
   "source": [
    "For demonstration purposes we take $f=sin(x_1 + x_2) + tsin(x_1 + x_2)$ and $\\Omega = [-2,2]\\times [0,1]$ and the time interval to be $[0,1]$, so we can compare the results with the actual solution $u=tsin(x_1 + x_2)$."
   ]
  },
  {
   "cell_type": "code",
   "execution_count": 1,
   "metadata": {},
   "outputs": [],
   "source": [
    "#Import fluidlearn package and classes\n",
    "import fluidlearn\n",
    "from fluidlearn import dataprocess"
   ]
  },
  {
   "cell_type": "markdown",
   "metadata": {},
   "source": [
    "### Defining the domain and time interval for which the PDE needs to be solved.\n",
    "This matters only for generating collocation points and if the user is feeding their own collocation points,\n",
    "they can skip this step."
   ]
  },
  {
   "cell_type": "code",
   "execution_count": 2,
   "metadata": {},
   "outputs": [],
   "source": [
    "#domain range\n",
    "X_1_domain = [-2, 2]\n",
    "X_2_domain = [0, 1]\n",
    "#time range\n",
    "T_initial = 0\n",
    "T_final = 1\n",
    "T_domain = [T_initial, T_final]\n",
    "\n",
    "#domain of the problem\n",
    "domain_bounds = [X_1_domain, X_2_domain, T_domain]"
   ]
  },
  {
   "cell_type": "markdown",
   "metadata": {},
   "source": [
    "### Loading data from a csv file\n",
    "- We use the manufactured data with $u=tsin(x_1 + x_2)$ saved in a csv file.\n",
    "- Data is saved in the format: ($x_1 , x_2, t, u(x_1, x_2, t)$) as four columns.\n",
    "- You could load either preprocess your data to be in this format or load your data\n",
    "  from a csv file with similar format."
   ]
  },
  {
   "cell_type": "code",
   "execution_count": 3,
   "metadata": {},
   "outputs": [],
   "source": [
    "path_to_data = \"data_manufactured/t_sin_x_plus_y.csv\"\n",
    "X_data, Y_data = dataprocess.imp_from_csv(path_to_csv_file=path_to_data,\n",
    "                                           x_y_combined=True, y_dim=1)"
   ]
  },
  {
   "cell_type": "markdown",
   "metadata": {},
   "source": [
    "### Defining the rhs function $f=sin(x_1 + x_2) + tsin(x_1 + x_2)$ of the PDE.\n",
    "We use tensorflow.sin function instead of python functions, we could used numpy.sin as well."
   ]
  },
  {
   "cell_type": "code",
   "execution_count": 4,
   "metadata": {},
   "outputs": [],
   "source": [
    "def rhs_function (args, time_dep=True):\n",
    "        import tensorflow as tf\n",
    "        if time_dep:\n",
    "            space_inputs = args[:-1]\n",
    "            time_inputs = args[-1]\n",
    "        else:\n",
    "            space_inputs = args\n",
    "        \n",
    "        return tf.sin(space_inputs[0]+space_inputs[1]) + 2*time_inputs*tf.sin(space_inputs[0]+space_inputs[1])"
   ]
  },
  {
   "cell_type": "markdown",
   "metadata": {},
   "source": [
    "### Defining the model architecture"
   ]
  },
  {
   "cell_type": "code",
   "execution_count": 5,
   "metadata": {},
   "outputs": [],
   "source": [
    "model_type = 'forward'\n",
    "space_dim = 2 #dimension of Omega\n",
    "time_depedent_problem = True\n",
    "n_hid_lay=3 #numberof hidden layers in the neural network\n",
    "n_hid_nrn=20 #number of neurons in each hidden layer\n",
    "act_func='tanh' #activation function used for hidden layers:  could be elu, relu, sigmoid\n",
    "loss_list='mse' #type of error function used for cost functin, we use mean squared error.\n",
    "optimizer='adam' #type of optimizer for cost function minimization\n",
    "dom_bounds=domain_bounds #domain bounds where collocation points has to be generated\n",
    "\n",
    "distribution = 'uniform' #type of distribution used for generating the pde collocation points.\n",
    "number_of_collocation_points = 5000\n",
    "\n",
    "batch_size = 32 #batch size for stochastic batch gradient type optimization\n",
    "num_epochs = 10 #number of epochs used for trainng  "
   ]
  },
  {
   "cell_type": "markdown",
   "metadata": {},
   "source": [
    "### Defining the fluidlearn solver "
   ]
  },
  {
   "cell_type": "code",
   "execution_count": 41,
   "metadata": {},
   "outputs": [],
   "source": [
    "diffusion_model = fluidlearn.Solver()"
   ]
  },
  {
   "cell_type": "code",
   "execution_count": 42,
   "metadata": {},
   "outputs": [],
   "source": [
    "diffusion_model(model_type=model_type,\n",
    "            space_dim=space_dim,\n",
    "            time_dep=time_depedent_problem,\n",
    "            output_dim=1,\n",
    "            n_hid_lay=n_hid_lay,\n",
    "            n_hid_nrn=n_hid_lay,\n",
    "            act_func=act_func,\n",
    "            rhs_func=rhs_function,\n",
    "            loss_list=loss_list,\n",
    "            optimizer=optimizer,\n",
    "            dom_bounds=dom_bounds,\n",
    "            load_model=False,\n",
    "            model_path=None,)"
   ]
  },
  {
   "cell_type": "markdown",
   "metadata": {},
   "source": [
    "### Fitting the model"
   ]
  },
  {
   "cell_type": "code",
   "execution_count": 44,
   "metadata": {
    "scrolled": true
   },
   "outputs": [
    {
     "name": "stdout",
     "output_type": "stream",
     "text": [
      "Epoch 1/10\n",
      "219/219 [==============================] - 0s 2ms/step - loss: 0.2146 - output_1_loss: 0.0297 - output_2_loss: 0.1849\n",
      "Epoch 2/10\n",
      "219/219 [==============================] - 0s 2ms/step - loss: 0.1877 - output_1_loss: 0.0355 - output_2_loss: 0.1521\n",
      "Epoch 3/10\n",
      "219/219 [==============================] - 0s 2ms/step - loss: 0.1598 - output_1_loss: 0.0388 - output_2_loss: 0.1210\n",
      "Epoch 4/10\n",
      "219/219 [==============================] - 0s 2ms/step - loss: 0.1298 - output_1_loss: 0.0367 - output_2_loss: 0.0931\n",
      "Epoch 5/10\n",
      "219/219 [==============================] - 0s 1ms/step - loss: 0.0966 - output_1_loss: 0.0304 - output_2_loss: 0.0662\n",
      "Epoch 6/10\n",
      "219/219 [==============================] - 0s 2ms/step - loss: 0.0709 - output_1_loss: 0.0228 - output_2_loss: 0.0480\n",
      "Epoch 7/10\n",
      "219/219 [==============================] - 0s 2ms/step - loss: 0.0572 - output_1_loss: 0.0194 - output_2_loss: 0.0378\n",
      "Epoch 8/10\n",
      "219/219 [==============================] - 0s 2ms/step - loss: 0.0490 - output_1_loss: 0.0179 - output_2_loss: 0.0311\n",
      "Epoch 9/10\n",
      "219/219 [==============================] - 0s 2ms/step - loss: 0.0436 - output_1_loss: 0.0175 - output_2_loss: 0.0262\n",
      "Epoch 10/10\n",
      "219/219 [==============================] - 0s 2ms/step - loss: 0.0402 - output_1_loss: 0.0166 - output_2_loss: 0.0235\n"
     ]
    }
   ],
   "source": [
    "diffusion_model.fit(\n",
    "    x=X_data,\n",
    "    y=Y_data,\n",
    "    colloc_points=number_of_collocation_points,\n",
    "    dist=distribution,\n",
    "    batch_size=batch_size,\n",
    "    epochs=num_epochs,\n",
    ")"
   ]
  },
  {
   "cell_type": "markdown",
   "metadata": {},
   "source": [
    "### Resuming Training  the model again for 50 more epochs"
   ]
  },
  {
   "cell_type": "code",
   "execution_count": 45,
   "metadata": {},
   "outputs": [
    {
     "name": "stdout",
     "output_type": "stream",
     "text": [
      "Epoch 1/50\n",
      "219/219 [==============================] - 0s 2ms/step - loss: 0.0367 - output_1_loss: 0.0160 - output_2_loss: 0.0207\n",
      "Epoch 2/50\n",
      "219/219 [==============================] - 0s 2ms/step - loss: 0.0343 - output_1_loss: 0.0150 - output_2_loss: 0.0193\n",
      "Epoch 3/50\n",
      "219/219 [==============================] - 0s 2ms/step - loss: 0.0320 - output_1_loss: 0.0145 - output_2_loss: 0.0176\n",
      "Epoch 4/50\n",
      "219/219 [==============================] - 0s 2ms/step - loss: 0.0304 - output_1_loss: 0.0138 - output_2_loss: 0.0166\n",
      "Epoch 5/50\n",
      "219/219 [==============================] - 0s 1ms/step - loss: 0.0286 - output_1_loss: 0.0129 - output_2_loss: 0.0157\n",
      "Epoch 6/50\n",
      "219/219 [==============================] - 0s 2ms/step - loss: 0.0270 - output_1_loss: 0.0122 - output_2_loss: 0.0148\n",
      "Epoch 7/50\n",
      "219/219 [==============================] - 0s 2ms/step - loss: 0.0254 - output_1_loss: 0.0113 - output_2_loss: 0.0141\n",
      "Epoch 8/50\n",
      "219/219 [==============================] - 0s 2ms/step - loss: 0.0242 - output_1_loss: 0.0106 - output_2_loss: 0.0135\n",
      "Epoch 9/50\n",
      "219/219 [==============================] - 0s 2ms/step - loss: 0.0226 - output_1_loss: 0.0099 - output_2_loss: 0.0127\n",
      "Epoch 10/50\n",
      "219/219 [==============================] - 0s 2ms/step - loss: 0.0213 - output_1_loss: 0.0090 - output_2_loss: 0.0122\n",
      "Epoch 11/50\n",
      "219/219 [==============================] - 0s 2ms/step - loss: 0.0198 - output_1_loss: 0.0083 - output_2_loss: 0.0115\n",
      "Epoch 12/50\n",
      "219/219 [==============================] - 0s 2ms/step - loss: 0.0183 - output_1_loss: 0.0075 - output_2_loss: 0.0108\n",
      "Epoch 13/50\n",
      "219/219 [==============================] - 0s 2ms/step - loss: 0.0168 - output_1_loss: 0.0066 - output_2_loss: 0.0101\n",
      "Epoch 14/50\n",
      "219/219 [==============================] - 0s 2ms/step - loss: 0.0148 - output_1_loss: 0.0056 - output_2_loss: 0.0092\n",
      "Epoch 15/50\n",
      "219/219 [==============================] - 0s 2ms/step - loss: 0.0129 - output_1_loss: 0.0048 - output_2_loss: 0.0081\n",
      "Epoch 16/50\n",
      "219/219 [==============================] - 0s 2ms/step - loss: 0.0109 - output_1_loss: 0.0038 - output_2_loss: 0.0070\n",
      "Epoch 17/50\n",
      "219/219 [==============================] - 0s 2ms/step - loss: 0.0089 - output_1_loss: 0.0031 - output_2_loss: 0.0058\n",
      "Epoch 18/50\n",
      "219/219 [==============================] - 0s 2ms/step - loss: 0.0070 - output_1_loss: 0.0025 - output_2_loss: 0.0046\n",
      "Epoch 19/50\n",
      "219/219 [==============================] - 0s 2ms/step - loss: 0.0056 - output_1_loss: 0.0020 - output_2_loss: 0.0036\n",
      "Epoch 20/50\n",
      "219/219 [==============================] - 0s 2ms/step - loss: 0.0047 - output_1_loss: 0.0018 - output_2_loss: 0.0029\n",
      "Epoch 21/50\n",
      "219/219 [==============================] - 0s 2ms/step - loss: 0.0039 - output_1_loss: 0.0016 - output_2_loss: 0.0023\n",
      "Epoch 22/50\n",
      "219/219 [==============================] - 0s 2ms/step - loss: 0.0035 - output_1_loss: 0.0015 - output_2_loss: 0.0020\n",
      "Epoch 23/50\n",
      "219/219 [==============================] - 0s 2ms/step - loss: 0.0031 - output_1_loss: 0.0014 - output_2_loss: 0.0017\n",
      "Epoch 24/50\n",
      "219/219 [==============================] - 0s 2ms/step - loss: 0.0028 - output_1_loss: 0.0013 - output_2_loss: 0.0015\n",
      "Epoch 25/50\n",
      "219/219 [==============================] - 0s 2ms/step - loss: 0.0025 - output_1_loss: 0.0012 - output_2_loss: 0.0013\n",
      "Epoch 26/50\n",
      "219/219 [==============================] - 0s 2ms/step - loss: 0.0023 - output_1_loss: 0.0011 - output_2_loss: 0.0012\n",
      "Epoch 27/50\n",
      "219/219 [==============================] - 0s 2ms/step - loss: 0.0021 - output_1_loss: 0.0011 - output_2_loss: 0.0011\n",
      "Epoch 28/50\n",
      "219/219 [==============================] - 0s 2ms/step - loss: 0.0019 - output_1_loss: 9.6183e-04 - output_2_loss: 9.5103e-04\n",
      "Epoch 29/50\n",
      "219/219 [==============================] - 0s 2ms/step - loss: 0.0017 - output_1_loss: 9.0621e-04 - output_2_loss: 8.3377e-04\n",
      "Epoch 30/50\n",
      "219/219 [==============================] - 0s 2ms/step - loss: 0.0016 - output_1_loss: 8.5757e-04 - output_2_loss: 7.6970e-04\n",
      "Epoch 31/50\n",
      "219/219 [==============================] - 0s 2ms/step - loss: 0.0015 - output_1_loss: 8.0180e-04 - output_2_loss: 6.7573e-04\n",
      "Epoch 32/50\n",
      "219/219 [==============================] - 0s 2ms/step - loss: 0.0014 - output_1_loss: 7.5866e-04 - output_2_loss: 6.2616e-04\n",
      "Epoch 33/50\n",
      "219/219 [==============================] - 0s 2ms/step - loss: 0.0013 - output_1_loss: 7.2239e-04 - output_2_loss: 5.5569e-04\n",
      "Epoch 34/50\n",
      "219/219 [==============================] - 0s 2ms/step - loss: 0.0012 - output_1_loss: 6.8165e-04 - output_2_loss: 4.9617e-04\n",
      "Epoch 35/50\n",
      "219/219 [==============================] - 0s 2ms/step - loss: 0.0011 - output_1_loss: 6.4506e-04 - output_2_loss: 4.5623e-04\n",
      "Epoch 36/50\n",
      "219/219 [==============================] - 0s 2ms/step - loss: 0.0011 - output_1_loss: 6.2371e-04 - output_2_loss: 4.3896e-04\n",
      "Epoch 37/50\n",
      "219/219 [==============================] - 0s 2ms/step - loss: 9.8307e-04 - output_1_loss: 5.9644e-04 - output_2_loss: 3.8664e-04\n",
      "Epoch 38/50\n",
      "219/219 [==============================] - 0s 2ms/step - loss: 9.4429e-04 - output_1_loss: 5.7172e-04 - output_2_loss: 3.7257e-04\n",
      "Epoch 39/50\n",
      "219/219 [==============================] - 0s 2ms/step - loss: 8.8748e-04 - output_1_loss: 5.3745e-04 - output_2_loss: 3.5004e-04\n",
      "Epoch 40/50\n",
      "219/219 [==============================] - 0s 2ms/step - loss: 8.6691e-04 - output_1_loss: 5.1713e-04 - output_2_loss: 3.4978e-04\n",
      "Epoch 41/50\n",
      "219/219 [==============================] - 0s 2ms/step - loss: 8.1541e-04 - output_1_loss: 4.9690e-04 - output_2_loss: 3.1851e-04\n",
      "Epoch 42/50\n",
      "219/219 [==============================] - 0s 2ms/step - loss: 7.9440e-04 - output_1_loss: 4.8338e-04 - output_2_loss: 3.1103e-04\n",
      "Epoch 43/50\n",
      "219/219 [==============================] - 0s 2ms/step - loss: 8.1476e-04 - output_1_loss: 4.7769e-04 - output_2_loss: 3.3707e-04\n",
      "Epoch 44/50\n",
      "219/219 [==============================] - 0s 2ms/step - loss: 7.8507e-04 - output_1_loss: 4.7123e-04 - output_2_loss: 3.1384e-04\n",
      "Epoch 45/50\n",
      "219/219 [==============================] - 0s 2ms/step - loss: 7.6107e-04 - output_1_loss: 4.5173e-04 - output_2_loss: 3.0934e-04\n",
      "Epoch 46/50\n",
      "219/219 [==============================] - 0s 2ms/step - loss: 7.3157e-04 - output_1_loss: 4.3707e-04 - output_2_loss: 2.9450e-04\n",
      "Epoch 47/50\n",
      "219/219 [==============================] - 0s 2ms/step - loss: 7.1687e-04 - output_1_loss: 4.2378e-04 - output_2_loss: 2.9309e-04\n",
      "Epoch 48/50\n",
      "219/219 [==============================] - 0s 2ms/step - loss: 7.0904e-04 - output_1_loss: 4.2875e-04 - output_2_loss: 2.8029e-04\n",
      "Epoch 49/50\n",
      "219/219 [==============================] - 0s 2ms/step - loss: 6.8987e-04 - output_1_loss: 4.0897e-04 - output_2_loss: 2.8089e-04\n",
      "Epoch 50/50\n",
      "219/219 [==============================] - 0s 2ms/step - loss: 6.7420e-04 - output_1_loss: 4.0158e-04 - output_2_loss: 2.7262e-04\n"
     ]
    }
   ],
   "source": [
    "diffusion_model.fit(\n",
    "    x=X_data,\n",
    "    y=Y_data,\n",
    "    colloc_points=number_of_collocation_points,\n",
    "    dist=distribution,\n",
    "    batch_size=batch_size,\n",
    "    epochs=50,\n",
    ")"
   ]
  },
  {
   "cell_type": "markdown",
   "metadata": {},
   "source": [
    "### Saving the model to a specified location."
   ]
  },
  {
   "cell_type": "code",
   "execution_count": 48,
   "metadata": {},
   "outputs": [
    {
     "name": "stdout",
     "output_type": "stream",
     "text": [
      "WARNING:tensorflow:From C:\\Users\\manuj\\anaconda3\\envs\\tf2\\lib\\site-packages\\tensorflow\\python\\training\\tracking\\tracking.py:111: Model.state_updates (from tensorflow.python.keras.engine.training) is deprecated and will be removed in a future version.\n",
      "Instructions for updating:\n",
      "This property should not be used in TensorFlow 2.0, as updates are applied automatically.\n",
      "WARNING:tensorflow:From C:\\Users\\manuj\\anaconda3\\envs\\tf2\\lib\\site-packages\\tensorflow\\python\\training\\tracking\\tracking.py:111: Layer.updates (from tensorflow.python.keras.engine.base_layer) is deprecated and will be removed in a future version.\n",
      "Instructions for updating:\n",
      "This property should not be used in TensorFlow 2.0, as updates are applied automatically.\n",
      "INFO:tensorflow:Assets written to: saved_model/model_name\\assets\n"
     ]
    }
   ],
   "source": [
    "path_to_save_model = \"saved_model/model_name\"\n",
    "diffusion_model.save_model(path_to_save_model)"
   ]
  },
  {
   "cell_type": "markdown",
   "metadata": {},
   "source": [
    "### Loading the saved model "
   ]
  },
  {
   "cell_type": "code",
   "execution_count": 6,
   "metadata": {},
   "outputs": [],
   "source": [
    "path_to_load_model = \"saved_model/model_name\""
   ]
  },
  {
   "cell_type": "code",
   "execution_count": 7,
   "metadata": {},
   "outputs": [],
   "source": [
    "loaded_diffusion_model = fluidlearn.Solver()"
   ]
  },
  {
   "cell_type": "code",
   "execution_count": 8,
   "metadata": {},
   "outputs": [],
   "source": [
    "loaded_diffusion_model(space_dim=2,\n",
    "    time_dep=True,\n",
    "    load_model=True,\n",
    "    model_path=path_to_load_model)"
   ]
  },
  {
   "cell_type": "markdown",
   "metadata": {},
   "source": [
    "### Predicting using loaded model"
   ]
  },
  {
   "cell_type": "code",
   "execution_count": 9,
   "metadata": {},
   "outputs": [],
   "source": [
    "y_predicted = loaded_diffusion_model.predict(X_data)"
   ]
  },
  {
   "cell_type": "code",
   "execution_count": 10,
   "metadata": {},
   "outputs": [
    {
     "data": {
      "text/plain": [
       "array([[-0.10157388],\n",
       "       [-0.4190994 ],\n",
       "       [-0.7965628 ],\n",
       "       ...,\n",
       "       [-0.10375804],\n",
       "       [ 0.05802408],\n",
       "       [-0.00470909]], dtype=float32)"
      ]
     },
     "execution_count": 10,
     "metadata": {},
     "output_type": "execute_result"
    }
   ],
   "source": [
    "y_predicted"
   ]
  },
  {
   "cell_type": "code",
   "execution_count": null,
   "metadata": {},
   "outputs": [],
   "source": []
  }
 ],
 "metadata": {
  "kernelspec": {
   "display_name": "Python 3",
   "language": "python",
   "name": "python3"
  },
  "language_info": {
   "codemirror_mode": {
    "name": "ipython",
    "version": 3
   },
   "file_extension": ".py",
   "mimetype": "text/x-python",
   "name": "python",
   "nbconvert_exporter": "python",
   "pygments_lexer": "ipython3",
   "version": "3.8.5"
  }
 },
 "nbformat": 4,
 "nbformat_minor": 4
}
