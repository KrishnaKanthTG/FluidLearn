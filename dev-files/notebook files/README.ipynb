{
 "cells": [
  {
   "cell_type": "markdown",
   "metadata": {},
   "source": [
    "# [FluidLearn](https://github.com/mjayadharan/FluidLearn)\n",
    "-------------------------"
   ]
  },
  {
   "cell_type": "markdown",
   "metadata": {},
   "source": [
    "FluidLearn is a software package with python interface, capable of solving non-linear fluid flow problems using supervised deep learning techniques. The solution function is approximated as a neural network, which will be trained using labelled data.  \n",
    "\n",
    "Conceptually, this API could be used to solve any well-posed PDE system, given enough labelled data in the form of boundary and initial conditions. The architecture could also be used for physical parameter estimation and surrogate modelling. As of now, the package is oriented towards PDE systems governing fluid flow problems with many popular flow systems inbuilt.  Users have the option to train the model from external data, visualize the training curves, save the model, reload the model, continue training the saved model or make predictions from the saved models.   \n",
    "\n",
    "The package could be seen as an application of the [Physics Informed Neural Networks (PINNs)](https://arxiv.org/abs/1711.10561) which are artificial neural nets training with PDE constraints. The idea was first introduced in [this publication](https://arxiv.org/pdf/1711.10561.pdf) in 2017. For more details on the mathematical theory behind PINNs, please visit the website maintained by the author of the aforementioned publication [here](https://maziarraissi.github.io/PINNs/).  \n",
    "A graphical representation of a feed forward type neural net used in the training is shown below.\n",
    "\n"
   ]
  },
  {
   "cell_type": "markdown",
   "metadata": {},
   "source": [
    "![flow_learn_diagram](https://user-images.githubusercontent.com/35903705/90431457-b2ebd800-e08e-11ea-9bdd-dde98b2673f7.jpg)"
   ]
  },
  {
   "cell_type": "markdown",
   "metadata": {},
   "source": [
    "The FluidLearn api is built on top of tensorflow with keras model subclassing. Most of the  details are hidden from the end user, who will be dealing only with the fluidlearn package interface. For developers, with knowledge of keras and tensor flow APIs, who would like more control over the package or would like to add more features could do so easily by inspecting the modulular structure of the package. For all users, except developers, installation of the package from python's official [PyPi distribution](https://pypi.org/project/fluidlearn/) or pip is recommended. The latter users could use the code directly from [here](https://github.com/mjayadharan/FluidLearn/tree/master/fluidlearn) after setting up dependencies.  \n",
    "While the users will find no problem accessing the package through a regular python script, just like with any other machine learning library, it will be visually advantageous to use a notebook setting like jupyter notebook. For this reason, all the demo examples are available in both python(.py) and jupyter notebook (.ipynb) formats."
   ]
  },
  {
   "cell_type": "markdown",
   "metadata": {},
   "source": [
    "![fluidlearn-dependency](https://user-images.githubusercontent.com/35903705/90439301-f5b3ad00-e09a-11ea-87bd-74a873bcfa3f.png)"
   ]
  },
  {
   "cell_type": "markdown",
   "metadata": {},
   "source": [
    "### Author \n",
    "------------"
   ]
  },
  {
   "cell_type": "markdown",
   "metadata": {},
   "source": [
    "Manu Jayadharan, Department of Mathematics at University of Pittsburgh, 2020.  \n",
    "email: [manu.jayadharan@gmail.com](mailto:manu.jayadharan@gmail.com), [manu.jayadharan@pitt.edu](mailto:manu.jayadharan@pitt.edu)  \n",
    "[researchgate](https://www.researchgate.net/profile/Manu_Jayadharan)  \n",
    "[linkedin](https://www.linkedin.com/in/manu-jayadharan/)"
   ]
  },
  {
   "cell_type": "markdown",
   "metadata": {},
   "source": [
    "## Installation\n",
    "-----------------------"
   ]
  },
  {
   "cell_type": "markdown",
   "metadata": {},
   "source": [
    "FluidLearn depends primarily on tensorflow (>=v2.2) and numpy. Make sure you have these packages already available, otherwise please follow the instructions below to install them. Installing all packages inside a separate environment is always recommended in order to prevent version conflicts. You could either use [virtualenv](https://packaging.python.org/guides/installing-using-pip-and-virtual-environments/) package or a  package manager like [conda](https://docs.anaconda.com/anaconda/install/). "
   ]
  },
  {
   "cell_type": "markdown",
   "metadata": {},
   "source": [
    "#### Installing tensorflow\n",
    "Installing latest version of tensorflow would automatically install numpy as well. "
   ]
  },
  {
   "cell_type": "markdown",
   "metadata": {},
   "source": [
    "#to make sure latest verson of pip is installed.  \n",
    "`pip install --upgrade pip` \n",
    "#installing latest version of  tensorflow.      \n",
    "`pip install tensorflow`"
   ]
  },
  {
   "cell_type": "markdown",
   "metadata": {},
   "source": [
    "Once installed make sure that you have a compatible version of tensorflow by running the following commands inside a py script or notebook.  \n",
    "`import tensorflow as tf  \n",
    "import numpy as np\n",
    "tf.__version__ >= '2.2.0'\n",
    "`"
   ]
  },
  {
   "cell_type": "markdown",
   "metadata": {},
   "source": [
    "#### Installing FluidLearn"
   ]
  },
  {
   "cell_type": "markdown",
   "metadata": {},
   "source": [
    "`pip install fluidlearn`"
   ]
  },
  {
   "cell_type": "markdown",
   "metadata": {},
   "source": [
    "### Other recommended packages for easy visualization"
   ]
  },
  {
   "cell_type": "markdown",
   "metadata": {},
   "source": [
    "- jupyter notebook for more interactive interface  \n",
    "    using pip:  \n",
    "    `pip install notebook`   \n",
    "    using conda:  \n",
    "    `conda install jupyter`    \n",
    "- matplotlib for visualization  \n",
    "    using pip:  \n",
    "    `python -m pip install -U pip`  \n",
    "    `python -m pip install -U matplotlib`  \n",
    "    or using conda:   \n",
    "    `conda install matplotlib`"
   ]
  },
  {
   "cell_type": "markdown",
   "metadata": {},
   "source": [
    "## Getting started with FluidLearn"
   ]
  },
  {
   "cell_type": "markdown",
   "metadata": {},
   "source": [
    "- Go through [examples](https://github.com/mjayadharan/FluidLearn/tree/master/examples) to understand the user interface of fluidlearn. \n",
    "- Examples can be treated a tutorials with the two digit numerals at the beginning of the name indicating the order. For example examples/01_difussion_example is the first example in the series. This example shows how to upload data from a csv file, select nerual architechure, train the model, make prediction and finally how to save and reload the model. \n",
    "- All examples are given in both jupter notebook and .py formats."
   ]
  },
  {
   "cell_type": "markdown",
   "metadata": {},
   "source": [
    "## Coming in future versions"
   ]
  },
  {
   "cell_type": "markdown",
   "metadata": {},
   "source": [
    "- More examples demonstrating the abilities of the package.\n",
    "- More types of nueral network like convolutional nets.\n",
    "- Building user interface for physical parameter estimation."
   ]
  }
 ],
 "metadata": {
  "kernelspec": {
   "display_name": "Python 3",
   "language": "python",
   "name": "python3"
  },
  "language_info": {
   "codemirror_mode": {
    "name": "ipython",
    "version": 3
   },
   "file_extension": ".py",
   "mimetype": "text/x-python",
   "name": "python",
   "nbconvert_exporter": "python",
   "pygments_lexer": "ipython3",
   "version": "3.8.3"
  }
 },
 "nbformat": 4,
 "nbformat_minor": 4
}
